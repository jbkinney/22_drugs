{
 "cells": [
  {
   "cell_type": "code",
   "execution_count": 1,
   "id": "24a0ac5d-3237-4741-ab80-83de12f9a07e",
   "metadata": {
    "ExecuteTime": {
     "end_time": "2022-12-26T13:29:27.714779Z",
     "start_time": "2022-12-26T13:29:25.368058Z"
    }
   },
   "outputs": [
    {
     "name": "stderr",
     "output_type": "stream",
     "text": [
      "/Users/jkinney/miniforge3_arm64/lib/python3.9/site-packages/outdated/utils.py:14: OutdatedPackageWarning: The package pingouin is out of date. Your version is 0.3.12, the latest is 0.5.2.\n",
      "Set the environment variable OUTDATED_IGNORE=1 to disable these warnings.\n",
      "  return warn(\n",
      "/Users/jkinney/miniforge3_arm64/lib/python3.9/site-packages/outdated/utils.py:14: OutdatedPackageWarning: The package outdated is out of date. Your version is 0.2.1, the latest is 0.2.2.\n",
      "Set the environment variable OUTDATED_IGNORE=1 to disable these warnings.\n",
      "  return warn(\n"
     ]
    }
   ],
   "source": [
    "# Standard imports\n",
    "import pandas as pd\n",
    "import numpy as np\n",
    "import matplotlib\n",
    "import matplotlib.pyplot as plt\n",
    "from dataclasses import dataclass\n",
    "import time\n",
    "import pickle\n",
    "import pingouin as pg\n",
    "\n",
    "# Import x to one hot encoding\n",
    "import utils \n",
    "\n",
    "# Logomaker\n",
    "import logomaker\n",
    "\n",
    "# jax import\n",
    "import jax.random as random\n",
    "import jax.numpy as jnp\n",
    "from jax.numpy import DeviceArray\n",
    "\n",
    "# numpyro imports\n",
    "import numpyro\n",
    "import numpyro.distributions as dist\n",
    "from numpyro.infer import NUTS, MCMC, HMC, SVI\n",
    "from numpyro.infer import Predictive\n",
    "from numpyro.diagnostics import hpdi\n",
    "\n",
    "# arviz\n",
    "import arviz as az\n",
    "\n",
    "# For visualization. Note that this notebook won't be making figure, so don't need to be picky. \n",
    "#%matplotlib notebook\n",
    "%matplotlib inline"
   ]
  },
  {
   "cell_type": "code",
   "execution_count": 2,
   "id": "a7f40dd5-c72e-455c-a7ab-ed132216ba4f",
   "metadata": {
    "ExecuteTime": {
     "end_time": "2022-12-26T13:29:27.913487Z",
     "start_time": "2022-12-26T13:29:27.715676Z"
    }
   },
   "outputs": [],
   "source": [
    "@dataclass\n",
    "class args:\n",
    "    num_chains = 4\n",
    "    num_samples = 30000\n",
    "    num_warmup = 30000\n",
    "    device = 'cpu'\n",
    "    \n",
    "numpyro.set_platform(args.device)\n",
    "numpyro.set_host_device_count(args.num_chains)\n",
    "\n",
    "# generate random keys for training and predictions\n",
    "rng_key, rng_key_predict = random.split(random.PRNGKey(0))"
   ]
  },
  {
   "cell_type": "code",
   "execution_count": 3,
   "id": "cabde858",
   "metadata": {
    "ExecuteTime": {
     "end_time": "2022-12-26T13:29:27.916756Z",
     "start_time": "2022-12-26T13:29:27.914898Z"
    },
    "code_folding": []
   },
   "outputs": [],
   "source": [
    "def load_data(sheet_name=None):\n",
    "    # Name of excel file\n",
    "    file_name = '../data/qPCR/linear_mixture_curves.xlsx'\n",
    "    \n",
    "    # Return sheet names if none specified\n",
    "    if sheet_name is None:\n",
    "        return pd.ExcelFile(file_name).sheet_names\n",
    "    \n",
    "    data_df = pd.read_excel(file_name,\n",
    "                            sheet_name=sheet_name)\n",
    "    data_df.columns = ['drug1','drug2','rep','deltaCt']\n",
    "    \n",
    "    return data_df"
   ]
  },
  {
   "cell_type": "code",
   "execution_count": 4,
   "id": "514c5476",
   "metadata": {
    "ExecuteTime": {
     "end_time": "2022-12-26T13:29:28.001213Z",
     "start_time": "2022-12-26T13:29:27.917531Z"
    }
   },
   "outputs": [
    {
     "data": {
      "text/html": [
       "<div>\n",
       "<style scoped>\n",
       "    .dataframe tbody tr th:only-of-type {\n",
       "        vertical-align: middle;\n",
       "    }\n",
       "\n",
       "    .dataframe tbody tr th {\n",
       "        vertical-align: top;\n",
       "    }\n",
       "\n",
       "    .dataframe thead th {\n",
       "        text-align: right;\n",
       "    }\n",
       "</style>\n",
       "<table border=\"1\" class=\"dataframe\">\n",
       "  <thead>\n",
       "    <tr style=\"text-align: right;\">\n",
       "      <th></th>\n",
       "      <th>drug1</th>\n",
       "      <th>drug2</th>\n",
       "      <th>rep</th>\n",
       "      <th>deltaCt</th>\n",
       "    </tr>\n",
       "  </thead>\n",
       "  <tbody>\n",
       "    <tr>\n",
       "      <th>0</th>\n",
       "      <td>10</td>\n",
       "      <td>0</td>\n",
       "      <td>2</td>\n",
       "      <td>5.106479</td>\n",
       "    </tr>\n",
       "    <tr>\n",
       "      <th>1</th>\n",
       "      <td>10</td>\n",
       "      <td>0</td>\n",
       "      <td>1</td>\n",
       "      <td>5.243567</td>\n",
       "    </tr>\n",
       "    <tr>\n",
       "      <th>2</th>\n",
       "      <td>8</td>\n",
       "      <td>10</td>\n",
       "      <td>2</td>\n",
       "      <td>6.186193</td>\n",
       "    </tr>\n",
       "    <tr>\n",
       "      <th>3</th>\n",
       "      <td>8</td>\n",
       "      <td>10</td>\n",
       "      <td>1</td>\n",
       "      <td>6.173736</td>\n",
       "    </tr>\n",
       "    <tr>\n",
       "      <th>4</th>\n",
       "      <td>6</td>\n",
       "      <td>20</td>\n",
       "      <td>2</td>\n",
       "      <td>6.151590</td>\n",
       "    </tr>\n",
       "    <tr>\n",
       "      <th>5</th>\n",
       "      <td>6</td>\n",
       "      <td>20</td>\n",
       "      <td>1</td>\n",
       "      <td>6.167484</td>\n",
       "    </tr>\n",
       "    <tr>\n",
       "      <th>6</th>\n",
       "      <td>5</td>\n",
       "      <td>25</td>\n",
       "      <td>2</td>\n",
       "      <td>6.114139</td>\n",
       "    </tr>\n",
       "    <tr>\n",
       "      <th>7</th>\n",
       "      <td>5</td>\n",
       "      <td>25</td>\n",
       "      <td>1</td>\n",
       "      <td>5.962021</td>\n",
       "    </tr>\n",
       "    <tr>\n",
       "      <th>8</th>\n",
       "      <td>4</td>\n",
       "      <td>30</td>\n",
       "      <td>2</td>\n",
       "      <td>5.777797</td>\n",
       "    </tr>\n",
       "    <tr>\n",
       "      <th>9</th>\n",
       "      <td>4</td>\n",
       "      <td>30</td>\n",
       "      <td>1</td>\n",
       "      <td>5.703455</td>\n",
       "    </tr>\n",
       "    <tr>\n",
       "      <th>10</th>\n",
       "      <td>2</td>\n",
       "      <td>40</td>\n",
       "      <td>2</td>\n",
       "      <td>5.209295</td>\n",
       "    </tr>\n",
       "    <tr>\n",
       "      <th>11</th>\n",
       "      <td>2</td>\n",
       "      <td>40</td>\n",
       "      <td>1</td>\n",
       "      <td>5.390322</td>\n",
       "    </tr>\n",
       "    <tr>\n",
       "      <th>12</th>\n",
       "      <td>0</td>\n",
       "      <td>50</td>\n",
       "      <td>2</td>\n",
       "      <td>4.380761</td>\n",
       "    </tr>\n",
       "    <tr>\n",
       "      <th>13</th>\n",
       "      <td>0</td>\n",
       "      <td>50</td>\n",
       "      <td>1</td>\n",
       "      <td>4.355251</td>\n",
       "    </tr>\n",
       "  </tbody>\n",
       "</table>\n",
       "</div>"
      ],
      "text/plain": [
       "    drug1  drug2  rep   deltaCt\n",
       "0      10      0    2  5.106479\n",
       "1      10      0    1  5.243567\n",
       "2       8     10    2  6.186193\n",
       "3       8     10    1  6.173736\n",
       "4       6     20    2  6.151590\n",
       "5       6     20    1  6.167484\n",
       "6       5     25    2  6.114139\n",
       "7       5     25    1  5.962021\n",
       "8       4     30    2  5.777797\n",
       "9       4     30    1  5.703455\n",
       "10      2     40    2  5.209295\n",
       "11      2     40    1  5.390322\n",
       "12      0     50    2  4.380761\n",
       "13      0     50    1  4.355251"
      ]
     },
     "execution_count": 4,
     "metadata": {},
     "output_type": "execute_result"
    }
   ],
   "source": [
    "load_data(sheet_name='R_Ai6')"
   ]
  },
  {
   "cell_type": "code",
   "execution_count": 5,
   "id": "e8e5bbd0-c8ae-4a1c-a409-368d69881a33",
   "metadata": {
    "ExecuteTime": {
     "end_time": "2022-12-26T13:29:28.004403Z",
     "start_time": "2022-12-26T13:29:28.002110Z"
    },
    "code_folding": []
   },
   "outputs": [],
   "source": [
    "def ramp_model(x, y=None):\n",
    "    a = numpyro.sample(\"a\", dist.Normal(loc=0, scale=10))\n",
    "    b = numpyro.sample(\"b\", dist.Normal(loc=0, scale=10))\n",
    "    c = numpyro.sample(\"c\", dist.Normal(loc=0, scale=10))\n",
    "    log10_sigma = numpyro.sample(\"log10_sigma\", dist.Uniform(low=-3, high=-1))\n",
    "    sigma = numpyro.deterministic('sigma', 10.0**log10_sigma)\n",
    "    yhat = numpyro.deterministic('yhat', a + b*(x-.5) + c*(x-.5)**2)\n",
    "    numpyro.sample('y', dist.Normal(yhat, sigma), obs=y)\n",
    "    "
   ]
  },
  {
   "cell_type": "code",
   "execution_count": 6,
   "id": "a8132aff",
   "metadata": {
    "ExecuteTime": {
     "end_time": "2022-12-26T13:29:28.007430Z",
     "start_time": "2022-12-26T13:29:28.005174Z"
    },
    "code_folding": []
   },
   "outputs": [],
   "source": [
    "def plot_regression(model_prediction_dict, data_dict, ax):\n",
    "    x = data_dict['x'].ravel()\n",
    "    y = data_dict['y'].ravel()\n",
    "    \n",
    "    # Sort values for plotting by x axis\n",
    "    idx = jnp.argsort(x)\n",
    "    \n",
    "    x_plot = model_prediction_dict['concs'] #x[idx]\n",
    "    mean   = model_prediction_dict['mean'] #y_hat_mean[idx]\n",
    "    hpdi   = model_prediction_dict['hdpi'] #y_hat_hpdi[:, idx]\n",
    "    \n",
    "    # Plot\n",
    "    ax.scatter(x, y, label='data', s=20, c='k')\n",
    "    ax.fill_between(x_plot, hpdi[0,:].ravel(), \n",
    "                    hpdi[1,:].ravel(), alpha=0.3, \n",
    "                    interpolate=True, color='darkorange',\n",
    "                    label=r'$95\\%HDI$')\n",
    "    \n",
    "    ax.plot(x_plot, mean, label=r'$\\hat{C_t}$', c='royalblue')\n",
    "\n",
    "    return ax"
   ]
  },
  {
   "cell_type": "code",
   "execution_count": 7,
   "id": "39bca990",
   "metadata": {
    "ExecuteTime": {
     "end_time": "2022-12-26T13:29:28.010525Z",
     "start_time": "2022-12-26T13:29:28.008290Z"
    },
    "code_folding": [
     0
    ]
   },
   "outputs": [],
   "source": [
    "# def draw(ax, sheet_name, color):\n",
    "    \n",
    "#     drug_names_dict = {\n",
    "#         'R':'risdiplam',\n",
    "#         'B':'branaplam',\n",
    "#         'Ai6':'ASO i6',\n",
    "#         'Ai7':'ASO i7'\n",
    "#     }\n",
    "    \n",
    "#     ticks_dict = {\n",
    "#         'R':[0, 2, 4, 6, 8, 10],\n",
    "#         'B':[0, 2, 4, 6, 8, 10],\n",
    "#         'Ai6':[0, 10, 20, 30, 40, 50],\n",
    "#         'Ai7':[0, 5, 10, 15, 20, 25]\n",
    "#     }\n",
    "    \n",
    "#     ax1 = ax\n",
    "#     df = pd.read_excel('22.12.09 Linear combinations R B Ai7 Ai6.xlsx',\n",
    "#                        sheet_name=sheet_name)\n",
    "#     drug1, drug2 = sheet_name.split('_')\n",
    "#     x1 = df[drug1].values.reshape(-1,1)\n",
    "#     x2 = df[drug2].values.reshape(-1,1)\n",
    "#     y = df['deltaCt']\n",
    "\n",
    "#     ticks1=ticks_dict[drug1]\n",
    "#     ticks2=ticks_dict[drug2]\n",
    "    \n",
    "#     xmin1 = min(x1)\n",
    "#     xmax1 = max(x1)\n",
    "#     xspan1 = xmax1-xmin1\n",
    "#     xlabel1 = drug_names_dict[drug1]+' [nM]'\n",
    "    \n",
    "#     xmin2 = min(x2)\n",
    "#     xmax2 = max(x2)\n",
    "#     xspan2 = xmax2-xmin2\n",
    "#     xlabel2 = drug_names_dict[drug2]+' [nM]'\n",
    "    \n",
    "#     xgrid1 = np.linspace(xmin1, xmax1, 100)\n",
    "\n",
    "#     x = np.concatenate([x1, x1**2], axis=1)\n",
    "#     pgdf = pg.linear_regression(x, y)\n",
    "#     a = pgdf.loc[0,'coef']\n",
    "#     b = pgdf.loc[1,'coef']\n",
    "#     c = pgdf.loc[2,'coef']\n",
    "#     ygrid1 = a + b*xgrid1 + c*xgrid1**2\n",
    "    \n",
    "#     ax1.semilogy(x1, 2**y, 'o', alpha=.5, linewidth=0, color=color) \n",
    "#     ax1.semilogy(xgrid1, 2**ygrid1, '-', color=color)\n",
    "    \n",
    "#     ax1.set_xlim([xmin1-.1*xspan1,xmax1+.1*xspan1])\n",
    "#     ax1.set_ylim(ylim)\n",
    "#     ax1.set_xlabel(xlabel1, labelpad=5)\n",
    "#     ax1.set_xticks(ticks1)\n",
    "#     ax1.set_xticklabels(ticks1[::-1])\n",
    "    \n",
    "#     ax2 = ax1.twiny()\n",
    "#     ax2.set_xlim([xmin2-.1*xspan2,xmax2+.1*xspan2])\n",
    "#     ax2.set_xlabel(xlabel2, labelpad=5)\n",
    "#     ax2.set_xticks(ticks2)\n",
    "#     ax2.set_xticklabels(ticks2[::-1])\n",
    "    \n",
    "#     s = f'$P=${pgdf.loc[2,\"pval\"]:.1e}'\n",
    "#     ax1.text(s=s,x=xmin1, y=2**6.8, ha='left', va='top')\n",
    "    \n",
    "#     return pgdf"
   ]
  },
  {
   "cell_type": "code",
   "execution_count": 8,
   "id": "15ad41ee-7d1f-4055-82c6-93c23bcc508a",
   "metadata": {
    "ExecuteTime": {
     "end_time": "2022-12-26T13:29:47.265447Z",
     "start_time": "2022-12-26T13:29:28.011392Z"
    },
    "scrolled": false
   },
   "outputs": [
    {
     "name": "stdout",
     "output_type": "stream",
     "text": [
      "Processing R_B...\n",
      "\n",
      "Training using MCMC\n",
      "\n"
     ]
    },
    {
     "data": {
      "application/vnd.jupyter.widget-view+json": {
       "model_id": "42312bfac46f4cbd9a5e9dd88be19a03",
       "version_major": 2,
       "version_minor": 0
      },
      "text/plain": [
       "  0%|          | 0/60000 [00:00<?, ?it/s]"
      ]
     },
     "metadata": {},
     "output_type": "display_data"
    },
    {
     "data": {
      "application/vnd.jupyter.widget-view+json": {
       "model_id": "fcff604f6adf49a3863edd91c25a9c7b",
       "version_major": 2,
       "version_minor": 0
      },
      "text/plain": [
       "  0%|          | 0/60000 [00:00<?, ?it/s]"
      ]
     },
     "metadata": {},
     "output_type": "display_data"
    },
    {
     "data": {
      "application/vnd.jupyter.widget-view+json": {
       "model_id": "24437240ddce42988d6a88700928fbfb",
       "version_major": 2,
       "version_minor": 0
      },
      "text/plain": [
       "  0%|          | 0/60000 [00:00<?, ?it/s]"
      ]
     },
     "metadata": {},
     "output_type": "display_data"
    },
    {
     "data": {
      "application/vnd.jupyter.widget-view+json": {
       "model_id": "5dc9abae584e4bb1866a591857c9bdf6",
       "version_major": 2,
       "version_minor": 0
      },
      "text/plain": [
       "  0%|          | 0/60000 [00:00<?, ?it/s]"
      ]
     },
     "metadata": {},
     "output_type": "display_data"
    },
    {
     "name": "stdout",
     "output_type": "stream",
     "text": [
      "\n",
      "MCMC elapsed time: 2.4004218578338623\n",
      "Processing R_Ai6...\n",
      "\n",
      "Training using MCMC\n",
      "\n"
     ]
    },
    {
     "data": {
      "application/vnd.jupyter.widget-view+json": {
       "model_id": "129798bcb5304883818b6a92ceb0b5c7",
       "version_major": 2,
       "version_minor": 0
      },
      "text/plain": [
       "  0%|          | 0/60000 [00:00<?, ?it/s]"
      ]
     },
     "metadata": {},
     "output_type": "display_data"
    },
    {
     "data": {
      "application/vnd.jupyter.widget-view+json": {
       "model_id": "a88c3d992f114cfc976a7f84955f0911",
       "version_major": 2,
       "version_minor": 0
      },
      "text/plain": [
       "  0%|          | 0/60000 [00:00<?, ?it/s]"
      ]
     },
     "metadata": {},
     "output_type": "display_data"
    },
    {
     "data": {
      "application/vnd.jupyter.widget-view+json": {
       "model_id": "7cb85f8ac5a94519ae12dbdec0e7823c",
       "version_major": 2,
       "version_minor": 0
      },
      "text/plain": [
       "  0%|          | 0/60000 [00:00<?, ?it/s]"
      ]
     },
     "metadata": {},
     "output_type": "display_data"
    },
    {
     "data": {
      "application/vnd.jupyter.widget-view+json": {
       "model_id": "7a738c3b778c4cc9881e2e5ee3a05fd9",
       "version_major": 2,
       "version_minor": 0
      },
      "text/plain": [
       "  0%|          | 0/60000 [00:00<?, ?it/s]"
      ]
     },
     "metadata": {},
     "output_type": "display_data"
    },
    {
     "name": "stdout",
     "output_type": "stream",
     "text": [
      "\n",
      "MCMC elapsed time: 2.4469921588897705\n",
      "Processing B_Ai6...\n",
      "\n",
      "Training using MCMC\n",
      "\n"
     ]
    },
    {
     "data": {
      "application/vnd.jupyter.widget-view+json": {
       "model_id": "51f24b44b88b42ecb345014585c8e31a",
       "version_major": 2,
       "version_minor": 0
      },
      "text/plain": [
       "  0%|          | 0/60000 [00:00<?, ?it/s]"
      ]
     },
     "metadata": {},
     "output_type": "display_data"
    },
    {
     "data": {
      "application/vnd.jupyter.widget-view+json": {
       "model_id": "0945bb1a4b264feb85ac525c73981ba6",
       "version_major": 2,
       "version_minor": 0
      },
      "text/plain": [
       "  0%|          | 0/60000 [00:00<?, ?it/s]"
      ]
     },
     "metadata": {},
     "output_type": "display_data"
    },
    {
     "data": {
      "application/vnd.jupyter.widget-view+json": {
       "model_id": "3bae1d58c5cd447f84d0dfbb1bfcb05f",
       "version_major": 2,
       "version_minor": 0
      },
      "text/plain": [
       "  0%|          | 0/60000 [00:00<?, ?it/s]"
      ]
     },
     "metadata": {},
     "output_type": "display_data"
    },
    {
     "data": {
      "application/vnd.jupyter.widget-view+json": {
       "model_id": "57a153c0008847edace95bdddde382e0",
       "version_major": 2,
       "version_minor": 0
      },
      "text/plain": [
       "  0%|          | 0/60000 [00:00<?, ?it/s]"
      ]
     },
     "metadata": {},
     "output_type": "display_data"
    },
    {
     "name": "stdout",
     "output_type": "stream",
     "text": [
      "\n",
      "MCMC elapsed time: 2.2922651767730713\n",
      "Processing Ai6_Ai7...\n",
      "\n",
      "Training using MCMC\n",
      "\n"
     ]
    },
    {
     "data": {
      "application/vnd.jupyter.widget-view+json": {
       "model_id": "2f5dbd7e96f04e7a81c1280821f0763d",
       "version_major": 2,
       "version_minor": 0
      },
      "text/plain": [
       "  0%|          | 0/60000 [00:00<?, ?it/s]"
      ]
     },
     "metadata": {},
     "output_type": "display_data"
    },
    {
     "data": {
      "application/vnd.jupyter.widget-view+json": {
       "model_id": "a3a8655a715343c8a2e5d20816e30d4b",
       "version_major": 2,
       "version_minor": 0
      },
      "text/plain": [
       "  0%|          | 0/60000 [00:00<?, ?it/s]"
      ]
     },
     "metadata": {},
     "output_type": "display_data"
    },
    {
     "data": {
      "application/vnd.jupyter.widget-view+json": {
       "model_id": "c4da5f8083044f83afec700833c1f659",
       "version_major": 2,
       "version_minor": 0
      },
      "text/plain": [
       "  0%|          | 0/60000 [00:00<?, ?it/s]"
      ]
     },
     "metadata": {},
     "output_type": "display_data"
    },
    {
     "data": {
      "application/vnd.jupyter.widget-view+json": {
       "model_id": "67b44f4aef5d457792a9ef2413efdded",
       "version_major": 2,
       "version_minor": 0
      },
      "text/plain": [
       "  0%|          | 0/60000 [00:00<?, ?it/s]"
      ]
     },
     "metadata": {},
     "output_type": "display_data"
    },
    {
     "name": "stdout",
     "output_type": "stream",
     "text": [
      "\n",
      "MCMC elapsed time: 2.217133045196533\n"
     ]
    }
   ],
   "source": [
    "# Get list of all sheet names\n",
    "sheet_names = [\n",
    "    'R_B',\n",
    "    'R_Ai6',\n",
    "    'B_Ai6',\n",
    "    'Ai6_Ai7'\n",
    "]\n",
    "\n",
    "# Do inference for every sheet name\n",
    "for sheet_name in sheet_names:\n",
    "    print(f'Processing {sheet_name}...')\n",
    "    \n",
    "    # Load data\n",
    "    data_df = load_data(sheet_name)\n",
    "\n",
    "    drug1, drug2 = sheet_name.split('_')\n",
    "    \n",
    "    # Remove NaNs\n",
    "    data_df = data_df.dropna()\n",
    "\n",
    "    print('\\nTraining using MCMC\\n')\n",
    "    start = time.time()\n",
    "    x = data_df['drug1'].values\n",
    "    x = x/max(x)\n",
    "    data_dict = {\n",
    "        \"y\": jnp.array(data_df['deltaCt'].values),\n",
    "        \"x\": jnp.array(x)}\n",
    "\n",
    "    kernel = NUTS(model=ramp_model)\n",
    "    sample_kwargs = dict(\n",
    "        sampler=kernel, \n",
    "        num_warmup=args.num_warmup, \n",
    "        num_samples=args.num_samples, \n",
    "        num_chains=args.num_chains, \n",
    "        chain_method=\"parallel\",\n",
    "    )\n",
    "    mcmc = MCMC(**sample_kwargs)\n",
    "    mcmc.run(rng_key, **data_dict)\n",
    "    print(\"\\nMCMC elapsed time:\", time.time() - start)\n",
    "\n",
    "    #Save posterior samples\n",
    "    mcmc_samples = mcmc.get_samples()\n",
    "    mcmc_file_name = f'../mcmc_samples/mcmc_{sheet_name}.pkl'\n",
    "    with open(mcmc_file_name, 'wb') as f:\n",
    "        pickle.dump(mcmc_samples, f)\n",
    "        \n",
    "    # Use Arviz for summary\n",
    "    numpyro_inference_data = az.from_numpyro(mcmc);\n",
    "    summary_df = az.summary(numpyro_inference_data)\n",
    "\n",
    "    # Plot posterior samples\n",
    "    ppc = Predictive(ramp_model, mcmc.get_samples())\n",
    "    x_grid = np.linspace(0,1,100)\n",
    "    ppc_val = ppc(rng_key_predict, x=x_grid)\n",
    "    \n",
    "    model_prediction_dict = {\n",
    "        \"concs\":x_grid,\n",
    "        \"mean\": jnp.mean(ppc_val['y'], axis=0),\n",
    "        \"hdpi\": numpyro.diagnostics.hpdi(ppc_val['y'], prob=0.95),\n",
    "    }\n",
    "    \n",
    "    fig, ax = plt.subplots(nrows=1, ncols=1, figsize=(4, 4))\n",
    "    #ax = draw(ax, sheet_name, color='k')\n",
    "    ax = plot_regression(model_prediction_dict, data_dict, ax)\n",
    "    ax.legend()\n",
    "    ax.set_xlabel('concentraion')\n",
    "    ax.set_ylabel(r'$\\Delta C_t$')\n",
    "    plt.tight_layout()\n",
    "    plt.savefig(f'all_linear_mixture_curves/{sheet_name}.png')\n",
    "    plt.close()"
   ]
  },
  {
   "cell_type": "markdown",
   "id": "d4f4f067",
   "metadata": {},
   "source": [
    "New heading"
   ]
  }
 ],
 "metadata": {
  "kernelspec": {
   "display_name": "Python 3 (ipykernel)",
   "language": "python",
   "name": "python3"
  },
  "language_info": {
   "codemirror_mode": {
    "name": "ipython",
    "version": 3
   },
   "file_extension": ".py",
   "mimetype": "text/x-python",
   "name": "python",
   "nbconvert_exporter": "python",
   "pygments_lexer": "ipython3",
   "version": "3.9.2"
  },
  "varInspector": {
   "cols": {
    "lenName": 16,
    "lenType": 16,
    "lenVar": 40
   },
   "kernels_config": {
    "python": {
     "delete_cmd_postfix": "",
     "delete_cmd_prefix": "del ",
     "library": "var_list.py",
     "varRefreshCmd": "print(var_dic_list())"
    },
    "r": {
     "delete_cmd_postfix": ") ",
     "delete_cmd_prefix": "rm(",
     "library": "var_list.r",
     "varRefreshCmd": "cat(var_dic_list()) "
    }
   },
   "types_to_exclude": [
    "module",
    "function",
    "builtin_function_or_method",
    "instance",
    "_Feature"
   ],
   "window_display": false
  }
 },
 "nbformat": 4,
 "nbformat_minor": 5
}
