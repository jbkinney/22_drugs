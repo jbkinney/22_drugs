{
 "cells": [
  {
   "cell_type": "code",
   "execution_count": 1,
   "id": "cc563772",
   "metadata": {
    "ExecuteTime": {
     "end_time": "2022-12-30T14:23:09.814298Z",
     "start_time": "2022-12-30T14:23:08.180483Z"
    }
   },
   "outputs": [],
   "source": [
    "## Import necessary stuff. \n",
    "\n",
    "# Standard imports\n",
    "import pandas as pd\n",
    "import numpy as np\n",
    "import matplotlib.pyplot as plt\n",
    "import pickle\n",
    "\n",
    "# Special imports\n",
    "import utils\n",
    "import logomaker\n",
    "\n",
    "# JAX imports\n",
    "import jax.numpy as jnp\n",
    "import jax.random as random\n",
    "\n",
    "# Numpyro imports\n",
    "import numpyro\n",
    "from numpyro.diagnostics import hpdi\n",
    "from numpyro.infer import Predictive\n",
    "import numpyro.distributions as dist\n",
    "\n",
    "%matplotlib inline\n",
    "\n",
    "fig_name = 'fig6'"
   ]
  },
  {
   "cell_type": "code",
   "execution_count": 2,
   "id": "67231f93",
   "metadata": {
    "ExecuteTime": {
     "end_time": "2022-12-30T14:23:09.817742Z",
     "start_time": "2022-12-30T14:23:09.815309Z"
    }
   },
   "outputs": [],
   "source": [
    "# Set figure style\n",
    "style_file_name = f'fig.style'\n",
    "s = \"\"\"\n",
    "axes.linewidth:     1.0  # width of spines \n",
    "font.size:          7.0  # default font size\n",
    "axes.labelsize:     7.0  # fontsize of the x any y labels\n",
    "axes.titlesize:     7.0  # fontsize of title\n",
    "xtick.labelsize:    7.0  # fontsize of the tick labels\n",
    "ytick.labelsize:    7.0  # fontsize of the tick labels\n",
    "legend.fontsize:      7.0\n",
    "legend.borderpad:     0.2  # border whitespace\n",
    "legend.labelspacing:  0.2  # the vertical space between the legend entries\n",
    "legend.borderaxespad: 0.2  # the border between the axes and legend edge\n",
    "axes.labelpad:      1.0     # space between label and axis\n",
    "\"\"\"\n",
    "with open(style_file_name, 'w') as f:\n",
    "    f.write(s)\n",
    "    \n",
    "plt.style.use(style_file_name)"
   ]
  },
  {
   "cell_type": "code",
   "execution_count": 3,
   "id": "1e4f10c4",
   "metadata": {
    "ExecuteTime": {
     "end_time": "2022-12-30T14:23:10.055717Z",
     "start_time": "2022-12-30T14:23:09.819049Z"
    }
   },
   "outputs": [],
   "source": [
    "# generate random keys for training and predictions\n",
    "rng_key, rng_key_predict = random.split(random.PRNGKey(0))"
   ]
  },
  {
   "cell_type": "code",
   "execution_count": 4,
   "id": "a343d27c",
   "metadata": {
    "ExecuteTime": {
     "end_time": "2022-12-30T14:23:10.059413Z",
     "start_time": "2022-12-30T14:23:10.056495Z"
    },
    "code_folding": []
   },
   "outputs": [],
   "source": [
    "def load_data(sheet_name=None):\n",
    "    # Name of excel file\n",
    "    file_name = '../data/qPCR/dose_response_curves.xlsx'\n",
    "    \n",
    "    # Return sheet names if none specified\n",
    "    if sheet_name is None:\n",
    "        return pd.ExcelFile(file_name).sheet_names\n",
    "    \n",
    "    # Load data from Excel sheet\n",
    "    data_df = pd.read_excel(file_name,\n",
    "                            sheet_name=sheet_name, header=[0, 1], index_col=[0, 1])\n",
    "    data_df.index.rename(['conc', 'bio_rep'], inplace=True)\n",
    "    data_df.columns.rename(['primers', 'tech_rep'], inplace=True)\n",
    "\n",
    "    # Pivot to make tidy data\n",
    "    tidy_df = data_df.melt(value_name='cycles',\n",
    "                           ignore_index=False).reset_index()\n",
    "    \n",
    "    # For each (conc, bio_rep) compute mean of cycles across tech_rep\n",
    "    df = tidy_df.groupby(['conc','bio_rep','primers']).mean()['cycles'].to_frame().reset_index()\n",
    "    df = df.pivot(index=['conc','bio_rep'],columns='primers', values='cycles')\n",
    "\n",
    "    # Compute dCt values (NOTE: exclusion - inclusion !)\n",
    "    df['dCt'] = df['exclusion'] - df['inclusion']\n",
    "    df = df.reset_index()[['conc','bio_rep','dCt']]\n",
    "    df.columns.name = ''\n",
    "    \n",
    "    return df"
   ]
  },
  {
   "cell_type": "code",
   "execution_count": 5,
   "id": "56647561",
   "metadata": {
    "ExecuteTime": {
     "end_time": "2022-12-30T14:23:10.061704Z",
     "start_time": "2022-12-30T14:23:10.060257Z"
    },
    "code_folding": []
   },
   "outputs": [],
   "source": [
    "def load_mcmc_samples(sheet_name):\n",
    "    mcmc_file_name = f'../mcmc_samples/mcmc_{sheet_name}.pkl'\n",
    "    with open(mcmc_file_name, 'rb') as f:\n",
    "        mcmc_samples = pickle.load(f)\n",
    "    return mcmc_samples"
   ]
  },
  {
   "cell_type": "code",
   "execution_count": 6,
   "id": "4459de4c",
   "metadata": {
    "ExecuteTime": {
     "end_time": "2022-12-30T14:23:10.065368Z",
     "start_time": "2022-12-30T14:23:10.062520Z"
    },
    "code_folding": [
     1
    ]
   },
   "outputs": [],
   "source": [
    "### MUST BE SAME AS IN INFERENCE SCRIPT\n",
    "def single_drug_model(x, y=None):\n",
    "\n",
    "    # Context strength\n",
    "    log10_S = numpyro.sample(\"log10_S\", dist.Uniform(low=-3, high=3))\n",
    "    S=numpyro.deterministic('S', 10.0**log10_S)\n",
    "\n",
    "    # Hill coefficient\n",
    "    log2_H = numpyro.sample(\"log2_H\", dist.Normal(loc=0, scale=2))\n",
    "    H=numpyro.deterministic('H', 2.0**log2_H)\n",
    "\n",
    "    # Normalizing concentration\n",
    "    log10_NC = numpyro.sample(\"log10_NC\", dist.Uniform(low=-3, high=3))\n",
    "    NC=numpyro.deterministic('NC',10.0**log10_NC)\n",
    "\n",
    "    # Measurement noise\n",
    "    log10_sigma = numpyro.sample(\"log10_sigma\", dist.Uniform(low=-2, high=2))\n",
    "    sigma = numpyro.deterministic('sigma',10.0**log10_sigma)\n",
    "\n",
    "    # Amplitude\n",
    "    log10_alpha = numpyro.sample(\"log10_alpha\", dist.Uniform(low=0, high=6))\n",
    "    alpha = numpyro.deterministic('alpha',10.0**log10_alpha)\n",
    "    \n",
    "    # R = inclusion / exclusion\n",
    "    R = numpyro.deterministic('R', S*(1 + (x/NC)**H)/(1 + (1/alpha)*(x/NC)**H))\n",
    "    log2_R = numpyro.deterministic('log2_R', jnp.log2(R))\n",
    "    numpyro.sample('yhat', dist.Normal(log2_R, sigma), obs=y)"
   ]
  },
  {
   "cell_type": "code",
   "execution_count": 7,
   "id": "fde5d63a",
   "metadata": {
    "ExecuteTime": {
     "end_time": "2022-12-30T14:23:10.067952Z",
     "start_time": "2022-12-30T14:23:10.066224Z"
    },
    "code_folding": [
     0
    ]
   },
   "outputs": [],
   "source": [
    "# def synergy_drug_model(x1=None, x2=None, y=None):   \n",
    "#     # Priors\n",
    "    \n",
    "#     # Context strength\n",
    "#     log10_S = numpyro.sample(\"log10_S\", dist.Uniform(low=-3, high=3))\n",
    "    \n",
    "#     ## log2 Hill coefficients\n",
    "#     log2_H1 = numpyro.sample('log2_H1', dist.Normal(loc=0, scale = 2))\n",
    "#     log2_H2 = numpyro.sample('log2_H2', dist.Normal(loc=0, scale = 2))\n",
    "    \n",
    "#     ## log2 maximal effects\n",
    "#     log10_M1 = numpyro.sample('log10_M1', dist.Uniform(low=1, high=6))\n",
    "#     log10_M2 = numpyro.sample('log10_M2', dist.Uniform(low=1, high=6))\n",
    "    \n",
    "#     # Normalizing concentration\n",
    "#     log10_NC1 = numpyro.sample(\"log10_NC1\", dist.Uniform(low=-3, high=3))\n",
    "#     log10_NC2 = numpyro.sample(\"log10_NC2\", dist.Uniform(low=-3, high=3))\n",
    "\n",
    "#     ## Noise magnitude, assumed the same for all experiments\n",
    "#     log10_sigma = numpyro.sample(\"log10_sigma\", dist.Uniform(low=-2, high=2))\n",
    "    \n",
    "#     ## Tracking the variable in original scale\n",
    "#     #S   = numpyro.deterministic('S', 10.**log10_S)\n",
    "#     #S   = numpyro.deterministic('S', 10.**-.5)\n",
    "#     H1  = numpyro.deterministic('H1', jnp.exp2(log2_H1))\n",
    "#     H2  = numpyro.deterministic('H2', jnp.exp2(log2_H2))\n",
    "#     M1  = numpyro.deterministic('M1', 10.**log10_M1)\n",
    "#     M2  = numpyro.deterministic('M2', 10.**log10_M2)\n",
    "#     NC1 = numpyro.deterministic('NC1', 10.0**log10_NC1)\n",
    "#     NC2 = numpyro.deterministic('NC2', 10.0**log10_NC2)\n",
    "#     sigma = numpyro.deterministic('sigma',10.0**log10_sigma)\n",
    "    \n",
    "#     # Drug effects with saturation\n",
    "#     E1 = numpyro.deterministic('E1', (1+(x1/NC1)**H1)/(1+(1/M1)*(x1/NC1)**H1))\n",
    "#     E2 = numpyro.deterministic('E2', (1+(x2/NC2)**H2)/(1+(1/M2)*(x2/NC2)**H2))\n",
    "    \n",
    "#     # Compute log2 ratio \n",
    "#     R = numpyro.deterministic('R', S*E1*E2)\n",
    "#     dCt = numpyro.deterministic('log2_R', jnp.log2(R))\n",
    "    \n",
    "#     # Compute PSI\n",
    "#     psi = numpyro.deterministic('psi', R/(1+R) )\n",
    "    \n",
    "#     # Pin log2 ratios to C_t values. Note: all 3 experiments get the same sigma. \n",
    "#     numpyro.sample('cthat', dist.Normal(dCt, sigma), obs=y)"
   ]
  },
  {
   "cell_type": "code",
   "execution_count": 8,
   "id": "cf0a0965",
   "metadata": {
    "ExecuteTime": {
     "end_time": "2022-12-30T14:23:10.070253Z",
     "start_time": "2022-12-30T14:23:10.068721Z"
    }
   },
   "outputs": [],
   "source": [
    "EC2x = {'risdiplam': 14,\n",
    "        'branaplam': 7,\n",
    "        'ASOi6': 0.6,\n",
    "        'ASOi7': 0.1,\n",
    "        'RECTAS': 0.2,\n",
    "        'ASOi20': 0.08}"
   ]
  },
  {
   "cell_type": "code",
   "execution_count": 9,
   "id": "c4548bdf",
   "metadata": {
    "ExecuteTime": {
     "end_time": "2022-12-30T14:23:10.075130Z",
     "start_time": "2022-12-30T14:23:10.072881Z"
    },
    "code_folding": []
   },
   "outputs": [],
   "source": [
    "def plot_data(ax, x, y, x_left):\n",
    "    ix = x>0\n",
    "    ax.scatter(x[ix], \n",
    "               y[ix], \n",
    "               s=10,\n",
    "               alpha=.5,\n",
    "               color='k', \n",
    "               zorder=100,\n",
    "               linewidth=0)\n",
    "    n_zero = sum(~ix)\n",
    "    x_zero = x_left*np.ones(n_zero)\n",
    "    y_zero = y[~ix]\n",
    "    ax.scatter(x_zero,\n",
    "               y_zero,\n",
    "               marker='<',\n",
    "               s=10,\n",
    "               alpha=.5,\n",
    "               color='k', \n",
    "               zorder=100,\n",
    "               linewidth=0)"
   ]
  },
  {
   "cell_type": "code",
   "execution_count": 10,
   "id": "08dbec51",
   "metadata": {
    "ExecuteTime": {
     "end_time": "2022-12-30T14:23:10.078870Z",
     "start_time": "2022-12-30T14:23:10.075974Z"
    },
    "code_folding": [
     0
    ]
   },
   "outputs": [
    {
     "data": {
      "text/plain": [
       "[0.001, 0.01, 0.1, 1, 10, 100, 1000]"
      ]
     },
     "execution_count": 10,
     "metadata": {},
     "output_type": "execute_result"
    }
   ],
   "source": [
    "def log_ticks_from_lims(lim):   \n",
    "    # Compute xticks and yticks\n",
    "    log_tick_lo = np.ceil(np.log10(lim[0])).astype(int)\n",
    "    log_tick_hi = np.floor(np.log10(lim[1])).astype(int)\n",
    "    ticks = [10**tick for tick in range(log_tick_lo, log_tick_hi+1)]\n",
    "    return ticks\n",
    "    \n",
    "log_ticks_from_lims([1E-3, 1E3])"
   ]
  },
  {
   "cell_type": "code",
   "execution_count": 11,
   "id": "be9c3a15",
   "metadata": {
    "ExecuteTime": {
     "end_time": "2022-12-30T14:23:10.082331Z",
     "start_time": "2022-12-30T14:23:10.079731Z"
    },
    "code_folding": []
   },
   "outputs": [],
   "source": [
    "def load_mix_samples(drug1_sheet, drug2_sheet, subsample_size=100):\n",
    "\n",
    "    # Load MCMC samples for each drug\n",
    "    drug1_mcmc_samples = load_mcmc_samples(drug1_sheet)\n",
    "    drug2_mcmc_samples = load_mcmc_samples(drug2_sheet)\n",
    "\n",
    "    # Create mix_mcmc_samples\n",
    "    mix_mcmc_samples = {}\n",
    "    num_samples = len(drug1_mcmc_samples['log10_NC'])\n",
    "    mix_mcmc_samples['log10_NC1'] = drug1_mcmc_samples['log10_NC']\n",
    "    mix_mcmc_samples['log10_M1'] = drug1_mcmc_samples['log10_alpha']\n",
    "    mix_mcmc_samples['log2_H1'] = drug1_mcmc_samples['log2_H']\n",
    "    mix_mcmc_samples['log10_NC2'] = drug2_mcmc_samples['log10_NC']\n",
    "    mix_mcmc_samples['log10_M2'] = drug2_mcmc_samples['log10_alpha']\n",
    "    mix_mcmc_samples['log2_H2'] = drug2_mcmc_samples['log2_H']\n",
    "    \n",
    "    ix = np.random.choice(a=num_samples, size=subsample_size, replace=False)\n",
    "    for key in mix_mcmc_samples.keys():\n",
    "        mix_mcmc_samples[key] = mix_mcmc_samples[key][ix]\n",
    "    \n",
    "    return mix_mcmc_samples"
   ]
  },
  {
   "cell_type": "code",
   "execution_count": 12,
   "id": "b099bf37",
   "metadata": {
    "ExecuteTime": {
     "end_time": "2022-12-30T14:23:10.089373Z",
     "start_time": "2022-12-30T14:23:10.083293Z"
    },
    "code_folding": []
   },
   "outputs": [],
   "source": [
    "def plot_single_drug(ax,\n",
    "                     minigene,\n",
    "                     drug,\n",
    "                     sheet_name,\n",
    "                     color,\n",
    "                     xlim,\n",
    "                     ylim,\n",
    "                     show_ylabel=True,\n",
    "                     show_yticklabels=True,\n",
    "                     show_H=True,\n",
    "                     units='nM',\n",
    "                     text_fontsize=7,\n",
    "                     two_lines=False):\n",
    "    \"\"\"Plots data for a single drug on top of model preditions for that drug.\"\"\"\n",
    "\n",
    "    # Get ticks\n",
    "    xticks = log_ticks_from_lims(xlim)\n",
    "    yticks = log_ticks_from_lims(ylim)\n",
    "\n",
    "    # Load data\n",
    "    data_df = load_data(sheet_name)\n",
    "    x = data_df['conc'].values\n",
    "    y = 2.**data_df['dCt'].values\n",
    "\n",
    "    # Load MCMC samples\n",
    "    mcmc_samples = load_mcmc_samples(sheet_name)\n",
    "\n",
    "    # Define concentration grid\n",
    "    x_grid = np.logspace(np.log10(xlim[0]),\n",
    "                         np.log10(xlim[1]),\n",
    "                         100)\n",
    "    \n",
    "    # Compute model predictions on grid\n",
    "    ppc = Predictive(single_drug_model, mcmc_samples)\n",
    "    ppc_val = ppc(rng_key_predict, x=x_grid)\n",
    "    y_hat_grid = 2.**np.median(ppc_val['log2_R'], axis=0)\n",
    "    y_lo_grid, y_hi_grid =  2.**hpdi(ppc_val['log2_R'], prob=0.95)\n",
    "\n",
    "    # Plot predictive interval\n",
    "    ax.fill_between(x_grid, \n",
    "                    y_lo_grid, \n",
    "                    y_hi_grid, \n",
    "                    alpha=0.2, \n",
    "                    interpolate=True,\n",
    "                    linewidth=0,\n",
    "                    color=color)\n",
    "\n",
    "    # Plot median model prediction\n",
    "    ax.plot(x_grid, \n",
    "            y_hat_grid, \n",
    "            c=color)\n",
    "\n",
    "    # Plot data\n",
    "    ix = x>0\n",
    "    ax.scatter(x[ix], \n",
    "               y[ix], \n",
    "               s=10,\n",
    "               alpha=.5,\n",
    "               color='k', \n",
    "               zorder=100,\n",
    "               linewidth=0)\n",
    "    n_zero = sum(~ix)\n",
    "    x_zero = xlim[0]*1.5*np.ones(n_zero)\n",
    "    y_zero = y[~ix]\n",
    "    ax.scatter(x_zero,\n",
    "               y_zero,\n",
    "               marker='<',\n",
    "               s=10,\n",
    "               alpha=.5,\n",
    "               color='k', \n",
    "               zorder=100,\n",
    "               linewidth=0)\n",
    "\n",
    "    # Show H\n",
    "    if show_H:\n",
    "        H_med = np.median(mcmc_samples['H'])\n",
    "        H_lo, H_hi = hpdi(mcmc_samples['H'])\n",
    "        if two_lines:\n",
    "            H_text = f'$H =${H_med:.2f}\\n[{H_lo:.2f}, {H_hi:.2f}]' \n",
    "            ax.text(s=H_text, x=xlim[0]*1.5, y=ylim[1]/1.25, ha='left', va='top', fontsize=text_fontsize)\n",
    "\n",
    "        else:\n",
    "            H_text = f'$H =${H_med:.2f} [{H_lo:.2f}, {H_hi:.2f}]' \n",
    "            ax.text(s=H_text, x=xlim[0]*1.5, y=ylim[1]/1.25, ha='left', va='top', fontsize=text_fontsize)\n",
    "\n",
    "    # Style plot\n",
    "    ax.set_xscale('log')\n",
    "    ax.set_yscale('log')\n",
    "    ax.set_title(minigene)\n",
    "    ax.set_xlabel(f'[{drug}] ({units})')\n",
    "    ax.set_xticks(xticks)\n",
    "    ax.set_xlim(xlim)\n",
    "    ax.set_ylim(ylim)\n",
    "    ax.set_yticks(yticks)\n",
    "    if show_ylabel:\n",
    "        ax.set_ylabel(f'inclusion/exclusion')\n",
    "    if not show_yticklabels:\n",
    "        ax.set_yticklabels([])\n",
    "    ax.tick_params(axis='both', which='minor', left=False, bottom=False)"
   ]
  },
  {
   "cell_type": "code",
   "execution_count": 13,
   "id": "ff859d52",
   "metadata": {
    "ExecuteTime": {
     "end_time": "2022-12-30T14:23:10.096679Z",
     "start_time": "2022-12-30T14:23:10.090335Z"
    },
    "code_folding": []
   },
   "outputs": [],
   "source": [
    "def plot_mix(ax,\n",
    "             drug1_sheet,\n",
    "             drug2_sheet,\n",
    "             mix_sheet,\n",
    "             mix_name,\n",
    "             minigene,\n",
    "             xlim,\n",
    "             ylim,\n",
    "             legend_fontsize=7,\n",
    "             text_fontsize=7,\n",
    "             show_ylabel=True,\n",
    "             color='C9',\n",
    "             plot_syn=True):\n",
    "\n",
    "    # Load data from mix\n",
    "    mix_data_df = load_data(mix_sheet)\n",
    "\n",
    "    # Load MCMC samples for each drug and for mixture\n",
    "    drug1_mcmc_samples = load_mcmc_samples(drug1_sheet)\n",
    "    drug2_mcmc_samples = load_mcmc_samples(drug2_sheet)\n",
    "    drug12_mcmc_samples = load_mcmc_samples(mix_sheet) #1-drug model fit to mix data\n",
    "    \n",
    "    # Load data\n",
    "    x = mix_data_df['conc'].values\n",
    "    y = 2.**mix_data_df['dCt'].values\n",
    "\n",
    "    # Create concentration grid on which to compute model predictions\n",
    "    x_grid = np.logspace(np.log10(xlim[0])-np.log10(2),\n",
    "                         np.log10(xlim[1]),\n",
    "                         100)\n",
    "    \n",
    "    # Compute individual model predictions\n",
    "    ppc = Predictive(single_drug_model, drug12_mcmc_samples)\n",
    "    ppc_val = ppc(rng_key_predict, x=x_grid)\n",
    "    y_grid = 2.**np.median(ppc_val['log2_R'], axis=0)\n",
    "    ylo_grid, yhi_grid = 2**hpdi(ppc_val['log2_R'], prob=0.95)\n",
    "    \n",
    "    xticks=log_ticks_from_lims(xlim)\n",
    "    yticks=log_ticks_from_lims(ylim)\n",
    "        \n",
    "    # Median prediction\n",
    "    ax.plot(x_grid, \n",
    "            y_grid, \n",
    "            c=color)\n",
    "\n",
    "    # 95% CI prediction\n",
    "    ax.fill_between(x_grid, \n",
    "                    ylo_grid, \n",
    "                    yhi_grid, \n",
    "                    alpha=0.2, \n",
    "                    interpolate=True,\n",
    "                    linewidth=0,\n",
    "                    color=color)\n",
    "    \n",
    "    # Plot data\n",
    "    plot_data(ax=ax, x=x, y=y, x_left=xlim[0]*1.2)\n",
    "\n",
    "    # Compute effective H, and interval, for combination\n",
    "    H_med = np.median(drug12_mcmc_samples['H'])\n",
    "    H_lo, H_hi = hpdi(drug12_mcmc_samples['H'])\n",
    "    \n",
    "    # Compute significance of effective H\n",
    "    H1 = drug1_mcmc_samples['H']\n",
    "    H2 = drug2_mcmc_samples['H']\n",
    "    H12 = drug12_mcmc_samples['H']\n",
    "    num_samples = len(H12)\n",
    "    assert len(H1)==num_samples\n",
    "    assert len(H2)==num_samples\n",
    "    syn_ix = (H12 > H1) & (H12 > H2)\n",
    "    num_notsyn = sum(~syn_ix)\n",
    "    pval = num_notsyn/num_samples\n",
    "    pval_text = f'$P$ = {pval:.1e}'\n",
    "    \n",
    "    if pval < .001:\n",
    "        pval_summary='***'\n",
    "    elif pval < .01:\n",
    "        pval_summary='**'\n",
    "    elif pval < .05:\n",
    "        pval_summary='*'\n",
    "    else:\n",
    "        pval_summary='n.s.'\n",
    "    \n",
    "    # Show effective H and signifiance\n",
    "    H_text = f'$H_\\mathrm{{mix}} =${H_med:.2f}\\n[{H_lo:.2f}, {H_hi:.2f}]\\n{pval_text}\\n{pval_summary}'  \n",
    "    ax.text(s=H_text, x=xlim[0]*1.5, y=ylim[1]/1.2, ha='left', va='top', fontsize=text_fontsize)\n",
    "    \n",
    "    # Style plot\n",
    "    ax.set_xscale('log')\n",
    "    ax.set_yscale('log')\n",
    "    ax.set_title(minigene)\n",
    "    ax.set_xlabel(f'[{mix_name.replace(\"/\",\"+\")}] (1x)')\n",
    "    if show_ylabel:\n",
    "        ax.set_ylabel(f'inclusion/exclusion')\n",
    "    ax.set_xticks(xticks)\n",
    "    if show_ylabel:\n",
    "        ax.set_yticks(yticks)\n",
    "    else:\n",
    "        ax.set_yticklabels([])\n",
    "    ax.set_xlim(xlim)\n",
    "    ax.set_ylim(ylim)\n",
    "    ax.tick_params(axis='both', which='minor', left=False, bottom=False)\n",
    "    #ax.legend(fontsize=legend_fontsize, loc='lower right', frameon=False)\n",
    "    \n",
    "    assert ylim[0] < min(y)\n",
    "    assert ylim[1] > max(y)\n",
    "    assert xlim[0] < min(x[x>0])\n",
    "    assert xlim[1] > max(x)"
   ]
  },
  {
   "cell_type": "code",
   "execution_count": 14,
   "id": "88848e33",
   "metadata": {
    "ExecuteTime": {
     "end_time": "2022-12-30T14:23:16.922766Z",
     "start_time": "2022-12-30T14:23:10.097737Z"
    }
   },
   "outputs": [
    {
     "name": "stdout",
     "output_type": "stream",
     "text": [
      "Plot saved to fig6A-D.pdf\n"
     ]
    },
    {
     "data": {
      "image/png": "[encoded data removed]",
      "text/plain": [
       "<Figure size 650x210 with 4 Axes>"
      ]
     },
     "metadata": {},
     "output_type": "display_data"
    }
   ],
   "source": [
    "# Fig6A-D\n",
    "fig, axs = plt.subplots(1,4,figsize=[6.5, 2.1])\n",
    "axs = axs.ravel()\n",
    "\n",
    "# Define panel contents\n",
    "minigenes = ['$SMN2$ WT', '$SMN2$ WT', '$ELP1$', '$ELP1$']\n",
    "drugs = ['ASOi7', 'ASOi6', 'RECTAS', 'ASOi20']\n",
    "sheet_names = ['t25a_asoi7_v2', 't25a_asoi6', 'elp1_rectas', 'elp1_aso']\n",
    "colors = ['C2','C3','C4','C5']\n",
    "units = ['nM', 'nM', '$\\mu$M', 'nM']\n",
    "\n",
    "# Plot panels\n",
    "for i in range(4):\n",
    "    plot_single_drug(ax=axs[i],\n",
    "                 minigene=minigenes[i],\n",
    "                 drug=drugs[i],\n",
    "                 sheet_name=sheet_names[i],\n",
    "                 color=colors[i],\n",
    "                 units=units[i],\n",
    "                 show_ylabel=(i==0),\n",
    "                 show_yticklabels=(i==0),\n",
    "                 xlim=[10**-2.5, 10**2.5],\n",
    "                 ylim = [10**-0.5, 10**3.0],\n",
    "                 text_fontsize=7)\n",
    "\n",
    "# Save figure\n",
    "fig_file = f'fig6A-D.pdf'\n",
    "fig.tight_layout(w_pad=2)\n",
    "fig.savefig(fig_file, facecolor='white')\n",
    "print(f'Plot saved to {fig_file}')"
   ]
  },
  {
   "cell_type": "code",
   "execution_count": 15,
   "id": "2a7d2fda",
   "metadata": {
    "ExecuteTime": {
     "end_time": "2022-12-30T14:23:31.230284Z",
     "start_time": "2022-12-30T14:23:16.923661Z"
    }
   },
   "outputs": [
    {
     "name": "stdout",
     "output_type": "stream",
     "text": [
      "Plot saved to fig6E-K.pdf\n"
     ]
    },
    {
     "data": {
      "image/png": "[encoded data removed]",
      "text/plain": [
       "<Figure size 650x410 with 8 Axes>"
      ]
     },
     "metadata": {},
     "output_type": "display_data"
    }
   ],
   "source": [
    "# Create figure\n",
    "fig, axs = plt.subplots(2,4,figsize=[6.5,4.1])\n",
    "\n",
    "smn2_kwargs = dict(minigene='$SMN2$ WT',\n",
    "                   xlim=[10**-1.5, 10**3.5],\n",
    "                   ylim = [10**-0.5, 10**3.0])\n",
    "\n",
    "plot_mix(ax=axs[0,0],\n",
    "         mix_name='risdiplam/branaplam',\n",
    "         drug1_sheet='t25a_ris_v2',\n",
    "         drug2_sheet='t25a_bran_v5',\n",
    "         mix_sheet='t25a_ris_bran_v2',\n",
    "         color='C8',\n",
    "         show_ylabel=True,\n",
    "         **smn2_kwargs)\n",
    "\n",
    "plot_mix(ax=axs[0,1],\n",
    "         mix_name='risdiplam/ASOi6',\n",
    "         drug1_sheet='t25a_ris_v2',\n",
    "         drug2_sheet='t25a_asoi6',\n",
    "         mix_sheet='t25a_ris_asoi6_v4',\n",
    "         color='C9',\n",
    "         show_ylabel=False,\n",
    "         **smn2_kwargs)\n",
    "\n",
    "plot_mix(ax=axs[0,2],\n",
    "         mix_name='risdiplam/ASOi7',\n",
    "         drug1_sheet='t25a_ris_v2',\n",
    "         drug2_sheet='t25a_asoi7_v2',\n",
    "         mix_sheet='t25a_ris_asoi7_v2',\n",
    "         color='C9',\n",
    "         show_ylabel=False,\n",
    "         **smn2_kwargs)\n",
    "\n",
    "axs[0,3].axis('off')\n",
    "\n",
    "plot_mix(ax=axs[1,0],\n",
    "         mix_name='branaplam/ASOi6',\n",
    "         drug1_sheet='t25a_bran_v5',\n",
    "         drug2_sheet='t25a_asoi6',\n",
    "         mix_sheet='t25a_bran_asoi6_v2',\n",
    "         color='C9',\n",
    "         show_ylabel=True,\n",
    "         **smn2_kwargs)\n",
    "\n",
    "plot_mix(ax=axs[1,1],\n",
    "         mix_name='branaplam/ASOi7',\n",
    "         drug1_sheet='t25a_bran_v5',\n",
    "         drug2_sheet='t25a_asoi7_v2',\n",
    "         mix_sheet='t25a_bran_asoi7',\n",
    "         color='C9',\n",
    "         show_ylabel=False,\n",
    "         **smn2_kwargs)\n",
    "\n",
    "plot_mix(ax=axs[1,2],\n",
    "         mix_name='ASOi6/ASOi7',\n",
    "         drug1_sheet='t25a_asoi6',\n",
    "         drug2_sheet='t25a_asoi7_v2',\n",
    "         mix_sheet='t25a_asoi6_asoi7_v3',\n",
    "         color='C9',\n",
    "         show_ylabel=False,\n",
    "         **smn2_kwargs)\n",
    "\n",
    "plot_mix(ax=axs[1,3],\n",
    "         mix_name='RECTAS/ASOi20',\n",
    "         drug1_sheet='elp1_rectas',\n",
    "         drug2_sheet='elp1_aso',\n",
    "         mix_sheet='elp1_rectas_aso',\n",
    "         color='C9',\n",
    "         show_ylabel=False,\n",
    "         minigene='$ELP1$',\n",
    "         xlim=[10**-2.5, 10**2.5],\n",
    "         ylim=[10**-0.5, 10**3.0])\n",
    "\n",
    "#axs[].axis('off')\n",
    "               \n",
    "# Save figure\n",
    "fig_file = f'fig6E-K.pdf'\n",
    "fig.tight_layout(w_pad=2, h_pad=2)\n",
    "fig.savefig(fig_file, facecolor='white')\n",
    "print(f'Plot saved to {fig_file}')"
   ]
  },
  {
   "cell_type": "code",
   "execution_count": 16,
   "id": "111660e4",
   "metadata": {
    "ExecuteTime": {
     "end_time": "2022-12-30T14:23:31.233511Z",
     "start_time": "2022-12-30T14:23:31.231148Z"
    }
   },
   "outputs": [],
   "source": [
    "def ramp_model(x, y=None):\n",
    "    a = numpyro.sample(\"a\", dist.Normal(loc=0, scale=10))\n",
    "    b = numpyro.sample(\"b\", dist.Normal(loc=0, scale=10))\n",
    "    c = numpyro.sample(\"c\", dist.Normal(loc=0, scale=10))\n",
    "    log10_sigma = numpyro.sample(\"log10_sigma\", dist.Uniform(low=-3, high=-1))\n",
    "    sigma = numpyro.deterministic('sigma', 10.0**log10_sigma)\n",
    "    yhat = numpyro.deterministic('yhat', a + b*(x-.5) + c*(x-.5)**2)\n",
    "    numpyro.sample('y', dist.Normal(yhat, sigma), obs=y) "
   ]
  },
  {
   "cell_type": "code",
   "execution_count": 23,
   "id": "a31900f6",
   "metadata": {
    "ExecuteTime": {
     "end_time": "2022-12-30T14:24:35.479278Z",
     "start_time": "2022-12-30T14:24:35.459908Z"
    }
   },
   "outputs": [],
   "source": [
    "def draw_linear_mixture(ax,\n",
    "                        sheet_name,\n",
    "                        color):\n",
    "\n",
    "    file_name = '../data/qPCR/linear_mixture_curves.xlsx'\n",
    "    ylim = [5,200]\n",
    "\n",
    "    drug_names_dict = {\n",
    "        'R':'risdiplam',\n",
    "        'B':'branaplam',\n",
    "        'Ai6':'ASO i6',\n",
    "        'Ai7':'ASO i7'\n",
    "    }\n",
    "    \n",
    "    ticks_dict = {\n",
    "        'R':[0, 2, 4, 6, 8, 10],\n",
    "        'B':[0, 2, 4, 6, 8, 10],\n",
    "        'Ai6':[0, 10, 20, 30, 40, 50],\n",
    "        'Ai7':[0, 5, 10, 15, 20, 25]\n",
    "    }\n",
    "\n",
    "    df = pd.read_excel(file_name,\n",
    "                       sheet_name=sheet_name)\n",
    "    drug1, drug2 = sheet_name.split('_')\n",
    "    x = df[drug1].values.reshape(-1,1)\n",
    "    xticks=ticks_dict[drug1]\n",
    "    xlim = [xticks[0], xticks[-1]]\n",
    "    y = 2.**df['deltaCt'].values\n",
    "    \n",
    "    # Load MCMC samples\n",
    "    mcmc_samples = load_mcmc_samples(sheet_name)\n",
    "\n",
    "    # Define concentration grid\n",
    "    x_grid = np.linspace(xlim[0],xlim[1],100)\n",
    "    \n",
    "    # Compute model predictions on grid\n",
    "    ppc = Predictive(ramp_model, mcmc_samples)\n",
    "    ppc_val = ppc(rng_key_predict, x=x_grid/xlim[1])\n",
    "    y_hat_grid = 2.**np.median(ppc_val['yhat'], axis=0)\n",
    "    y_lo_grid, y_hi_grid = 2.**hpdi(ppc_val['yhat'], prob=0.95)\n",
    "\n",
    "    # Plot median model prediction\n",
    "    ax.semilogy(x_grid, y_hat_grid, '-', color=color)\n",
    "    \n",
    "    # Plot predictive interval\n",
    "    ax.fill_between(x_grid, \n",
    "                    y_lo_grid, \n",
    "                    y_hi_grid, \n",
    "                    alpha=0.2, \n",
    "                    interpolate=True,\n",
    "                    linewidth=0,\n",
    "                    color=color)\n",
    "\n",
    "    # Plot datapoints\n",
    "    ax.scatter(x, y, \n",
    "               s=10,\n",
    "               alpha=.5,\n",
    "               color='k', \n",
    "               zorder=100,\n",
    "               linewidth=0)\n",
    "    \n",
    "    # Set xlim and ylim\n",
    "    xmin = min(x)\n",
    "    xmax = max(x)\n",
    "    xspan = xmax-xmin\n",
    "    ylim = [5,200]\n",
    "    ax.set_xlim([xmin-.1*xspan, xmax+.1*xspan])\n",
    "    ax.set_ylim(ylim)\n",
    "    \n",
    "    # Style x-axis\n",
    "    ax.set_xticks(xticks)\n",
    "    ax.set_xlabel(f'[{drug_names_dict[drug1]}], [{drug_names_dict[drug2]}]', labelpad=2)\n",
    "    tick_labels = [f'{t1}x, {t2}x' for t1,t2 in zip(ticks_dict[drug1],ticks_dict[drug2][::-1])]\n",
    "    ax.tick_params(axis='x', which='major', pad=0)\n",
    "    ax.set_xticklabels(tick_labels, rotation=45)    \n",
    "\n",
    "    # Compute significance of effective H\n",
    "    ys_grid = ppc_val['yhat']\n",
    "    num_samples = ys_grid.shape[0]\n",
    "    no_synergy = ((np.max(ys_grid, axis=1) <= np.max(ys_grid[:,[0,-1]], axis=1))) #& \\\n",
    "                          #((np.min(ys_grid, axis=1) >= np.min(ys_grid[:,[0,-1]], axis=1)))\n",
    "    pval = np.sum(no_synergy)/num_samples\n",
    "    \n",
    "    # Show pvalue\n",
    "    if pval > 0:\n",
    "        pval_text = f'$P$ = {pval:.1e}'\n",
    "    else:\n",
    "        pval_text = f'$P$ < {1/num_samples:.1e}'\n",
    "    if pval < .001:\n",
    "        pval_summary='***'\n",
    "    elif pval < .01:\n",
    "        pval_summary='**'\n",
    "    elif pval < .05:\n",
    "        pval_summary='*'\n",
    "    else:\n",
    "        pval_summary='n.s.'\n",
    "    ax.text(s=f'{pval_text}\\n{pval_summary}', \n",
    "            x=0, \n",
    "            y=ylim[1]/1.2, \n",
    "            ha='left', va='top', fontsize=7)"
   ]
  },
  {
   "cell_type": "code",
   "execution_count": 26,
   "id": "2013038f",
   "metadata": {
    "ExecuteTime": {
     "end_time": "2022-12-30T14:28:40.550189Z",
     "start_time": "2022-12-30T14:28:34.899567Z"
    }
   },
   "outputs": [
    {
     "data": {
      "image/png": "[encoded data removed]",
      "text/plain": [
       "<Figure size 650x225 with 4 Axes>"
      ]
     },
     "metadata": {},
     "output_type": "display_data"
    }
   ],
   "source": [
    "fig, axs = plt.subplots(1,4,figsize=[6.5,2.25], sharey=True)\n",
    "\n",
    "draw_linear_mixture(axs[0], 'R_B', color='C8')\n",
    "axs[0].set_ylabel('inclusion/exclusion')\n",
    "axs[0].set_title('$SMN2$ WT')\n",
    "\n",
    "draw_linear_mixture(axs[1], 'R_Ai6', color='C9')\n",
    "axs[1].set_title('$SMN2$ WT')\n",
    "\n",
    "draw_linear_mixture(axs[2], 'B_Ai6', color='C9')\n",
    "axs[2].set_title('$SMN2$ WT')\n",
    "\n",
    "draw_linear_mixture(axs[3], 'Ai6_Ai7', color='C9')\n",
    "axs[3].set_title('$SMN2$ WT')\n",
    "\n",
    "fig.tight_layout()\n",
    "fig.tight_layout(w_pad=1.5, h_pad=2)\n",
    "fig.savefig('fig6L-O.pdf', facecolor='white')"
   ]
  },
  {
   "cell_type": "code",
   "execution_count": null,
   "id": "767a4a14",
   "metadata": {},
   "outputs": [],
   "source": []
  }
 ],
 "metadata": {
  "kernelspec": {
   "display_name": "Python 3 (ipykernel)",
   "language": "python",
   "name": "python3"
  },
  "language_info": {
   "codemirror_mode": {
    "name": "ipython",
    "version": 3
   },
   "file_extension": ".py",
   "mimetype": "text/x-python",
   "name": "python",
   "nbconvert_exporter": "python",
   "pygments_lexer": "ipython3",
   "version": "3.9.15"
  },
  "varInspector": {
   "cols": {
    "lenName": 16,
    "lenType": 16,
    "lenVar": 40
   },
   "kernels_config": {
    "python": {
     "delete_cmd_postfix": "",
     "delete_cmd_prefix": "del ",
     "library": "var_list.py",
     "varRefreshCmd": "print(var_dic_list())"
    },
    "r": {
     "delete_cmd_postfix": ") ",
     "delete_cmd_prefix": "rm(",
     "library": "var_list.r",
     "varRefreshCmd": "cat(var_dic_list()) "
    }
   },
   "types_to_exclude": [
    "module",
    "function",
    "builtin_function_or_method",
    "instance",
    "_Feature"
   ],
   "window_display": false
  }
 },
 "nbformat": 4,
 "nbformat_minor": 5
}
