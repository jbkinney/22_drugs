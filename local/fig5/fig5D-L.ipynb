{
 "cells": [
  {
   "cell_type": "code",
   "execution_count": 1,
   "id": "cc563772",
   "metadata": {
    "ExecuteTime": {
     "end_time": "2023-08-23T20:19:42.002973Z",
     "start_time": "2023-08-23T20:19:40.514993Z"
    }
   },
   "outputs": [],
   "source": [
    "## Import necessary stuff. \n",
    "\n",
    "# Standard imports\n",
    "import pandas as pd\n",
    "import numpy as np\n",
    "import matplotlib.pyplot as plt\n",
    "import pickle\n",
    "\n",
    "# Special imports\n",
    "import utils\n",
    "import logomaker\n",
    "\n",
    "# JAX imports\n",
    "import jax.numpy as jnp\n",
    "import jax.random as random\n",
    "\n",
    "# Numpyro imports\n",
    "import numpyro\n",
    "from numpyro.diagnostics import hpdi\n",
    "from numpyro.infer import Predictive\n",
    "import numpyro.distributions as dist\n",
    "\n",
    "#%matplotlib inline"
   ]
  },
  {
   "cell_type": "code",
   "execution_count": 2,
   "id": "67231f93",
   "metadata": {
    "ExecuteTime": {
     "end_time": "2023-08-23T20:19:42.006471Z",
     "start_time": "2023-08-23T20:19:42.003994Z"
    }
   },
   "outputs": [],
   "source": [
    "# Set figure style\n",
    "style_file_name = f'fig.style'\n",
    "s = \"\"\"\n",
    "axes.linewidth:     1.0  # width of spines \n",
    "font.size:          7.0  # default font size\n",
    "axes.labelsize:     7.0  # fontsize of the x any y labels\n",
    "axes.titlesize:     7.0  # fontsize of title\n",
    "xtick.labelsize:    7.0  # fontsize of the tick labels\n",
    "ytick.labelsize:    7.0  # fontsize of the tick labels\n",
    "legend.fontsize:      7.0\n",
    "legend.borderpad:     0.2  # border whitespace\n",
    "legend.labelspacing:  0.2  # the vertical space between the legend entries\n",
    "legend.borderaxespad: 0.2  # the border between the axes and legend edge\n",
    "axes.labelpad:      1.0     # space between label and axis\n",
    "\"\"\"\n",
    "with open(style_file_name, 'w') as f:\n",
    "    f.write(s)\n",
    "    \n",
    "plt.style.use(style_file_name)"
   ]
  },
  {
   "cell_type": "code",
   "execution_count": 3,
   "id": "1e4f10c4",
   "metadata": {
    "ExecuteTime": {
     "end_time": "2023-08-23T20:19:42.069366Z",
     "start_time": "2023-08-23T20:19:42.007776Z"
    }
   },
   "outputs": [],
   "source": [
    "# generate random keys for training and predictions\n",
    "rng_key, rng_key_predict = random.split(random.PRNGKey(0))"
   ]
  },
  {
   "cell_type": "code",
   "execution_count": 4,
   "id": "a343d27c",
   "metadata": {
    "ExecuteTime": {
     "end_time": "2023-08-23T20:19:42.072891Z",
     "start_time": "2023-08-23T20:19:42.070139Z"
    },
    "code_folding": []
   },
   "outputs": [],
   "source": [
    "def load_data(sheet_name):\n",
    "    # Name of excel file\n",
    "    file_name = '../data/qPCR/dose_response_curves.xlsx'\n",
    "    \n",
    "    # Load data from Excel sheet\n",
    "    data_df = pd.read_excel(file_name,\n",
    "                            sheet_name=sheet_name, header=[0, 1], index_col=[0, 1])\n",
    "    data_df.index.rename(['conc', 'bio_rep'], inplace=True)\n",
    "    data_df.columns.rename(['primers', 'tech_rep'], inplace=True)\n",
    "\n",
    "    # Pivot to make tidy data\n",
    "    tidy_df = data_df.melt(value_name='cycles',\n",
    "                           ignore_index=False).reset_index()\n",
    "    \n",
    "    # For each (conc, bio_rep) compute mean of cycles across tech_rep\n",
    "    df = tidy_df.groupby(['conc','bio_rep','primers']).mean()['cycles'].to_frame().reset_index()\n",
    "    df = df.pivot(index=['conc','bio_rep'],columns='primers', values='cycles')\n",
    "\n",
    "    # Compute dCt values (NOTE: exclusion - inclusion !)\n",
    "    df['dCt'] = df['exclusion'] - df['inclusion']\n",
    "    df = df.reset_index()[['conc','bio_rep','dCt']]\n",
    "    df.columns.name = ''\n",
    "    \n",
    "    return df"
   ]
  },
  {
   "cell_type": "code",
   "execution_count": 5,
   "id": "56647561",
   "metadata": {
    "ExecuteTime": {
     "end_time": "2023-08-23T20:19:42.075291Z",
     "start_time": "2023-08-23T20:19:42.073612Z"
    },
    "code_folding": []
   },
   "outputs": [],
   "source": [
    "def load_mcmc_samples(sheet_name):\n",
    "    mcmc_file_name = f'../mcmc_samples/mcmc_{sheet_name}.pkl'\n",
    "    with open(mcmc_file_name, 'rb') as f:\n",
    "        mcmc_samples = pickle.load(f)\n",
    "    return mcmc_samples"
   ]
  },
  {
   "cell_type": "code",
   "execution_count": 6,
   "id": "4459de4c",
   "metadata": {
    "ExecuteTime": {
     "end_time": "2023-08-23T20:19:42.078941Z",
     "start_time": "2023-08-23T20:19:42.075960Z"
    },
    "code_folding": [
     1
    ]
   },
   "outputs": [],
   "source": [
    "### MUST BE SAME AS IN INFERENCE SCRIPT\n",
    "def single_drug_model(x, y=None):\n",
    "\n",
    "    # Context strength\n",
    "    log10_S = numpyro.sample(\"log10_S\", dist.Uniform(low=-3, high=3))\n",
    "    S=numpyro.deterministic('S', 10.0**log10_S)\n",
    "\n",
    "    # Hill coefficient\n",
    "    log2_H = numpyro.sample(\"log2_H\", dist.Normal(loc=0, scale=2))\n",
    "    H=numpyro.deterministic('H', 2.0**log2_H)\n",
    "\n",
    "    # Normalizing concentration\n",
    "    log10_NC = numpyro.sample(\"log10_NC\", dist.Uniform(low=-3, high=3))\n",
    "    NC=numpyro.deterministic('NC',10.0**log10_NC)\n",
    "\n",
    "    # Measurement noise\n",
    "    log10_sigma = numpyro.sample(\"log10_sigma\", dist.Uniform(low=-2, high=2))\n",
    "    sigma = numpyro.deterministic('sigma',10.0**log10_sigma)\n",
    "\n",
    "    # Amplitude\n",
    "    log10_alpha = numpyro.sample(\"log10_alpha\", dist.Uniform(low=0, high=6))\n",
    "    alpha = numpyro.deterministic('alpha',10.0**log10_alpha)\n",
    "    \n",
    "    # R = inclusion / exclusion\n",
    "    R = numpyro.deterministic('R', S*(1 + (x/NC)**H)/(1 + (1/alpha)*(x/NC)**H))\n",
    "    log2_R = numpyro.deterministic('log2_R', jnp.log2(R))\n",
    "    numpyro.sample('yhat', dist.Normal(log2_R, sigma), obs=y)"
   ]
  },
  {
   "cell_type": "code",
   "execution_count": 7,
   "id": "989414f8",
   "metadata": {
    "ExecuteTime": {
     "end_time": "2023-08-23T20:19:42.083693Z",
     "start_time": "2023-08-23T20:19:42.080212Z"
    },
    "code_folding": [
     0
    ]
   },
   "outputs": [
    {
     "data": {
      "text/plain": [
       "[0.001, 0.01, 0.1, 1, 10, 100, 1000]"
      ]
     },
     "execution_count": 7,
     "metadata": {},
     "output_type": "execute_result"
    }
   ],
   "source": [
    "def log_ticks_from_lims(lim):   \n",
    "    # Compute xticks and yticks\n",
    "    log_tick_lo = np.ceil(np.log10(lim[0])).astype(int)\n",
    "    log_tick_hi = np.floor(np.log10(lim[1])).astype(int)\n",
    "    ticks = [10**tick for tick in range(log_tick_lo, log_tick_hi+1)]\n",
    "    return ticks\n",
    "    \n",
    "log_ticks_from_lims([1E-3, 1E3])"
   ]
  },
  {
   "cell_type": "code",
   "execution_count": 17,
   "id": "6f8a6b44",
   "metadata": {
    "ExecuteTime": {
     "end_time": "2023-08-23T20:24:56.687232Z",
     "start_time": "2023-08-23T20:24:56.667708Z"
    },
    "code_folding": []
   },
   "outputs": [],
   "source": [
    "def plot_single_drug(ax,\n",
    "                     minigene,\n",
    "                     drug,\n",
    "                     sheet_name,\n",
    "                     color,\n",
    "                     xlim,\n",
    "                     ylim,\n",
    "                     show_ylabel=True,\n",
    "                     show_yticklabels=True,\n",
    "                     show_H=True,\n",
    "                     show_EC2x=False,\n",
    "                     units='nM',\n",
    "                     text_fontsize=7,\n",
    "                     two_lines=False):\n",
    "    \"\"\"Plots data for a single drug on top of model preditions for that drug.\"\"\"\n",
    "\n",
    "    # Get ticks\n",
    "    xticks = log_ticks_from_lims(xlim)\n",
    "    yticks = log_ticks_from_lims(ylim)\n",
    "\n",
    "    # Load data\n",
    "    data_df = load_data(sheet_name)\n",
    "    x = data_df['conc'].values\n",
    "    y = 2.**data_df['dCt'].values\n",
    "\n",
    "    # Load MCMC samples\n",
    "    mcmc_samples = load_mcmc_samples(sheet_name)\n",
    "\n",
    "    # Define concentration grid\n",
    "    x_grid = np.logspace(np.log10(xlim[0]),\n",
    "                         np.log10(xlim[1]),\n",
    "                         100)\n",
    "    \n",
    "    # Compute model predictions on grid\n",
    "    ppc = Predictive(single_drug_model, mcmc_samples)\n",
    "    ppc_val = ppc(rng_key_predict, x=x_grid)\n",
    "    y_hat_grid = 2.**np.median(ppc_val['log2_R'], axis=0)\n",
    "    y_lo_grid, y_hi_grid =  2.**hpdi(ppc_val['log2_R'], prob=0.95)\n",
    "\n",
    "    # Plot predictive interval\n",
    "    ax.fill_between(x_grid, \n",
    "                    y_lo_grid, \n",
    "                    y_hi_grid, \n",
    "                    alpha=0.2, \n",
    "                    interpolate=True,\n",
    "                    linewidth=0,\n",
    "                    color=color)\n",
    "\n",
    "    # Plot median model prediction\n",
    "    ax.plot(x_grid, \n",
    "            y_hat_grid, \n",
    "            c=color)\n",
    "\n",
    "    # Plot data\n",
    "    ix = x>0\n",
    "    ax.scatter(x[ix], \n",
    "               y[ix], \n",
    "               s=10,\n",
    "               alpha=.5,\n",
    "               color='k', \n",
    "               zorder=100,\n",
    "               linewidth=0)\n",
    "    n_zero = sum(~ix)\n",
    "    x_zero = xlim[0]*1.5*np.ones(n_zero)\n",
    "    y_zero = y[~ix]\n",
    "    ax.scatter(x_zero,\n",
    "               y_zero,\n",
    "               marker='<',\n",
    "               s=10,\n",
    "               alpha=.5,\n",
    "               color='k', \n",
    "               zorder=100,\n",
    "               linewidth=0)\n",
    "\n",
    "    # Show H\n",
    "    if show_H:\n",
    "        H_med = np.median(mcmc_samples['H'])\n",
    "        H_lo, H_hi = hpdi(mcmc_samples['H'])\n",
    "        if two_lines:\n",
    "            H_text = f'$H =${H_med:.2f}\\n[{H_lo:.2f}, {H_hi:.2f}]' \n",
    "            ax.text(s=H_text, x=xlim[0]*1.5, y=ylim[1]/1.25, ha='left', va='top', fontsize=text_fontsize)\n",
    "\n",
    "        else:\n",
    "            H_text = f'$H =${H_med:.2f} [{H_lo:.2f}, {H_hi:.2f}]' \n",
    "            ax.text(s=H_text, x=xlim[0]*1.5, y=ylim[1]/1.5, ha='left', va='top', fontsize=text_fontsize)\n",
    "\n",
    "    if show_EC2x:\n",
    "        EC2x_med = np.median(mcmc_samples['NC'])\n",
    "        EC2x_lo, EC2x_hi = hpdi(mcmc_samples['NC'])\n",
    "        EC2x_text = f'$EC_{{2x}} =${EC2x_med:.2f} [{EC2x_lo:.2f}, {EC2x_hi:.2f}]' \n",
    "        ax.text(s=EC2x_text, x=xlim[0]*1.5, y=ylim[1]/1.5, ha='left', va='top', fontsize=text_fontsize)\n",
    "            \n",
    "    # Style plot\n",
    "    ax.set_xscale('log')\n",
    "    ax.set_yscale('log')\n",
    "    ax.set_title(minigene)\n",
    "    ax.set_xlabel(f'[{drug}] ({units})')\n",
    "    ax.set_xticks(xticks)\n",
    "    ax.set_xlim(xlim)\n",
    "    ax.set_ylim(ylim)\n",
    "    ax.set_yticks(yticks)\n",
    "    if show_ylabel:\n",
    "        ax.set_ylabel(f'inclusion/exclusion')\n",
    "    if not show_yticklabels:\n",
    "        ax.set_yticklabels([])\n",
    "    ax.tick_params(axis='both', which='minor', left=False, bottom=False)"
   ]
  },
  {
   "cell_type": "code",
   "execution_count": 9,
   "id": "4b780ea3",
   "metadata": {
    "ExecuteTime": {
     "end_time": "2023-08-23T20:19:42.242688Z",
     "start_time": "2023-08-23T20:19:42.092363Z"
    },
    "code_folding": []
   },
   "outputs": [
    {
     "data": {
      "image/png": "[encoded data removed]",
      "text/plain": [
       "<Figure size 180x180 with 1 Axes>"
      ]
     },
     "metadata": {},
     "output_type": "display_data"
    }
   ],
   "source": [
    "# Fig5B\n",
    "fig, ax = plt.subplots(1,1,figsize=[1.8,1.8])\n",
    "\n",
    "xlim = np.array([10**-1, 10**5])\n",
    "x = np.logspace(*np.log10(xlim),100)\n",
    "ylim = [3E-3, 1E3]\n",
    "\n",
    "H = 2\n",
    "K = 20\n",
    "M = 1E4\n",
    "S = 3E-2\n",
    "\n",
    "y = S*(1 + (x/K)**H)/(1 + (1/M)*(x/K)**H)\n",
    "\n",
    "ax.plot(x,y)\n",
    "ax.set(xscale='log',\n",
    "       yscale='log',\n",
    "       xlim=xlim,\n",
    "       ylim=ylim,\n",
    "       xticks=[],\n",
    "       yticks=[])\n",
    "ax.axhline(S, linestyle='--', color='lightgray', zorder=-100)\n",
    "ax.axhline(M*S, linestyle='--', color='lightgray', zorder=-100)\n",
    "ax.minorticks_off()\n",
    "ax.set_ylabel('inclusion/exclusion (log scale)', labelpad=2)\n",
    "ax.set_xlabel('[drug] (log scale)', labelpad=2)\n",
    "plt.tight_layout()\n",
    "#ax.set_facecolor('none')\n",
    "fig.savefig('fig5D.pdf', facecolor='none')"
   ]
  },
  {
   "cell_type": "code",
   "execution_count": 10,
   "id": "158e77c4",
   "metadata": {
    "ExecuteTime": {
     "end_time": "2023-08-23T20:19:55.430723Z",
     "start_time": "2023-08-23T20:19:42.254621Z"
    },
    "code_folding": [],
    "scrolled": true
   },
   "outputs": [
    {
     "data": {
      "image/png": "[encoded data removed]",
      "text/plain": [
       "<Figure size 650x420 with 8 Axes>"
      ]
     },
     "metadata": {},
     "output_type": "display_data"
    }
   ],
   "source": [
    "# Fig5CD\n",
    "fig, axs = plt.subplots(2,4,figsize=[6.5, 4.2])\n",
    "\n",
    "# Define panel contents\n",
    "minigenes = ['$SMN2$ WT', '$SMN2$ 25T26T', '$SMN2$ Δ22-27', '$SMN2$ Δ17-28']\n",
    "drugs = ['risdiplam','branaplam']\n",
    "sheet_names = np.array([['t25a_ris_v2',  'smn2_pt1_ris',  'smn2_pt2_ris',  'smn2_pt3_ris'],\n",
    "                        ['t25a_bran_v5', 'smn2_pt1_bran', 'smn2_pt2_bran_v2', 'smn2_pt3_bran_v2']])\n",
    "colors = ['C0','C1']\n",
    "\n",
    "# Plot panels\n",
    "for i in range(2):\n",
    "    for j in range(4):\n",
    "        plot_single_drug(ax=axs[i,j],\n",
    "                         minigene=minigenes[j],\n",
    "                         drug=drugs[i],\n",
    "                         sheet_name=sheet_names[i,j],\n",
    "                         color=colors[i],\n",
    "                         show_ylabel=(j==0),\n",
    "                         show_yticklabels=(j==0),\n",
    "                         xlim=[10**-1.0, 10**3.5],\n",
    "                         ylim=[10**-3, 10**3.5],\n",
    "                         text_fontsize=7)\n",
    "\n",
    "fig.tight_layout(w_pad=1, h_pad=3)\n",
    "fig.savefig(f'fig5E-L.pdf', facecolor='white')"
   ]
  },
  {
   "cell_type": "code",
   "execution_count": 11,
   "id": "1302ee20",
   "metadata": {
    "ExecuteTime": {
     "end_time": "2023-08-23T20:19:55.539737Z",
     "start_time": "2023-08-23T20:19:55.431475Z"
    }
   },
   "outputs": [
    {
     "name": "stdout",
     "output_type": "stream",
     "text": [
      "t25a_ris_v2/smn2_pt1_ris: 211x [165x, 265x]\n",
      "t25a_ris_v2/smn2_pt2_ris: 320x [255x, 395x]\n",
      "t25a_ris_v2/smn2_pt3_ris: 34x [26x, 42x]\n"
     ]
    }
   ],
   "source": [
    "# Quantifry reduction in context strength\n",
    "\n",
    "sheet_names = np.array(['t25a_ris_v2',  'smn2_pt1_ris',  'smn2_pt2_ris',  'smn2_pt3_ris',\n",
    "                        't25a_bran_v5', 'smn2_pt1_bran', 'smn2_pt2_bran_v2', 'smn2_pt3_bran_v2'])\n",
    "\n",
    "# # Iterate over sheets\n",
    "# S_med_dict = {}\n",
    "# for sheet_name in sheet_names:\n",
    "    \n",
    "#     # Load MCMC samples\n",
    "#     mcmc_samples = load_mcmc_samples(sheet_name)\n",
    "#     Ss = 10**mcmc_samples['log10_S']\n",
    "#     S_med = np.median(Ss)\n",
    "#     S_lo, S_hi = hpdi(Ss, prob=0.95)\n",
    "#     print(f'{sheet_name}: {S_med:.2e} [{S_lo:.2e}, {S_hi:.2e}]')\n",
    "    \n",
    "sheet_pairs = [\n",
    "    ('t25a_ris_v2','smn2_pt1_ris'),\n",
    "    ('t25a_ris_v2','smn2_pt2_ris'),\n",
    "    ('t25a_ris_v2','smn2_pt3_ris'),\n",
    "#     ('t25a_bran_v5','smn2_pt1_bran'),\n",
    "#     ('t25a_bran_v5','smn2_pt2_bran'),\n",
    "#     ('t25a_bran_v5','smn2_pt3_bran'),    \n",
    "]\n",
    "for top_sheet, bottom_sheet in sheet_pairs:\n",
    "    \n",
    "    top_Ss = 10**load_mcmc_samples(top_sheet)['log10_S']\n",
    "    bottom_Ss = 10**load_mcmc_samples(bottom_sheet)['log10_S']\n",
    "    ratios = top_Ss/bottom_Ss\n",
    "    ratios_med = np.median(ratios)\n",
    "    ratios_lo, ratios_hi = hpdi(ratios, prob=0.95)\n",
    "    print(f'{top_sheet}/{bottom_sheet}: {ratios_med:.0f}x [{ratios_lo:.0f}x, {ratios_hi:.0f}x]')\n",
    "    "
   ]
  },
  {
   "cell_type": "code",
   "execution_count": 18,
   "id": "be2f61f3",
   "metadata": {
    "ExecuteTime": {
     "end_time": "2023-08-23T20:25:03.365396Z",
     "start_time": "2023-08-23T20:24:59.590889Z"
    }
   },
   "outputs": [
    {
     "data": {
      "image/png": "[encoded data removed]",
      "text/plain": [
       "<Figure size 650x420 with 2 Axes>"
      ]
     },
     "metadata": {},
     "output_type": "display_data"
    }
   ],
   "source": [
    "# Fig5CD\n",
    "fig, axs = plt.subplots(1,2,figsize=[6.5, 4.2])\n",
    "\n",
    "# Define panel contents\n",
    "drugs = ['risdiplam','branaplam']\n",
    "sheet_names = ['t25a_ris_pilot','t25a_bran_pilot']\n",
    "colors = ['C0','C1']\n",
    "\n",
    "# Plot panels\n",
    "for i in range(2):\n",
    "    plot_single_drug(ax=axs[i],\n",
    "                     minigene='$SMN2$ WT',\n",
    "                     drug=drugs[i],\n",
    "                     sheet_name=sheet_names[i],\n",
    "                     color=colors[i],\n",
    "                     show_H=False,\n",
    "                     show_EC2x=True,\n",
    "                     show_ylabel=(j==0),\n",
    "                     show_yticklabels=(j==0),\n",
    "                     xlim=[10**-1.0, 10**3.5],\n",
    "                     ylim=[10**-3, 10**3.5],\n",
    "                     text_fontsize=7)\n",
    "\n",
    "fig.tight_layout(w_pad=1, h_pad=3)\n",
    "fig.savefig(f'figS1_pilot.pdf', facecolor='white')"
   ]
  },
  {
   "cell_type": "code",
   "execution_count": null,
   "id": "e65bf63c",
   "metadata": {},
   "outputs": [],
   "source": []
  }
 ],
 "metadata": {
  "kernelspec": {
   "display_name": "Python 3 (ipykernel)",
   "language": "python",
   "name": "python3"
  },
  "language_info": {
   "codemirror_mode": {
    "name": "ipython",
    "version": 3
   },
   "file_extension": ".py",
   "mimetype": "text/x-python",
   "name": "python",
   "nbconvert_exporter": "python",
   "pygments_lexer": "ipython3",
   "version": "3.10.11"
  },
  "varInspector": {
   "cols": {
    "lenName": 16,
    "lenType": 16,
    "lenVar": 40
   },
   "kernels_config": {
    "python": {
     "delete_cmd_postfix": "",
     "delete_cmd_prefix": "del ",
     "library": "var_list.py",
     "varRefreshCmd": "print(var_dic_list())"
    },
    "r": {
     "delete_cmd_postfix": ") ",
     "delete_cmd_prefix": "rm(",
     "library": "var_list.r",
     "varRefreshCmd": "cat(var_dic_list()) "
    }
   },
   "types_to_exclude": [
    "module",
    "function",
    "builtin_function_or_method",
    "instance",
    "_Feature"
   ],
   "window_display": false
  }
 },
 "nbformat": 4,
 "nbformat_minor": 5
}
