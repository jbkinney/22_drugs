{
 "cells": [
  {
   "cell_type": "code",
   "execution_count": 1,
   "id": "24a0ac5d-3237-4741-ab80-83de12f9a07e",
   "metadata": {
    "ExecuteTime": {
     "end_time": "2023-08-09T11:07:30.557300Z",
     "start_time": "2023-08-09T11:07:29.037732Z"
    }
   },
   "outputs": [
    {
     "name": "stderr",
     "output_type": "stream",
     "text": [
      "/var/folders/20/m6rbxnjn0zq40r2bn1x6f5x80000gn/T/ipykernel_31242/1503347569.py:19: DeprecationWarning: jax.numpy.DeviceArray is deprecated. Use jax.Array.\n",
      "  from jax.numpy import DeviceArray\n"
     ]
    }
   ],
   "source": [
    "# Standard imports\n",
    "import pandas as pd\n",
    "import numpy as np\n",
    "import matplotlib\n",
    "import matplotlib.pyplot as plt\n",
    "from dataclasses import dataclass\n",
    "import time\n",
    "import pickle\n",
    "\n",
    "# Import x to one hot encoding\n",
    "import utils \n",
    "\n",
    "# Logomaker\n",
    "import logomaker\n",
    "\n",
    "# jax import\n",
    "import jax.random as random\n",
    "import jax.numpy as jnp\n",
    "from jax.numpy import DeviceArray\n",
    "\n",
    "# numpyro imports\n",
    "import numpyro\n",
    "import numpyro.distributions as dist\n",
    "from numpyro.infer import NUTS, MCMC, HMC, SVI\n",
    "from numpyro.infer import Predictive\n",
    "from numpyro.diagnostics import hpdi\n",
    "\n",
    "# arviz\n",
    "import arviz as az\n",
    "\n",
    "# For visualization. Note that this notebook won't be making figure, so don't need to be picky. \n",
    "#%matplotlib notebook\n",
    "%matplotlib inline"
   ]
  },
  {
   "cell_type": "code",
   "execution_count": 2,
   "id": "a7f40dd5-c72e-455c-a7ab-ed132216ba4f",
   "metadata": {
    "ExecuteTime": {
     "end_time": "2023-08-09T11:07:31.216807Z",
     "start_time": "2023-08-09T11:07:31.117232Z"
    }
   },
   "outputs": [],
   "source": [
    "@dataclass\n",
    "class args:\n",
    "    num_chains = 4\n",
    "    num_samples = 30000\n",
    "    num_warmup = 30000\n",
    "    device = 'cpu'\n",
    "    \n",
    "numpyro.set_platform(args.device)\n",
    "numpyro.set_host_device_count(args.num_chains)\n",
    "\n",
    "# generate random keys for training and predictions\n",
    "rng_key, rng_key_predict = random.split(random.PRNGKey(0))"
   ]
  },
  {
   "cell_type": "code",
   "execution_count": 7,
   "id": "cabde858",
   "metadata": {
    "ExecuteTime": {
     "end_time": "2023-08-09T11:58:28.490514Z",
     "start_time": "2023-08-09T11:58:28.478214Z"
    },
    "code_folding": []
   },
   "outputs": [],
   "source": [
    "def load_data(sheet_name=None):\n",
    "    # Name of excel file\n",
    "    file_name = '../data/qPCR/control_dose_response_curves.xlsx'\n",
    "    \n",
    "    # Return sheet names if none specified\n",
    "    if sheet_name is None:\n",
    "        return pd.ExcelFile(file_name).sheet_names\n",
    "    \n",
    "    # Load data from Excel sheet\n",
    "    data_df = pd.read_excel(file_name,\n",
    "                            sheet_name=sheet_name, header=[0, 1], index_col=[0, 1])\n",
    "    data_df.index.rename(['conc', 'bio_rep'], inplace=True)\n",
    "    data_df.columns.rename(['primers', 'tech_rep'], inplace=True)\n",
    "\n",
    "    # Pivot to make tidy data\n",
    "    tidy_df = data_df.melt(value_name='cycles',\n",
    "                           ignore_index=False).reset_index()\n",
    "    \n",
    "    # For each (conc, bio_rep) compute mean of cycles across tech_rep\n",
    "    df = tidy_df.groupby(['conc','bio_rep','primers']).mean()['cycles'].to_frame().reset_index()\n",
    "    df = df.pivot(index=['conc','bio_rep'],columns='primers', values='cycles')\n",
    "\n",
    "    # Compute dCt values (NOTE: exclusion - inclusion !)\n",
    "    df['dCt'] = df['exclusion'] - df['inclusion']\n",
    "    df = df.reset_index()[['conc','bio_rep','dCt']]\n",
    "    df.columns.name = ''\n",
    "    \n",
    "    return df"
   ]
  },
  {
   "cell_type": "code",
   "execution_count": 8,
   "id": "e8e5bbd0-c8ae-4a1c-a409-368d69881a33",
   "metadata": {
    "ExecuteTime": {
     "end_time": "2023-08-09T11:58:29.026029Z",
     "start_time": "2023-08-09T11:58:29.015505Z"
    },
    "code_folding": []
   },
   "outputs": [],
   "source": [
    "def single_drug_model(x, y=None):\n",
    "\n",
    "    # Context strength\n",
    "    log10_S = numpyro.sample(\"log10_S\", dist.Uniform(low=-3, high=3))\n",
    "    S=numpyro.deterministic('S', 10.0**log10_S)\n",
    "    #S=numpyro.deterministic('S', 0.55)\n",
    "\n",
    "    # Hill coefficient\n",
    "    log2_H = numpyro.sample(\"log2_H\", dist.Uniform(low=-2, high=2))\n",
    "    H=numpyro.deterministic('H', 2.0**log2_H)\n",
    "    #H = numpyro.deterministic('H', 1.13)\n",
    "\n",
    "    # Normalizing concentration\n",
    "    log10_NC = numpyro.sample(\"log10_NC\", dist.Uniform(low=-3, high=3))\n",
    "    NC=numpyro.deterministic('NC',10.0**log10_NC)\n",
    "\n",
    "    # Measurement noise\n",
    "    log10_sigma = numpyro.sample(\"log10_sigma\", dist.Uniform(low=-2, high=2))\n",
    "    sigma = numpyro.deterministic('sigma',10.0**log10_sigma)\n",
    "\n",
    "    # Amplitude\n",
    "    log10_alpha = numpyro.sample(\"log10_alpha\", dist.Uniform(low=0, high=6))\n",
    "    alpha = numpyro.deterministic('alpha',10.0**log10_alpha)\n",
    "    #alpha = numpyro.deterministic('alpha',97.9)\n",
    "    \n",
    "    # R = inclusion / exclusion\n",
    "    R = numpyro.deterministic('R', S*(1 + (x/NC)**H)/(1 + (1/alpha)*(x/NC)**H))\n",
    "    log2_R = numpyro.deterministic('log2_R', jnp.log2(R))\n",
    "    numpyro.sample('yhat', dist.Normal(log2_R, sigma), obs=y)"
   ]
  },
  {
   "cell_type": "code",
   "execution_count": 9,
   "id": "a8132aff",
   "metadata": {
    "ExecuteTime": {
     "end_time": "2023-08-09T11:58:30.116617Z",
     "start_time": "2023-08-09T11:58:30.108024Z"
    },
    "code_folding": []
   },
   "outputs": [],
   "source": [
    "def plot_regression(model_prediction_dict, data_dict, ax):\n",
    "    x = data_dict['x'].ravel()\n",
    "    y = data_dict['y'].ravel()\n",
    "    # Sort values for plotting by x axis\n",
    "    idx = jnp.argsort(x)\n",
    "    x_plot = model_prediction_dict['concs'] #x[idx]\n",
    "    #y_plot = model_prediction_dict['concs'] #y[idx]\n",
    "    mean   = model_prediction_dict['mean'] #y_hat_mean[idx]\n",
    "    hpdi   = model_prediction_dict['hdpi'] #y_hat_hpdi[:, idx]\n",
    "    # Plot\n",
    "    ax.scatter(x, y, label='data', s=20, c='k')\n",
    "    ix = (x==0)\n",
    "    x_left = min(x[~ix])/3\n",
    "    ax.scatter(x_left*np.ones(sum(ix)),\n",
    "               y[ix],\n",
    "               s=20,\n",
    "               marker='<', \n",
    "               c='k')\n",
    "    ax.fill_between(x_plot, hpdi[0,:].ravel(), \n",
    "                    hpdi[1,:].ravel(), alpha=0.3, \n",
    "                    interpolate=True, color='darkorange',\n",
    "                    label=r'$95\\%HDI$')\n",
    "    ax.plot(x_plot, mean, label=r'$\\hat{C_t}$', c='royalblue')\n",
    "\n",
    "    return ax"
   ]
  },
  {
   "cell_type": "code",
   "execution_count": 10,
   "id": "15ad41ee-7d1f-4055-82c6-93c23bcc508a",
   "metadata": {
    "ExecuteTime": {
     "end_time": "2023-08-09T11:59:00.474595Z",
     "start_time": "2023-08-09T11:58:54.243442Z"
    },
    "scrolled": false
   },
   "outputs": [
    {
     "name": "stdout",
     "output_type": "stream",
     "text": [
      "Processing control_smn2_asoi20...\n",
      "\n",
      "Training using MCMC\n",
      "\n"
     ]
    },
    {
     "data": {
      "application/vnd.jupyter.widget-view+json": {
       "model_id": "c971588582e843fd99c2fe3d234bc480",
       "version_major": 2,
       "version_minor": 0
      },
      "text/plain": [
       "  0%|          | 0/60000 [00:00<?, ?it/s]"
      ]
     },
     "metadata": {},
     "output_type": "display_data"
    },
    {
     "data": {
      "application/vnd.jupyter.widget-view+json": {
       "model_id": "3eca01c72e6b43748c5153419dbfcb66",
       "version_major": 2,
       "version_minor": 0
      },
      "text/plain": [
       "  0%|          | 0/60000 [00:00<?, ?it/s]"
      ]
     },
     "metadata": {},
     "output_type": "display_data"
    },
    {
     "data": {
      "application/vnd.jupyter.widget-view+json": {
       "model_id": "d4aca26645824ee8a3051f5e6fc2dcb5",
       "version_major": 2,
       "version_minor": 0
      },
      "text/plain": [
       "  0%|          | 0/60000 [00:00<?, ?it/s]"
      ]
     },
     "metadata": {},
     "output_type": "display_data"
    },
    {
     "data": {
      "application/vnd.jupyter.widget-view+json": {
       "model_id": "e0f3fcfd58fa47dd8989cfba834b66a6",
       "version_major": 2,
       "version_minor": 0
      },
      "text/plain": [
       "  0%|          | 0/60000 [00:00<?, ?it/s]"
      ]
     },
     "metadata": {},
     "output_type": "display_data"
    },
    {
     "name": "stdout",
     "output_type": "stream",
     "text": [
      "\n",
      "MCMC elapsed time: 3.2050938606262207\n"
     ]
    }
   ],
   "source": [
    "# Get list of all sheet names\n",
    "# sheet_names = load_data()\n",
    "# sheet_names = [\n",
    "#     't25a_ris_v2',          #5C  \n",
    "#     'smn2_pt1_ris',         #5D\n",
    "#     'smn2_pt2_ris',         #5E\n",
    "#     'smn2_pt3_ris',         #5F\n",
    "#     't25a_bran_v5',         #5G\n",
    "#     'smn2_pt1_bran',        #5H \n",
    "#     'smn2_pt2_bran',        #5I\n",
    "#     'smn2_pt3_bran',        #5J\n",
    "#     't25a_asoi7_v2',        #6A\n",
    "#     't25a_asoi6',           #6B\n",
    "#     'elp1_rectas',          #6C\n",
    "#     'elp1_aso',             #6D\n",
    "#     't25a_ris_bran_v2',     #6E\n",
    "#     't25a_ris_asoi6_v4',    #6F\n",
    "#     't25a_ris_asoi7_v2',    #6G\n",
    "#     't25a_bran_asoi6_v2',   #6H\n",
    "#     't25a_bran_asoi7',      #6I\n",
    "#     't25a_asoi6_asoi7_v3',  #6J\n",
    "#     'elp1_rectas_aso'       #6K\n",
    "# ]\n",
    "sheet_names = ['control_smn2_asoi20']\n",
    "\n",
    "# Do inference for every sheet name\n",
    "for sheet_name in sheet_names:\n",
    "    print(f'Processing {sheet_name}...')\n",
    "    \n",
    "    # Load data\n",
    "    data_df = load_data(sheet_name)\n",
    "\n",
    "    # Remove NaNs\n",
    "    data_df = data_df.dropna()\n",
    "\n",
    "    print('\\nTraining using MCMC\\n')\n",
    "    start = time.time()\n",
    "    data_dict = {\n",
    "        \"y\": jnp.array(data_df['dCt'].values),\n",
    "        \"x\": jnp.array(data_df['conc'].values)}\n",
    "\n",
    "    kernel = NUTS(model=single_drug_model)\n",
    "    sample_kwargs = dict(\n",
    "        sampler=kernel, \n",
    "        num_warmup=args.num_warmup, \n",
    "        num_samples=args.num_samples, \n",
    "        num_chains=args.num_chains, \n",
    "        chain_method=\"parallel\",\n",
    "    )\n",
    "    mcmc = MCMC(**sample_kwargs)\n",
    "    mcmc.run(rng_key, **data_dict)\n",
    "    print(\"\\nMCMC elapsed time:\", time.time() - start)\n",
    "\n",
    "    #Save posterior samples\n",
    "    mcmc_samples = mcmc.get_samples()\n",
    "    mcmc_file_name = f'../mcmc_samples/mcmc_{sheet_name}.pkl'\n",
    "    with open(mcmc_file_name, 'wb') as f:\n",
    "        pickle.dump(mcmc_samples, f)\n",
    "        \n",
    "    # Use Arviz for summary\n",
    "    numpyro_inference_data = az.from_numpyro(mcmc);\n",
    "    summary_df = az.summary(numpyro_inference_data)\n",
    "\n",
    "    # Plot posterior samples\n",
    "    ppc = Predictive(single_drug_model, mcmc.get_samples())\n",
    "    x_grid = np.logspace(-2,3,100)\n",
    "    ppc_val = ppc(rng_key_predict, x=x_grid)\n",
    "    \n",
    "    model_prediction_dict = {\n",
    "        \"concs\":x_grid,\n",
    "        \"mean\": jnp.mean(ppc_val['yhat'], axis=0),\n",
    "        \"hdpi\": numpyro.diagnostics.hpdi(ppc_val['yhat'], prob=0.95),\n",
    "    }\n",
    "    \n",
    "    fig, ax = plt.subplots(nrows=1, ncols=1, figsize=(4, 4))\n",
    "    ax = plot_regression(model_prediction_dict, data_dict, ax)\n",
    "    ax.legend()\n",
    "    ax.set_xscale('log')\n",
    "    ax.set_xlabel('concentraion')\n",
    "    ax.set_ylabel(r'$\\Delta C_t$')\n",
    "    H_mean = summary_df.loc['H']['mean']\n",
    "    H_lo = summary_df.loc['H']['hdi_3%']\n",
    "    H_hi = summary_df.loc['H']['hdi_97%']\n",
    "    S_mean = summary_df.loc['S']['mean']\n",
    "    ax.set_title(f'{sheet_name}: $H =${H_mean} [{H_lo}, {H_hi}]')\n",
    "    plt.tight_layout()\n",
    "    plt.savefig(f'all_dose_response_curves/{sheet_name}.png')\n",
    "    plt.close()"
   ]
  },
  {
   "cell_type": "code",
   "execution_count": null,
   "id": "f5a943a2",
   "metadata": {},
   "outputs": [],
   "source": []
  }
 ],
 "metadata": {
  "kernelspec": {
   "display_name": "Python 3 (ipykernel)",
   "language": "python",
   "name": "python3"
  },
  "language_info": {
   "codemirror_mode": {
    "name": "ipython",
    "version": 3
   },
   "file_extension": ".py",
   "mimetype": "text/x-python",
   "name": "python",
   "nbconvert_exporter": "python",
   "pygments_lexer": "ipython3",
   "version": "3.10.11"
  },
  "varInspector": {
   "cols": {
    "lenName": 16,
    "lenType": 16,
    "lenVar": 40
   },
   "kernels_config": {
    "python": {
     "delete_cmd_postfix": "",
     "delete_cmd_prefix": "del ",
     "library": "var_list.py",
     "varRefreshCmd": "print(var_dic_list())"
    },
    "r": {
     "delete_cmd_postfix": ") ",
     "delete_cmd_prefix": "rm(",
     "library": "var_list.r",
     "varRefreshCmd": "cat(var_dic_list()) "
    }
   },
   "types_to_exclude": [
    "module",
    "function",
    "builtin_function_or_method",
    "instance",
    "_Feature"
   ],
   "window_display": false
  }
 },
 "nbformat": 4,
 "nbformat_minor": 5
}
