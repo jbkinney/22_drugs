{
 "cells": [
  {
   "cell_type": "code",
   "execution_count": 1,
   "id": "24a0ac5d-3237-4741-ab80-83de12f9a07e",
   "metadata": {
    "ExecuteTime": {
     "end_time": "2023-08-31T14:55:35.356819Z",
     "start_time": "2023-08-31T14:55:33.756789Z"
    }
   },
   "outputs": [],
   "source": [
    "# Standard imports\n",
    "import pandas as pd\n",
    "import numpy as np\n",
    "import matplotlib\n",
    "import matplotlib.pyplot as plt\n",
    "from dataclasses import dataclass\n",
    "import time\n",
    "import pickle\n",
    "\n",
    "# Import x to one hot encoding\n",
    "import utils \n",
    "\n",
    "# Logomaker\n",
    "import logomaker\n",
    "\n",
    "# jax import\n",
    "import jax.random as random\n",
    "import jax.numpy as jnp\n",
    "from jax.numpy import DeviceArray\n",
    "\n",
    "# numpyro imports\n",
    "import numpyro\n",
    "import numpyro.distributions as dist\n",
    "from numpyro.infer import NUTS, MCMC, HMC, SVI\n",
    "from numpyro.infer import Predictive\n",
    "from numpyro.diagnostics import hpdi\n",
    "\n",
    "# arviz\n",
    "import arviz as az\n",
    "\n",
    "# For visualization. Note that this notebook won't be making figure, so don't need to be picky. \n",
    "#%matplotlib notebook\n",
    "%matplotlib inline"
   ]
  },
  {
   "cell_type": "code",
   "execution_count": 2,
   "id": "a7f40dd5-c72e-455c-a7ab-ed132216ba4f",
   "metadata": {
    "ExecuteTime": {
     "end_time": "2023-08-31T14:55:35.432716Z",
     "start_time": "2023-08-31T14:55:35.357750Z"
    }
   },
   "outputs": [],
   "source": [
    "@dataclass\n",
    "class args:\n",
    "    num_chains = 4\n",
    "    num_samples = 30000\n",
    "    num_warmup = 30000\n",
    "    device = 'cpu'\n",
    "    \n",
    "numpyro.set_platform(args.device)\n",
    "numpyro.set_host_device_count(args.num_chains)\n",
    "\n",
    "# generate random keys for training and predictions\n",
    "rng_key, rng_key_predict = random.split(random.PRNGKey(0))"
   ]
  },
  {
   "cell_type": "code",
   "execution_count": 3,
   "id": "cabde858",
   "metadata": {
    "ExecuteTime": {
     "end_time": "2023-08-31T14:55:35.519950Z",
     "start_time": "2023-08-31T14:55:35.433661Z"
    },
    "code_folding": []
   },
   "outputs": [
    {
     "data": {
      "text/html": [
       "<div>\n",
       "<style scoped>\n",
       "    .dataframe tbody tr th:only-of-type {\n",
       "        vertical-align: middle;\n",
       "    }\n",
       "\n",
       "    .dataframe tbody tr th {\n",
       "        vertical-align: top;\n",
       "    }\n",
       "\n",
       "    .dataframe thead th {\n",
       "        text-align: right;\n",
       "    }\n",
       "</style>\n",
       "<table border=\"1\" class=\"dataframe\">\n",
       "  <thead>\n",
       "    <tr style=\"text-align: right;\">\n",
       "      <th></th>\n",
       "      <th>conc</th>\n",
       "      <th>bio_rep</th>\n",
       "      <th>psi</th>\n",
       "      <th>dCt</th>\n",
       "    </tr>\n",
       "  </thead>\n",
       "  <tbody>\n",
       "    <tr>\n",
       "      <th>0</th>\n",
       "      <td>0.0</td>\n",
       "      <td>1</td>\n",
       "      <td>51.792796</td>\n",
       "      <td>0.103503</td>\n",
       "    </tr>\n",
       "    <tr>\n",
       "      <th>1</th>\n",
       "      <td>0.0</td>\n",
       "      <td>2</td>\n",
       "      <td>49.067372</td>\n",
       "      <td>-0.053826</td>\n",
       "    </tr>\n",
       "    <tr>\n",
       "      <th>2</th>\n",
       "      <td>1.0</td>\n",
       "      <td>1</td>\n",
       "      <td>51.533508</td>\n",
       "      <td>0.088523</td>\n",
       "    </tr>\n",
       "    <tr>\n",
       "      <th>3</th>\n",
       "      <td>1.0</td>\n",
       "      <td>2</td>\n",
       "      <td>53.496307</td>\n",
       "      <td>0.202094</td>\n",
       "    </tr>\n",
       "    <tr>\n",
       "      <th>4</th>\n",
       "      <td>2.5</td>\n",
       "      <td>1</td>\n",
       "      <td>54.046726</td>\n",
       "      <td>0.234040</td>\n",
       "    </tr>\n",
       "    <tr>\n",
       "      <th>5</th>\n",
       "      <td>2.5</td>\n",
       "      <td>2</td>\n",
       "      <td>54.898191</td>\n",
       "      <td>0.283573</td>\n",
       "    </tr>\n",
       "    <tr>\n",
       "      <th>6</th>\n",
       "      <td>5.0</td>\n",
       "      <td>1</td>\n",
       "      <td>59.216283</td>\n",
       "      <td>0.538001</td>\n",
       "    </tr>\n",
       "    <tr>\n",
       "      <th>7</th>\n",
       "      <td>5.0</td>\n",
       "      <td>2</td>\n",
       "      <td>56.994192</td>\n",
       "      <td>0.406283</td>\n",
       "    </tr>\n",
       "    <tr>\n",
       "      <th>8</th>\n",
       "      <td>10.0</td>\n",
       "      <td>1</td>\n",
       "      <td>63.112445</td>\n",
       "      <td>0.774790</td>\n",
       "    </tr>\n",
       "    <tr>\n",
       "      <th>9</th>\n",
       "      <td>10.0</td>\n",
       "      <td>2</td>\n",
       "      <td>61.342216</td>\n",
       "      <td>0.666121</td>\n",
       "    </tr>\n",
       "    <tr>\n",
       "      <th>10</th>\n",
       "      <td>25.0</td>\n",
       "      <td>1</td>\n",
       "      <td>79.001946</td>\n",
       "      <td>1.911633</td>\n",
       "    </tr>\n",
       "    <tr>\n",
       "      <th>11</th>\n",
       "      <td>25.0</td>\n",
       "      <td>2</td>\n",
       "      <td>77.271505</td>\n",
       "      <td>1.765434</td>\n",
       "    </tr>\n",
       "    <tr>\n",
       "      <th>12</th>\n",
       "      <td>50.0</td>\n",
       "      <td>1</td>\n",
       "      <td>88.921796</td>\n",
       "      <td>3.004813</td>\n",
       "    </tr>\n",
       "    <tr>\n",
       "      <th>13</th>\n",
       "      <td>50.0</td>\n",
       "      <td>2</td>\n",
       "      <td>88.152519</td>\n",
       "      <td>2.895421</td>\n",
       "    </tr>\n",
       "    <tr>\n",
       "      <th>14</th>\n",
       "      <td>100.0</td>\n",
       "      <td>1</td>\n",
       "      <td>95.795546</td>\n",
       "      <td>4.509968</td>\n",
       "    </tr>\n",
       "    <tr>\n",
       "      <th>15</th>\n",
       "      <td>100.0</td>\n",
       "      <td>2</td>\n",
       "      <td>95.274824</td>\n",
       "      <td>4.333655</td>\n",
       "    </tr>\n",
       "    <tr>\n",
       "      <th>16</th>\n",
       "      <td>250.0</td>\n",
       "      <td>1</td>\n",
       "      <td>99.277322</td>\n",
       "      <td>7.101967</td>\n",
       "    </tr>\n",
       "    <tr>\n",
       "      <th>17</th>\n",
       "      <td>250.0</td>\n",
       "      <td>2</td>\n",
       "      <td>99.387491</td>\n",
       "      <td>7.342190</td>\n",
       "    </tr>\n",
       "    <tr>\n",
       "      <th>18</th>\n",
       "      <td>500.0</td>\n",
       "      <td>1</td>\n",
       "      <td>100.000000</td>\n",
       "      <td>inf</td>\n",
       "    </tr>\n",
       "    <tr>\n",
       "      <th>19</th>\n",
       "      <td>500.0</td>\n",
       "      <td>2</td>\n",
       "      <td>99.641724</td>\n",
       "      <td>8.119534</td>\n",
       "    </tr>\n",
       "  </tbody>\n",
       "</table>\n",
       "</div>"
      ],
      "text/plain": [
       "     conc  bio_rep         psi       dCt\n",
       "0     0.0        1   51.792796  0.103503\n",
       "1     0.0        2   49.067372 -0.053826\n",
       "2     1.0        1   51.533508  0.088523\n",
       "3     1.0        2   53.496307  0.202094\n",
       "4     2.5        1   54.046726  0.234040\n",
       "5     2.5        2   54.898191  0.283573\n",
       "6     5.0        1   59.216283  0.538001\n",
       "7     5.0        2   56.994192  0.406283\n",
       "8    10.0        1   63.112445  0.774790\n",
       "9    10.0        2   61.342216  0.666121\n",
       "10   25.0        1   79.001946  1.911633\n",
       "11   25.0        2   77.271505  1.765434\n",
       "12   50.0        1   88.921796  3.004813\n",
       "13   50.0        2   88.152519  2.895421\n",
       "14  100.0        1   95.795546  4.509968\n",
       "15  100.0        2   95.274824  4.333655\n",
       "16  250.0        1   99.277322  7.101967\n",
       "17  250.0        2   99.387491  7.342190\n",
       "18  500.0        1  100.000000       inf\n",
       "19  500.0        2   99.641724  8.119534"
      ]
     },
     "execution_count": 3,
     "metadata": {},
     "output_type": "execute_result"
    }
   ],
   "source": [
    "import pdb\n",
    "def load_data(sheet_name=None):\n",
    "    # Name of excel file\n",
    "    file_name = '../data/qPCR/pilot_dose_response_curves.xlsx'\n",
    "    \n",
    "    # Return sheet names if none specified\n",
    "    if sheet_name is None:\n",
    "        return pd.ExcelFile(file_name).sheet_names\n",
    "    \n",
    "    # Load data from Excel sheet\n",
    "    data_df = pd.read_excel(file_name,\n",
    "                            sheet_name=sheet_name, header=[0], index_col=[0, 1])\n",
    "    data_df.index.rename(['conc', 'bio_rep'], inplace=True)\n",
    "    data_df.columns.rename('primers', inplace=True)\n",
    "\n",
    "    # Pivot to make tidy data\n",
    "    tidy_df = data_df.melt(value_name='cycles',\n",
    "                           ignore_index=False).reset_index()\n",
    "    \n",
    "    # For each (conc, bio_rep) compute mean of cycles across tech_rep\n",
    "    #df = tidy_df.groupby(['conc','bio_rep','primers']).mean()['cycles'].to_frame().reset_index()\n",
    "    df = tidy_df.pivot(index=['conc','bio_rep'], columns='primers', values='cycles')\n",
    "\n",
    "    # Compute dCt values (NOTE: exclusion - inclusion !)\n",
    "    df['dCt'] = np.log2(df['inclusion']/df['exclusion'])\n",
    "    df['psi'] = 100*df['inclusion']/(df['inclusion']+df['exclusion'])\n",
    "    df = df.reset_index()[['conc','bio_rep','psi','dCt']]\n",
    "    df.columns.name = ''\n",
    "    \n",
    "    return df\n",
    "\n",
    "df = load_data('t25a_ris_pilot')\n",
    "df"
   ]
  },
  {
   "cell_type": "code",
   "execution_count": 4,
   "id": "e8e5bbd0-c8ae-4a1c-a409-368d69881a33",
   "metadata": {
    "ExecuteTime": {
     "end_time": "2023-08-31T14:55:35.524461Z",
     "start_time": "2023-08-31T14:55:35.521505Z"
    },
    "code_folding": []
   },
   "outputs": [],
   "source": [
    "def single_drug_model_psi(x, y=None):\n",
    "\n",
    "    # Context strength\n",
    "    log10_S = numpyro.sample(\"log10_S\", dist.Uniform(low=-3, high=3))\n",
    "    S=numpyro.deterministic('S', 10.0**log10_S)\n",
    "    #S=numpyro.deterministic('S', 0.55)\n",
    "\n",
    "    # Hill coefficient\n",
    "    log2_H = numpyro.sample(\"log2_H\", dist.Uniform(low=-2, high=2))\n",
    "    H=numpyro.deterministic('H', 2.0**log2_H)\n",
    "    #H = numpyro.deterministic('H', 1.13)\n",
    "\n",
    "    # Normalizing concentration [NC = EC_2x]\n",
    "    log10_NC = numpyro.sample(\"log10_NC\", dist.Uniform(low=-3, high=3))\n",
    "    NC=numpyro.deterministic('NC',10.0**log10_NC)\n",
    "\n",
    "    # Measurement noise\n",
    "    log10_sigma = numpyro.sample(\"log10_sigma\", dist.Uniform(low=-2, high=2))\n",
    "    sigma = numpyro.deterministic('sigma',10.0**log10_sigma)\n",
    "\n",
    "    # Amplitude [alpha = E_max]\n",
    "    log10_alpha = numpyro.sample(\"log10_alpha\", dist.Uniform(low=0, high=6))\n",
    "    alpha = numpyro.deterministic('alpha',10.0**log10_alpha)\n",
    "    #alpha = numpyro.deterministic('alpha',97.9)\n",
    "    \n",
    "    # R = inclusion / exclusion\n",
    "    R = numpyro.deterministic('R', S*(1 + (x/NC)**H)/(1 + (1/alpha)*(x/NC)**H))\n",
    "    psi = numpyro.deterministic('psi', 100*R/(1+R))\n",
    "    numpyro.sample('yhat', dist.Normal(psi, sigma), obs=y)"
   ]
  },
  {
   "cell_type": "code",
   "execution_count": 5,
   "id": "a8132aff",
   "metadata": {
    "ExecuteTime": {
     "end_time": "2023-08-31T14:55:35.528214Z",
     "start_time": "2023-08-31T14:55:35.525263Z"
    },
    "code_folding": []
   },
   "outputs": [],
   "source": [
    "def plot_regression(model_prediction_dict, data_dict, ax):\n",
    "    x = data_dict['x'].ravel()\n",
    "    y = data_dict['y'].ravel()\n",
    "    # Sort values for plotting by x axis\n",
    "    idx = jnp.argsort(x)\n",
    "    x_plot = model_prediction_dict['concs'] #x[idx]\n",
    "    #y_plot = model_prediction_dict['concs'] #y[idx]\n",
    "    mean   = model_prediction_dict['mean'] #y_hat_mean[idx]\n",
    "    hpdi   = model_prediction_dict['hdpi'] #y_hat_hpdi[:, idx]\n",
    "    # Plot\n",
    "    ax.scatter(x, y, label='data', s=20, c='k')\n",
    "    ix = (x==0)\n",
    "    x_left = min(x[~ix])/3\n",
    "    ax.scatter(x_left*np.ones(sum(ix)),\n",
    "               y[ix],\n",
    "               s=20,\n",
    "               marker='<', \n",
    "               c='k')\n",
    "    ax.fill_between(x_plot, hpdi[0,:].ravel(), \n",
    "                    hpdi[1,:].ravel(), alpha=0.3, \n",
    "                    interpolate=True, color='darkorange',\n",
    "                    label=r'$95\\%HDI$')\n",
    "    ax.plot(x_plot, mean, label=r'PSI', c='royalblue')\n",
    "\n",
    "    return ax"
   ]
  },
  {
   "cell_type": "code",
   "execution_count": null,
   "id": "15ad41ee-7d1f-4055-82c6-93c23bcc508a",
   "metadata": {
    "ExecuteTime": {
     "start_time": "2023-08-31T14:55:33.739Z"
    },
    "scrolled": false
   },
   "outputs": [
    {
     "name": "stdout",
     "output_type": "stream",
     "text": [
      "Processing t25a_ris_pilot...\n",
      "\n",
      "Training using MCMC\n",
      "\n"
     ]
    },
    {
     "data": {
      "application/vnd.jupyter.widget-view+json": {
       "model_id": "f6d0be5e6865491eb294559ff3f6f8de",
       "version_major": 2,
       "version_minor": 0
      },
      "text/plain": [
       "  0%|          | 0/60000 [00:00<?, ?it/s]"
      ]
     },
     "metadata": {},
     "output_type": "display_data"
    },
    {
     "data": {
      "application/vnd.jupyter.widget-view+json": {
       "model_id": "2520eb13cf8749668a4a694418b5a0f0",
       "version_major": 2,
       "version_minor": 0
      },
      "text/plain": [
       "  0%|          | 0/60000 [00:00<?, ?it/s]"
      ]
     },
     "metadata": {},
     "output_type": "display_data"
    },
    {
     "data": {
      "application/vnd.jupyter.widget-view+json": {
       "model_id": "4b052050a35a4fe2b47de90c073ed735",
       "version_major": 2,
       "version_minor": 0
      },
      "text/plain": [
       "  0%|          | 0/60000 [00:00<?, ?it/s]"
      ]
     },
     "metadata": {},
     "output_type": "display_data"
    },
    {
     "data": {
      "application/vnd.jupyter.widget-view+json": {
       "model_id": "30fe009a99164dde9342874070649caf",
       "version_major": 2,
       "version_minor": 0
      },
      "text/plain": [
       "  0%|          | 0/60000 [00:00<?, ?it/s]"
      ]
     },
     "metadata": {},
     "output_type": "display_data"
    },
    {
     "name": "stdout",
     "output_type": "stream",
     "text": [
      "\n",
      "MCMC elapsed time: 3.5127458572387695\n",
      "Processing t25a_bran_pilot...\n",
      "\n",
      "Training using MCMC\n",
      "\n"
     ]
    },
    {
     "data": {
      "application/vnd.jupyter.widget-view+json": {
       "model_id": "313d9afb250541a48015a4b0cc1d2ed1",
       "version_major": 2,
       "version_minor": 0
      },
      "text/plain": [
       "  0%|          | 0/60000 [00:00<?, ?it/s]"
      ]
     },
     "metadata": {},
     "output_type": "display_data"
    },
    {
     "data": {
      "application/vnd.jupyter.widget-view+json": {
       "model_id": "bcf891c7307b4bbaa7a7d6ff317ef7f1",
       "version_major": 2,
       "version_minor": 0
      },
      "text/plain": [
       "  0%|          | 0/60000 [00:00<?, ?it/s]"
      ]
     },
     "metadata": {},
     "output_type": "display_data"
    },
    {
     "data": {
      "application/vnd.jupyter.widget-view+json": {
       "model_id": "ab33695e2e9c497bbe84e0d92fc9e393",
       "version_major": 2,
       "version_minor": 0
      },
      "text/plain": [
       "  0%|          | 0/60000 [00:00<?, ?it/s]"
      ]
     },
     "metadata": {},
     "output_type": "display_data"
    },
    {
     "data": {
      "application/vnd.jupyter.widget-view+json": {
       "model_id": "9cb1df0158bd496aa70f0f09b8d4f7f7",
       "version_major": 2,
       "version_minor": 0
      },
      "text/plain": [
       "  0%|          | 0/60000 [00:00<?, ?it/s]"
      ]
     },
     "metadata": {},
     "output_type": "display_data"
    }
   ],
   "source": [
    "# Get list of all sheet names\n",
    "#sheet_names = load_data()\n",
    "# sheet_names = [\n",
    "#     't25a_ris_v2',          #5C  \n",
    "#     'smn2_pt1_ris',         #5D\n",
    "#     'smn2_pt2_ris',         #5E\n",
    "#     'smn2_pt3_ris',         #5F\n",
    "#     't25a_bran_v5',         #5G\n",
    "#     'smn2_pt1_bran',        #5H \n",
    "#     'smn2_pt2_bran',        #5I\n",
    "#     'smn2_pt3_bran',        #5J\n",
    "#     't25a_asoi7_v2',        #6A\n",
    "#     't25a_asoi6',           #6B\n",
    "#     'elp1_rectas',          #6C\n",
    "#     'elp1_aso',             #6D\n",
    "#     't25a_ris_bran_v2',     #6E\n",
    "#     't25a_ris_asoi6_v4',    #6F\n",
    "#     't25a_ris_asoi7_v2',    #6G\n",
    "#     't25a_bran_asoi6_v2',   #6H\n",
    "#     't25a_bran_asoi7',      #6I\n",
    "#     't25a_asoi6_asoi7_v3',  #6J\n",
    "#     'elp1_rectas_aso'       #6K\n",
    "# ]\n",
    "# sheet_names = ['smn2_pt2_bran_v2', \n",
    "#                'smn2_pt3_ris_v2', \n",
    "#                'smn2_pt3_bran_v2']\n",
    "sheet_names = ['t25a_ris_pilot', \n",
    "               't25a_bran_pilot']\n",
    "\n",
    "# Do inference for every sheet name\n",
    "for sheet_name in sheet_names:\n",
    "    print(f'Processing {sheet_name}...')\n",
    "    \n",
    "    # Load data\n",
    "    data_df = load_data(sheet_name)\n",
    "\n",
    "    # Remove NaNs\n",
    "    data_df = data_df.dropna()\n",
    "\n",
    "    print('\\nTraining using MCMC\\n')\n",
    "    start = time.time()\n",
    "    data_dict = {\n",
    "        \"y\": jnp.array(data_df['psi'].values),\n",
    "        \"x\": jnp.array(data_df['conc'].values)}\n",
    "\n",
    "    kernel = NUTS(model=single_drug_model_psi)\n",
    "    sample_kwargs = dict(\n",
    "        sampler=kernel, \n",
    "        num_warmup=args.num_warmup, \n",
    "        num_samples=args.num_samples, \n",
    "        num_chains=args.num_chains, \n",
    "        chain_method=\"parallel\",\n",
    "    )\n",
    "    mcmc = MCMC(**sample_kwargs)\n",
    "    mcmc.run(rng_key, **data_dict)\n",
    "    print(\"\\nMCMC elapsed time:\", time.time() - start)\n",
    "\n",
    "    #Save posterior samples\n",
    "    mcmc_samples = mcmc.get_samples()\n",
    "    mcmc_file_name = f'../mcmc_samples/mcmc_{sheet_name}.pkl'\n",
    "    with open(mcmc_file_name, 'wb') as f:\n",
    "        pickle.dump(mcmc_samples, f)\n",
    "        \n",
    "    # Use Arviz for summary\n",
    "    numpyro_inference_data = az.from_numpyro(mcmc);\n",
    "    summary_df = az.summary(numpyro_inference_data)\n",
    "\n",
    "    # Plot posterior samples\n",
    "    ppc = Predictive(single_drug_model_psi, mcmc.get_samples())\n",
    "    x_grid = np.logspace(-2,3,100)\n",
    "    ppc_val = ppc(rng_key_predict, x=x_grid)\n",
    "    \n",
    "    model_prediction_dict = {\n",
    "        \"concs\":x_grid,\n",
    "        \"mean\": jnp.mean(ppc_val['yhat'], axis=0),\n",
    "        \"hdpi\": numpyro.diagnostics.hpdi(ppc_val['yhat'], prob=0.95),\n",
    "    }\n",
    "    \n",
    "    fig, ax = plt.subplots(nrows=1, ncols=1, figsize=(4, 4))\n",
    "    ax = plot_regression(model_prediction_dict, data_dict, ax)\n",
    "    ax.legend()\n",
    "    ax.set_xscale('log')\n",
    "    ax.set_xlabel('concentraion')\n",
    "    ax.set_ylabel(r'PSI')\n",
    "    EC2x_mean = summary_df.loc['NC']['mean']\n",
    "    EC2x_lo = summary_df.loc['NC']['hdi_3%']\n",
    "    EC2x_hi = summary_df.loc['NC']['hdi_97%']\n",
    "    ax.set_title(f'{sheet_name}: $EC2x =${EC2x_mean} [{EC2x_lo}, {EC2x_hi}]')\n",
    "    plt.tight_layout()\n",
    "    plt.savefig(f'all_dose_response_curves/{sheet_name}.png')\n",
    "    #plt.close()\n",
    "    \n",
    "## FUCK, GET RISDIPLAM BUT NOT BRANAPLAM EC2X"
   ]
  },
  {
   "cell_type": "code",
   "execution_count": null,
   "id": "59cd93c5",
   "metadata": {},
   "outputs": [],
   "source": []
  }
 ],
 "metadata": {
  "kernelspec": {
   "display_name": "Python 3 (ipykernel)",
   "language": "python",
   "name": "python3"
  },
  "language_info": {
   "codemirror_mode": {
    "name": "ipython",
    "version": 3
   },
   "file_extension": ".py",
   "mimetype": "text/x-python",
   "name": "python",
   "nbconvert_exporter": "python",
   "pygments_lexer": "ipython3",
   "version": "3.9.15"
  },
  "varInspector": {
   "cols": {
    "lenName": 16,
    "lenType": 16,
    "lenVar": 40
   },
   "kernels_config": {
    "python": {
     "delete_cmd_postfix": "",
     "delete_cmd_prefix": "del ",
     "library": "var_list.py",
     "varRefreshCmd": "print(var_dic_list())"
    },
    "r": {
     "delete_cmd_postfix": ") ",
     "delete_cmd_prefix": "rm(",
     "library": "var_list.r",
     "varRefreshCmd": "cat(var_dic_list()) "
    }
   },
   "types_to_exclude": [
    "module",
    "function",
    "builtin_function_or_method",
    "instance",
    "_Feature"
   ],
   "window_display": false
  }
 },
 "nbformat": 4,
 "nbformat_minor": 5
}
