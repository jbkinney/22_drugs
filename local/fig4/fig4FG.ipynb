{
 "cells": [
  {
   "cell_type": "markdown",
   "id": "77df6906",
   "metadata": {},
   "source": [
    "# Figure 4 FG: qPCR data"
   ]
  },
  {
   "cell_type": "code",
   "execution_count": 1,
   "id": "cc563772",
   "metadata": {
    "ExecuteTime": {
     "end_time": "2023-09-17T19:00:52.374233Z",
     "start_time": "2023-09-17T19:00:51.456479Z"
    }
   },
   "outputs": [],
   "source": [
    "## Import necessary stuff. \n",
    "\n",
    "# Standard imports\n",
    "import pandas as pd\n",
    "import numpy as np\n",
    "import matplotlib.pyplot as plt\n",
    "import pickle\n",
    "\n",
    "# Special imports\n",
    "import utils\n",
    "import logomaker\n",
    "\n",
    "%matplotlib inline"
   ]
  },
  {
   "cell_type": "code",
   "execution_count": 2,
   "id": "67231f93",
   "metadata": {
    "ExecuteTime": {
     "end_time": "2023-09-17T19:00:52.378001Z",
     "start_time": "2023-09-17T19:00:52.375247Z"
    }
   },
   "outputs": [],
   "source": [
    "# Set figure style\n",
    "style_file_name = f'fig.style'\n",
    "s = \"\"\"\n",
    "axes.linewidth:     1.0  # width of spines \n",
    "font.size:          7.0  # default font size\n",
    "axes.labelsize:     7.0  # fontsize of the x any y labels\n",
    "axes.titlesize:     7.0  # fontsize of title\n",
    "xtick.labelsize:    7.0  # fontsize of the tick labels\n",
    "ytick.labelsize:    7.0  # fontsize of the tick labels\n",
    "legend.fontsize:      7.0\n",
    "legend.borderpad:     0.2  # border whitespace\n",
    "legend.labelspacing:  0.2  # the vertical space between the legend entries\n",
    "legend.borderaxespad: 0.2  # the border between the axes and legend edge\n",
    "axes.labelpad:      1.0     # space between label and axis\n",
    "\"\"\"\n",
    "with open(style_file_name, 'w') as f:\n",
    "    f.write(s)\n",
    "    \n",
    "plt.style.use(style_file_name)"
   ]
  },
  {
   "cell_type": "code",
   "execution_count": 3,
   "id": "e47cf98b",
   "metadata": {
    "ExecuteTime": {
     "end_time": "2023-09-17T19:00:52.484010Z",
     "start_time": "2023-09-17T19:00:52.379272Z"
    }
   },
   "outputs": [
    {
     "data": {
      "text/html": [
       "<div>\n",
       "<style scoped>\n",
       "    .dataframe tbody tr th:only-of-type {\n",
       "        vertical-align: middle;\n",
       "    }\n",
       "\n",
       "    .dataframe tbody tr th {\n",
       "        vertical-align: top;\n",
       "    }\n",
       "\n",
       "    .dataframe thead th {\n",
       "        text-align: right;\n",
       "    }\n",
       "</style>\n",
       "<table border=\"1\" class=\"dataframe\">\n",
       "  <thead>\n",
       "    <tr style=\"text-align: right;\">\n",
       "      <th></th>\n",
       "      <th>variant</th>\n",
       "      <th>biorep</th>\n",
       "      <th>treatment</th>\n",
       "      <th>delta_ct_mean</th>\n",
       "      <th>delta_ct_sem</th>\n",
       "    </tr>\n",
       "  </thead>\n",
       "  <tbody>\n",
       "    <tr>\n",
       "      <th>0</th>\n",
       "      <td>A3C</td>\n",
       "      <td>1</td>\n",
       "      <td>DMSO</td>\n",
       "      <td>4.668750</td>\n",
       "      <td>0.106343</td>\n",
       "    </tr>\n",
       "    <tr>\n",
       "      <th>1</th>\n",
       "      <td>A3C</td>\n",
       "      <td>2</td>\n",
       "      <td>DMSO</td>\n",
       "      <td>4.484512</td>\n",
       "      <td>0.055038</td>\n",
       "    </tr>\n",
       "    <tr>\n",
       "      <th>2</th>\n",
       "      <td>A3C</td>\n",
       "      <td>1</td>\n",
       "      <td>branaplam</td>\n",
       "      <td>4.293707</td>\n",
       "      <td>0.088021</td>\n",
       "    </tr>\n",
       "    <tr>\n",
       "      <th>3</th>\n",
       "      <td>A3C</td>\n",
       "      <td>2</td>\n",
       "      <td>branaplam</td>\n",
       "      <td>4.305039</td>\n",
       "      <td>0.054425</td>\n",
       "    </tr>\n",
       "    <tr>\n",
       "      <th>4</th>\n",
       "      <td>A3C</td>\n",
       "      <td>1</td>\n",
       "      <td>risdiplam</td>\n",
       "      <td>3.199079</td>\n",
       "      <td>0.079573</td>\n",
       "    </tr>\n",
       "  </tbody>\n",
       "</table>\n",
       "</div>"
      ],
      "text/plain": [
       "  variant  biorep  treatment  delta_ct_mean  delta_ct_sem\n",
       "0     A3C       1       DMSO       4.668750      0.106343\n",
       "1     A3C       2       DMSO       4.484512      0.055038\n",
       "2     A3C       1  branaplam       4.293707      0.088021\n",
       "3     A3C       2  branaplam       4.305039      0.054425\n",
       "4     A3C       1  risdiplam       3.199079      0.079573"
      ]
     },
     "execution_count": 3,
     "metadata": {},
     "output_type": "execute_result"
    }
   ],
   "source": [
    "# Load data\n",
    "qpcr_file_name = '../data/qPCR/smn1_345mutants.xlsx'\n",
    "val_cols = pd.MultiIndex.from_product([['inclusion', 'exclusion'], range(1,5)],\n",
    "                                      names=['isoform','techrep'])\n",
    "df = pd.read_excel(qpcr_file_name, index_col=0, names=val_cols)\n",
    "df.index = pd.MultiIndex.from_tuples(tuple(df.index.str.split()), \n",
    "                                     names=['variant', 'treatment', 'biorep'])\n",
    "df = df.reset_index()\n",
    "\n",
    "# Clean up entries\n",
    "df['variant'] = [val.replace('T','U') \n",
    "                      if val!='WT' \n",
    "                      else 'WT' for val in df['variant']]\n",
    "df['treatment'] = df['treatment'].map(\n",
    "    {'Risd25':'risdiplam',\n",
    "     'Bran25':'branaplam',\n",
    "     'DMSO':'DMSO'})\n",
    "df['biorep'] = [int(val) for val in df['biorep']]\n",
    "\n",
    "# Melt data\n",
    "df = df.melt(id_vars=['variant','treatment','biorep'])\n",
    "df = df.rename(columns={'variable_0':'isoform', 'variable_1':'techrep', 'value':'CT'})\n",
    "\n",
    "# Compute mean and sem across technical replicates\n",
    "cols = list(df.columns[:-2])\n",
    "df = df.groupby(cols)[['CT']].agg(['mean','sem'])\n",
    "df.columns=['ct_mean','ct_sem']\n",
    "df.reset_index(inplace=True)\n",
    "\n",
    "# Compute delta_ct_mean and delta_ct_sem (aggregating across isoforms)\n",
    "inc_ix = (df['isoform']=='inclusion')\n",
    "exc_ix = ~inc_ix\n",
    "index_cols = ['variant','treatment','biorep']\n",
    "df_inc = df[inc_ix].set_index(index_cols)\n",
    "df_exc = df[exc_ix].set_index(index_cols)\n",
    "delta_ct_df = pd.DataFrame(index=df_inc.index)\n",
    "delta_ct_df['delta_ct_mean'] = df_inc['ct_mean'] - df_exc['ct_mean']\n",
    "delta_ct_df['delta_ct_sem'] = np.sqrt(df_inc['ct_sem']**2 + df_exc['ct_sem']**2)\n",
    "delta_ct_df = delta_ct_df.reset_index()\n",
    "delta_ct_df = delta_ct_df.sort_values(by=index_cols).reset_index(drop=True)\n",
    "delta_ct_df = delta_ct_df[['variant','biorep','treatment','delta_ct_mean','delta_ct_sem']]\n",
    "delta_ct_df.head()"
   ]
  },
  {
   "cell_type": "code",
   "execution_count": 4,
   "id": "0524fe8e",
   "metadata": {
    "ExecuteTime": {
     "end_time": "2023-09-17T19:00:52.487253Z",
     "start_time": "2023-09-17T19:00:52.484993Z"
    }
   },
   "outputs": [],
   "source": [
    "# Compute dd_ct_mean and dd_ct_sem\n",
    "def get_dd_ct_df(treatment):\n",
    "    drug_ix = (delta_ct_df['treatment']==treatment)\n",
    "    dmso_ix = (delta_ct_df['treatment']=='DMSO')\n",
    "    index_cols = ['variant','biorep']\n",
    "    delta_ct_df_drug = delta_ct_df[drug_ix].set_index(index_cols)\n",
    "    delta_ct_df_dmso = delta_ct_df[dmso_ix].set_index(index_cols)\n",
    "    dd_ct_df = pd.DataFrame(index=delta_ct_df_drug.index)\n",
    "    dd_ct_df['dd_ct_mean'] = delta_ct_df_drug['delta_ct_mean'] - delta_ct_df_dmso['delta_ct_mean']\n",
    "    dd_ct_df['dd_ct_sem'] = np.sqrt(delta_ct_df_drug['delta_ct_sem']**2 + delta_ct_df_dmso['delta_ct_sem']**2)\n",
    "    dd_ct_df = dd_ct_df.reset_index()\n",
    "    dd_ct_df = dd_ct_df.sort_values(by=['variant','biorep']).reset_index(drop=True)\n",
    "    return dd_ct_df"
   ]
  },
  {
   "cell_type": "code",
   "execution_count": 5,
   "id": "2b48b07f",
   "metadata": {
    "ExecuteTime": {
     "end_time": "2023-09-17T19:00:53.086181Z",
     "start_time": "2023-09-17T19:00:52.488059Z"
    }
   },
   "outputs": [
    {
     "data": {
      "image/png": "[encoded data removed]",
      "text/plain": [
       "<Figure size 650x200 with 2 Axes>"
      ]
     },
     "metadata": {},
     "output_type": "display_data"
    }
   ],
   "source": [
    "def plot_qPCR(ax, treatment):\n",
    "\n",
    "    char_to_color_dict = {'G': [1, 0.65, 0],\n",
    "                          'U': [1, 0, 0],\n",
    "                          'C': [0, 0, 1],\n",
    "                          'A': [0, 0.5, 0]}\n",
    "\n",
    "    # Get dataframe\n",
    "    dd_ct_df = get_dd_ct_df(treatment=treatment)\n",
    "    \n",
    "    # Order the variants so WT comes first\n",
    "    dd_ct_df['is_not_wt'] = ~dd_ct_df['variant'].str.match('WT')\n",
    "    dd_ct_df = dd_ct_df.sort_values(by=['is_not_wt','variant','biorep'])\n",
    "    dd_ct_df.drop(columns='is_not_wt', inplace=True)   \n",
    "    dd_ct_df.reset_index(drop=True, inplace=True)\n",
    "    \n",
    "    x=dd_ct_df.index.values\n",
    "    x = x - .5*(x%2-.5) # add stagger\n",
    "    log2_z=-dd_ct_df['dd_ct_mean']\n",
    "    log2_dz=dd_ct_df['dd_ct_sem']\n",
    "    z = 2**log2_z\n",
    "    z_lo = 2**(log2_z-1.96*log2_dz)\n",
    "    z_hi = 2**(log2_z+1.96*log2_dz)\n",
    "    zerr = [z-z_lo, z_hi-z]\n",
    "    \n",
    "    colors = [char_to_color_dict.get(var[-1], 'k') for var in dd_ct_df['variant']]\n",
    "    ax.scatter(x, z, color=colors, alpha=1, s=20, linewidth=0)\n",
    "    ax.errorbar(x=x, y=z, yerr=zerr, color='k', linewidth=0, elinewidth=1, capsize=5, zorder=-100)\n",
    "            \n",
    "    # Plot horizontal line for mean ddCT of WT\n",
    "    y_wt = z[:2].mean()\n",
    "    ax.axhline(y_wt, color='k', linewidth=.5, linestyle='-.', zorder=-100)\n",
    "    ax.axhline(1, color='k', linewidth=.5, linestyle='--', zorder=-100)\n",
    "\n",
    "    for x_vert in [1.5, 7.5, 13.5]:\n",
    "        ax.axvline(x_vert, color='k', linestyle=':', linewidth=.5)\n",
    "    \n",
    "    kwargs = dict(yscale='log',\n",
    "                  ylabel=fr'{treatment} ($E$)',\n",
    "                  #title=fr'$\\bf{{AG}}$GA/GUAAGU',\n",
    "                  title=fr'AGGA/GUAAGU, $SMN1$ minigene',\n",
    "                  xticks=np.arange(10)*2+.5,\n",
    "                  xticklabels = dd_ct_df['variant'][::2],\n",
    "                  yticks=[10**0, 10**1, 10**2, 10**3],\n",
    "                  ylim=[10**-0.5, 10**3.5])\n",
    "    ax.tick_params(axis='x', rotation=45)\n",
    "\n",
    "    ax.set(**kwargs)\n",
    "    ax.tick_params('x', length=0)\n",
    "\n",
    "fig, axs = plt.subplots(1,2,figsize=[6.5,2])\n",
    "plot_qPCR(axs[0], treatment='risdiplam')\n",
    "plot_qPCR(axs[1], treatment='branaplam')\n",
    "\n",
    "fig.tight_layout(w_pad=3)\n",
    "file_name = f'fig4FG.pdf'\n",
    "fig.savefig(file_name)"
   ]
  },
  {
   "cell_type": "code",
   "execution_count": null,
   "id": "fdb1996f",
   "metadata": {},
   "outputs": [],
   "source": []
  },
  {
   "cell_type": "code",
   "execution_count": null,
   "id": "7170373d",
   "metadata": {},
   "outputs": [],
   "source": []
  }
 ],
 "metadata": {
  "kernelspec": {
   "display_name": "Python 3",
   "language": "python",
   "name": "python3"
  },
  "language_info": {
   "codemirror_mode": {
    "name": "ipython",
    "version": 3
   },
   "file_extension": ".py",
   "mimetype": "text/x-python",
   "name": "python",
   "nbconvert_exporter": "python",
   "pygments_lexer": "ipython3",
   "version": "3.9.15"
  },
  "varInspector": {
   "cols": {
    "lenName": 16,
    "lenType": 16,
    "lenVar": 40
   },
   "kernels_config": {
    "python": {
     "delete_cmd_postfix": "",
     "delete_cmd_prefix": "del ",
     "library": "var_list.py",
     "varRefreshCmd": "print(var_dic_list())"
    },
    "r": {
     "delete_cmd_postfix": ") ",
     "delete_cmd_prefix": "rm(",
     "library": "var_list.r",
     "varRefreshCmd": "cat(var_dic_list()) "
    }
   },
   "types_to_exclude": [
    "module",
    "function",
    "builtin_function_or_method",
    "instance",
    "_Feature"
   ],
   "window_display": false
  }
 },
 "nbformat": 4,
 "nbformat_minor": 5
}
