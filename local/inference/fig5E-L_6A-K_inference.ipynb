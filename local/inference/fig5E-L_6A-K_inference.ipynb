{
 "cells": [
  {
   "cell_type": "code",
   "execution_count": 1,
   "id": "24a0ac5d-3237-4741-ab80-83de12f9a07e",
   "metadata": {
    "ExecuteTime": {
     "end_time": "2023-09-17T20:32:28.370645Z",
     "start_time": "2023-09-17T20:32:27.025463Z"
    }
   },
   "outputs": [],
   "source": [
    "# Standard imports\n",
    "import pandas as pd\n",
    "import numpy as np\n",
    "import matplotlib\n",
    "import matplotlib.pyplot as plt\n",
    "from dataclasses import dataclass\n",
    "import time\n",
    "import pickle\n",
    "\n",
    "# Import x to one hot encoding\n",
    "import utils \n",
    "\n",
    "# Logomaker\n",
    "import logomaker\n",
    "\n",
    "# jax import\n",
    "import jax.random as random\n",
    "import jax.numpy as jnp\n",
    "from jax.numpy import DeviceArray\n",
    "\n",
    "# numpyro imports\n",
    "import numpyro\n",
    "import numpyro.distributions as dist\n",
    "from numpyro.infer import NUTS, MCMC, HMC, SVI\n",
    "from numpyro.infer import Predictive\n",
    "from numpyro.diagnostics import hpdi\n",
    "\n",
    "# arviz\n",
    "import arviz as az\n",
    "\n",
    "# For visualization. Note that this notebook won't be making figure, so don't need to be picky. \n",
    "%matplotlib inline"
   ]
  },
  {
   "cell_type": "code",
   "execution_count": 2,
   "id": "a7f40dd5-c72e-455c-a7ab-ed132216ba4f",
   "metadata": {
    "ExecuteTime": {
     "end_time": "2023-09-17T20:32:28.444855Z",
     "start_time": "2023-09-17T20:32:28.371445Z"
    }
   },
   "outputs": [],
   "source": [
    "@dataclass\n",
    "class args:\n",
    "    num_chains = 4\n",
    "    num_samples = 30000\n",
    "    num_warmup = 30000\n",
    "    device = 'cpu'\n",
    "    \n",
    "numpyro.set_platform(args.device)\n",
    "numpyro.set_host_device_count(args.num_chains)\n",
    "\n",
    "# generate random keys for training and predictions\n",
    "rng_key, rng_key_predict = random.split(random.PRNGKey(0))"
   ]
  },
  {
   "cell_type": "code",
   "execution_count": 3,
   "id": "cabde858",
   "metadata": {
    "ExecuteTime": {
     "end_time": "2023-09-17T20:32:28.449265Z",
     "start_time": "2023-09-17T20:32:28.446272Z"
    },
    "code_folding": []
   },
   "outputs": [],
   "source": [
    "def load_data(sheet_name=None):\n",
    "    # Name of excel file\n",
    "    file_name = '../data/qPCR/dose_response_curves.xlsx'\n",
    "    \n",
    "    # Return sheet names if none specified\n",
    "    if sheet_name is None:\n",
    "        return pd.ExcelFile(file_name).sheet_names\n",
    "    \n",
    "    # Load data from Excel sheet\n",
    "    data_df = pd.read_excel(file_name,\n",
    "                            sheet_name=sheet_name, header=[0, 1], index_col=[0, 1])\n",
    "    data_df.index.rename(['conc', 'bio_rep'], inplace=True)\n",
    "    data_df.columns.rename(['primers', 'tech_rep'], inplace=True)\n",
    "\n",
    "    # Pivot to make tidy data\n",
    "    tidy_df = data_df.melt(value_name='cycles',\n",
    "                           ignore_index=False).reset_index()\n",
    "    \n",
    "    # For each (conc, bio_rep) compute mean of cycles across tech_rep\n",
    "    df = tidy_df.groupby(['conc','bio_rep','primers']).mean()['cycles'].to_frame().reset_index()\n",
    "    df = df.pivot(index=['conc','bio_rep'],columns='primers', values='cycles')\n",
    "\n",
    "    # Compute dCt values (NOTE: exclusion - inclusion !)\n",
    "    df['dCt'] = df['exclusion'] - df['inclusion']\n",
    "    df = df.reset_index()[['conc','bio_rep','dCt']]\n",
    "    df.columns.name = ''\n",
    "    \n",
    "    return df"
   ]
  },
  {
   "cell_type": "code",
   "execution_count": 4,
   "id": "e8e5bbd0-c8ae-4a1c-a409-368d69881a33",
   "metadata": {
    "ExecuteTime": {
     "end_time": "2023-09-17T20:32:28.453003Z",
     "start_time": "2023-09-17T20:32:28.450131Z"
    },
    "code_folding": []
   },
   "outputs": [],
   "source": [
    "def single_drug_model(x, y=None):\n",
    "\n",
    "    # Context strength\n",
    "    log10_S = numpyro.sample(\"log10_S\", dist.Uniform(low=-3, high=3))\n",
    "    S=numpyro.deterministic('S', 10.0**log10_S)\n",
    "    #S=numpyro.deterministic('S', 0.55)\n",
    "\n",
    "    # Hill coefficient\n",
    "    log2_H = numpyro.sample(\"log2_H\", dist.Uniform(low=-2, high=2))\n",
    "    H=numpyro.deterministic('H', 2.0**log2_H)\n",
    "    #H = numpyro.deterministic('H', 1.13)\n",
    "\n",
    "    # Normalizing concentration [NC = EC_2x]\n",
    "    log10_NC = numpyro.sample(\"log10_NC\", dist.Uniform(low=-3, high=3))\n",
    "    NC=numpyro.deterministic('NC',10.0**log10_NC)\n",
    "\n",
    "    # Measurement noise\n",
    "    log10_sigma = numpyro.sample(\"log10_sigma\", dist.Uniform(low=-2, high=2))\n",
    "    sigma = numpyro.deterministic('sigma',10.0**log10_sigma)\n",
    "\n",
    "    # Amplitude [alpha = E_max]\n",
    "    log10_alpha = numpyro.sample(\"log10_alpha\", dist.Uniform(low=0, high=6))\n",
    "    alpha = numpyro.deterministic('alpha',10.0**log10_alpha)\n",
    "    #alpha = numpyro.deterministic('alpha',97.9)\n",
    "    \n",
    "    # R = inclusion / exclusion\n",
    "    R = numpyro.deterministic('R', S*(1 + (x/NC)**H)/(1 + (1/alpha)*(x/NC)**H))\n",
    "    log2_R = numpyro.deterministic('log2_R', jnp.log2(R))\n",
    "    numpyro.sample('yhat', dist.Normal(log2_R, sigma), obs=y)"
   ]
  },
  {
   "cell_type": "code",
   "execution_count": 5,
   "id": "a8132aff",
   "metadata": {
    "ExecuteTime": {
     "end_time": "2023-09-17T20:32:28.456303Z",
     "start_time": "2023-09-17T20:32:28.453725Z"
    },
    "code_folding": []
   },
   "outputs": [],
   "source": [
    "def plot_regression(model_prediction_dict, data_dict, ax):\n",
    "    x = data_dict['x'].ravel()\n",
    "    y = data_dict['y'].ravel()\n",
    "    # Sort values for plotting by x axis\n",
    "    idx = jnp.argsort(x)\n",
    "    x_plot = model_prediction_dict['concs'] #x[idx]\n",
    "    #y_plot = model_prediction_dict['concs'] #y[idx]\n",
    "    mean   = model_prediction_dict['mean'] #y_hat_mean[idx]\n",
    "    hpdi   = model_prediction_dict['hdpi'] #y_hat_hpdi[:, idx]\n",
    "    # Plot\n",
    "    ax.scatter(x, y, label='data', s=20, c='k')\n",
    "    ix = (x==0)\n",
    "    x_left = min(x[~ix])/3\n",
    "    ax.scatter(x_left*np.ones(sum(ix)),\n",
    "               y[ix],\n",
    "               s=20,\n",
    "               marker='<', \n",
    "               c='k')\n",
    "    ax.fill_between(x_plot, hpdi[0,:].ravel(), \n",
    "                    hpdi[1,:].ravel(), alpha=0.3, \n",
    "                    interpolate=True, color='darkorange',\n",
    "                    label=r'$95\\%HDI$')\n",
    "    ax.plot(x_plot, mean, label=r'$\\hat{C_t}$', c='royalblue')\n",
    "\n",
    "    return ax"
   ]
  },
  {
   "cell_type": "code",
   "execution_count": 6,
   "id": "15ad41ee-7d1f-4055-82c6-93c23bcc508a",
   "metadata": {
    "ExecuteTime": {
     "end_time": "2023-09-17T20:35:30.109606Z",
     "start_time": "2023-09-17T20:32:28.457096Z"
    },
    "scrolled": false
   },
   "outputs": [
    {
     "name": "stdout",
     "output_type": "stream",
     "text": [
      "Processing t25a_ris_v2...\n",
      "\n",
      "Training using MCMC\n",
      "\n"
     ]
    },
    {
     "data": {
      "application/vnd.jupyter.widget-view+json": {
       "model_id": "ff34e09cabb24aa4a0e5171003f6377d",
       "version_major": 2,
       "version_minor": 0
      },
      "text/plain": [
       "  0%|          | 0/60000 [00:00<?, ?it/s]"
      ]
     },
     "metadata": {},
     "output_type": "display_data"
    },
    {
     "data": {
      "application/vnd.jupyter.widget-view+json": {
       "model_id": "ee0e3a34d17c4d9698d21a7da8495aba",
       "version_major": 2,
       "version_minor": 0
      },
      "text/plain": [
       "  0%|          | 0/60000 [00:00<?, ?it/s]"
      ]
     },
     "metadata": {},
     "output_type": "display_data"
    },
    {
     "data": {
      "application/vnd.jupyter.widget-view+json": {
       "model_id": "aada6ff62d1f495cb51efe68108052b0",
       "version_major": 2,
       "version_minor": 0
      },
      "text/plain": [
       "  0%|          | 0/60000 [00:00<?, ?it/s]"
      ]
     },
     "metadata": {},
     "output_type": "display_data"
    },
    {
     "data": {
      "application/vnd.jupyter.widget-view+json": {
       "model_id": "fde499bd5b924107bcd2b545fbbf3085",
       "version_major": 2,
       "version_minor": 0
      },
      "text/plain": [
       "  0%|          | 0/60000 [00:00<?, ?it/s]"
      ]
     },
     "metadata": {},
     "output_type": "display_data"
    },
    {
     "name": "stdout",
     "output_type": "stream",
     "text": [
      "\n",
      "MCMC elapsed time: 4.575137615203857\n",
      "Processing smn2_pt1_ris...\n",
      "\n",
      "Training using MCMC\n",
      "\n"
     ]
    },
    {
     "data": {
      "application/vnd.jupyter.widget-view+json": {
       "model_id": "76bcbf057a774a5dae46b32f1c529630",
       "version_major": 2,
       "version_minor": 0
      },
      "text/plain": [
       "  0%|          | 0/60000 [00:00<?, ?it/s]"
      ]
     },
     "metadata": {},
     "output_type": "display_data"
    },
    {
     "data": {
      "application/vnd.jupyter.widget-view+json": {
       "model_id": "879a1b49b4b948c9a6dea4d6ed334024",
       "version_major": 2,
       "version_minor": 0
      },
      "text/plain": [
       "  0%|          | 0/60000 [00:00<?, ?it/s]"
      ]
     },
     "metadata": {},
     "output_type": "display_data"
    },
    {
     "data": {
      "application/vnd.jupyter.widget-view+json": {
       "model_id": "dc99dc2cfd544a29925d3d747924a8a9",
       "version_major": 2,
       "version_minor": 0
      },
      "text/plain": [
       "  0%|          | 0/60000 [00:00<?, ?it/s]"
      ]
     },
     "metadata": {},
     "output_type": "display_data"
    },
    {
     "data": {
      "application/vnd.jupyter.widget-view+json": {
       "model_id": "534b6ffcb6f14b9fa8bdedaf8ec519de",
       "version_major": 2,
       "version_minor": 0
      },
      "text/plain": [
       "  0%|          | 0/60000 [00:00<?, ?it/s]"
      ]
     },
     "metadata": {},
     "output_type": "display_data"
    },
    {
     "name": "stdout",
     "output_type": "stream",
     "text": [
      "\n",
      "MCMC elapsed time: 4.231863021850586\n",
      "Processing smn2_pt2_ris...\n",
      "\n",
      "Training using MCMC\n",
      "\n"
     ]
    },
    {
     "data": {
      "application/vnd.jupyter.widget-view+json": {
       "model_id": "b6ffb128e54c4123a50f58c897f616c8",
       "version_major": 2,
       "version_minor": 0
      },
      "text/plain": [
       "  0%|          | 0/60000 [00:00<?, ?it/s]"
      ]
     },
     "metadata": {},
     "output_type": "display_data"
    },
    {
     "data": {
      "application/vnd.jupyter.widget-view+json": {
       "model_id": "285c9fd8762b4c87a9edf756aad35b96",
       "version_major": 2,
       "version_minor": 0
      },
      "text/plain": [
       "  0%|          | 0/60000 [00:00<?, ?it/s]"
      ]
     },
     "metadata": {},
     "output_type": "display_data"
    },
    {
     "data": {
      "application/vnd.jupyter.widget-view+json": {
       "model_id": "ed4c6f9414e54760bf5492f6e673d391",
       "version_major": 2,
       "version_minor": 0
      },
      "text/plain": [
       "  0%|          | 0/60000 [00:00<?, ?it/s]"
      ]
     },
     "metadata": {},
     "output_type": "display_data"
    },
    {
     "data": {
      "application/vnd.jupyter.widget-view+json": {
       "model_id": "7b93b71c32a647759f670d583d1936d4",
       "version_major": 2,
       "version_minor": 0
      },
      "text/plain": [
       "  0%|          | 0/60000 [00:00<?, ?it/s]"
      ]
     },
     "metadata": {},
     "output_type": "display_data"
    },
    {
     "name": "stdout",
     "output_type": "stream",
     "text": [
      "\n",
      "MCMC elapsed time: 4.183300971984863\n",
      "Processing smn2_pt3_ris...\n",
      "\n",
      "Training using MCMC\n",
      "\n"
     ]
    },
    {
     "data": {
      "application/vnd.jupyter.widget-view+json": {
       "model_id": "be0849d5641e4b69a92f25cff980b560",
       "version_major": 2,
       "version_minor": 0
      },
      "text/plain": [
       "  0%|          | 0/60000 [00:00<?, ?it/s]"
      ]
     },
     "metadata": {},
     "output_type": "display_data"
    },
    {
     "data": {
      "application/vnd.jupyter.widget-view+json": {
       "model_id": "d818ee0be6af4574bb701a3a82c48594",
       "version_major": 2,
       "version_minor": 0
      },
      "text/plain": [
       "  0%|          | 0/60000 [00:00<?, ?it/s]"
      ]
     },
     "metadata": {},
     "output_type": "display_data"
    },
    {
     "data": {
      "application/vnd.jupyter.widget-view+json": {
       "model_id": "1f3b742558df441b918b246643a787cd",
       "version_major": 2,
       "version_minor": 0
      },
      "text/plain": [
       "  0%|          | 0/60000 [00:00<?, ?it/s]"
      ]
     },
     "metadata": {},
     "output_type": "display_data"
    },
    {
     "data": {
      "application/vnd.jupyter.widget-view+json": {
       "model_id": "ab525acc55214db2bf9b6c9ff7ba7b8e",
       "version_major": 2,
       "version_minor": 0
      },
      "text/plain": [
       "  0%|          | 0/60000 [00:00<?, ?it/s]"
      ]
     },
     "metadata": {},
     "output_type": "display_data"
    },
    {
     "name": "stdout",
     "output_type": "stream",
     "text": [
      "\n",
      "MCMC elapsed time: 4.141283988952637\n",
      "Processing t25a_bran_v5...\n",
      "\n",
      "Training using MCMC\n",
      "\n"
     ]
    },
    {
     "data": {
      "application/vnd.jupyter.widget-view+json": {
       "model_id": "e3437c2b9010450da22779a3ed7136b2",
       "version_major": 2,
       "version_minor": 0
      },
      "text/plain": [
       "  0%|          | 0/60000 [00:00<?, ?it/s]"
      ]
     },
     "metadata": {},
     "output_type": "display_data"
    },
    {
     "data": {
      "application/vnd.jupyter.widget-view+json": {
       "model_id": "e90cc9f3f3864f97a6b25ae8524a9800",
       "version_major": 2,
       "version_minor": 0
      },
      "text/plain": [
       "  0%|          | 0/60000 [00:00<?, ?it/s]"
      ]
     },
     "metadata": {},
     "output_type": "display_data"
    },
    {
     "data": {
      "application/vnd.jupyter.widget-view+json": {
       "model_id": "3ad27b7db8754062b5dd54e8bce3a399",
       "version_major": 2,
       "version_minor": 0
      },
      "text/plain": [
       "  0%|          | 0/60000 [00:00<?, ?it/s]"
      ]
     },
     "metadata": {},
     "output_type": "display_data"
    },
    {
     "data": {
      "application/vnd.jupyter.widget-view+json": {
       "model_id": "5b235d407c3b46648dec77d529a823de",
       "version_major": 2,
       "version_minor": 0
      },
      "text/plain": [
       "  0%|          | 0/60000 [00:00<?, ?it/s]"
      ]
     },
     "metadata": {},
     "output_type": "display_data"
    },
    {
     "name": "stdout",
     "output_type": "stream",
     "text": [
      "\n",
      "MCMC elapsed time: 4.3574419021606445\n",
      "Processing smn2_pt1_bran...\n",
      "\n",
      "Training using MCMC\n",
      "\n"
     ]
    },
    {
     "data": {
      "application/vnd.jupyter.widget-view+json": {
       "model_id": "628449f0802c4950a49750ca77ccf665",
       "version_major": 2,
       "version_minor": 0
      },
      "text/plain": [
       "  0%|          | 0/60000 [00:00<?, ?it/s]"
      ]
     },
     "metadata": {},
     "output_type": "display_data"
    },
    {
     "data": {
      "application/vnd.jupyter.widget-view+json": {
       "model_id": "003069242c83464c8a49b19f92845176",
       "version_major": 2,
       "version_minor": 0
      },
      "text/plain": [
       "  0%|          | 0/60000 [00:00<?, ?it/s]"
      ]
     },
     "metadata": {},
     "output_type": "display_data"
    },
    {
     "data": {
      "application/vnd.jupyter.widget-view+json": {
       "model_id": "4aa84356314149d9b36c34d4c8c7b087",
       "version_major": 2,
       "version_minor": 0
      },
      "text/plain": [
       "  0%|          | 0/60000 [00:00<?, ?it/s]"
      ]
     },
     "metadata": {},
     "output_type": "display_data"
    },
    {
     "data": {
      "application/vnd.jupyter.widget-view+json": {
       "model_id": "306965e508c84086b9eb9c98f76d20dd",
       "version_major": 2,
       "version_minor": 0
      },
      "text/plain": [
       "  0%|          | 0/60000 [00:00<?, ?it/s]"
      ]
     },
     "metadata": {},
     "output_type": "display_data"
    },
    {
     "name": "stdout",
     "output_type": "stream",
     "text": [
      "\n",
      "MCMC elapsed time: 3.993494987487793\n",
      "Processing smn2_pt2_bran_v2...\n",
      "\n",
      "Training using MCMC\n",
      "\n"
     ]
    },
    {
     "data": {
      "application/vnd.jupyter.widget-view+json": {
       "model_id": "258d4a234b1c443a8df7384de5df021a",
       "version_major": 2,
       "version_minor": 0
      },
      "text/plain": [
       "  0%|          | 0/60000 [00:00<?, ?it/s]"
      ]
     },
     "metadata": {},
     "output_type": "display_data"
    },
    {
     "data": {
      "application/vnd.jupyter.widget-view+json": {
       "model_id": "0f08fde1b85942ae825924bf8fff644b",
       "version_major": 2,
       "version_minor": 0
      },
      "text/plain": [
       "  0%|          | 0/60000 [00:00<?, ?it/s]"
      ]
     },
     "metadata": {},
     "output_type": "display_data"
    },
    {
     "data": {
      "application/vnd.jupyter.widget-view+json": {
       "model_id": "89da123aa2054c718310fecc109d5518",
       "version_major": 2,
       "version_minor": 0
      },
      "text/plain": [
       "  0%|          | 0/60000 [00:00<?, ?it/s]"
      ]
     },
     "metadata": {},
     "output_type": "display_data"
    },
    {
     "data": {
      "application/vnd.jupyter.widget-view+json": {
       "model_id": "17e9aaf75a794b4e900614e0448ab684",
       "version_major": 2,
       "version_minor": 0
      },
      "text/plain": [
       "  0%|          | 0/60000 [00:00<?, ?it/s]"
      ]
     },
     "metadata": {},
     "output_type": "display_data"
    },
    {
     "name": "stdout",
     "output_type": "stream",
     "text": [
      "\n",
      "MCMC elapsed time: 4.1452789306640625\n",
      "Processing smn2_pt3_bran_v2...\n",
      "\n",
      "Training using MCMC\n",
      "\n"
     ]
    },
    {
     "data": {
      "application/vnd.jupyter.widget-view+json": {
       "model_id": "8c94963bd071429bafc5a7f82b2c46ad",
       "version_major": 2,
       "version_minor": 0
      },
      "text/plain": [
       "  0%|          | 0/60000 [00:00<?, ?it/s]"
      ]
     },
     "metadata": {},
     "output_type": "display_data"
    },
    {
     "data": {
      "application/vnd.jupyter.widget-view+json": {
       "model_id": "da7df66ed45e4de69a566e1ff7a21dd4",
       "version_major": 2,
       "version_minor": 0
      },
      "text/plain": [
       "  0%|          | 0/60000 [00:00<?, ?it/s]"
      ]
     },
     "metadata": {},
     "output_type": "display_data"
    },
    {
     "data": {
      "application/vnd.jupyter.widget-view+json": {
       "model_id": "22cc6c3865174ac0b7e9a16bda7a94ff",
       "version_major": 2,
       "version_minor": 0
      },
      "text/plain": [
       "  0%|          | 0/60000 [00:00<?, ?it/s]"
      ]
     },
     "metadata": {},
     "output_type": "display_data"
    },
    {
     "data": {
      "application/vnd.jupyter.widget-view+json": {
       "model_id": "2661aef816af4f82b6fd985476df6e9b",
       "version_major": 2,
       "version_minor": 0
      },
      "text/plain": [
       "  0%|          | 0/60000 [00:00<?, ?it/s]"
      ]
     },
     "metadata": {},
     "output_type": "display_data"
    },
    {
     "name": "stdout",
     "output_type": "stream",
     "text": [
      "\n",
      "MCMC elapsed time: 4.385084867477417\n",
      "Processing t25a_asoi7_v2...\n",
      "\n",
      "Training using MCMC\n",
      "\n"
     ]
    },
    {
     "data": {
      "application/vnd.jupyter.widget-view+json": {
       "model_id": "de29a73fb4a4428aa37ebaaf6e81e33a",
       "version_major": 2,
       "version_minor": 0
      },
      "text/plain": [
       "  0%|          | 0/60000 [00:00<?, ?it/s]"
      ]
     },
     "metadata": {},
     "output_type": "display_data"
    },
    {
     "data": {
      "application/vnd.jupyter.widget-view+json": {
       "model_id": "870aae5abfe44fc29aa80f5f0fac5a34",
       "version_major": 2,
       "version_minor": 0
      },
      "text/plain": [
       "  0%|          | 0/60000 [00:00<?, ?it/s]"
      ]
     },
     "metadata": {},
     "output_type": "display_data"
    },
    {
     "data": {
      "application/vnd.jupyter.widget-view+json": {
       "model_id": "3d9f8543bbc34492b36dd74f11266fdb",
       "version_major": 2,
       "version_minor": 0
      },
      "text/plain": [
       "  0%|          | 0/60000 [00:00<?, ?it/s]"
      ]
     },
     "metadata": {},
     "output_type": "display_data"
    },
    {
     "data": {
      "application/vnd.jupyter.widget-view+json": {
       "model_id": "cd50eb1e5cf84843a0980a6165921117",
       "version_major": 2,
       "version_minor": 0
      },
      "text/plain": [
       "  0%|          | 0/60000 [00:00<?, ?it/s]"
      ]
     },
     "metadata": {},
     "output_type": "display_data"
    },
    {
     "name": "stdout",
     "output_type": "stream",
     "text": [
      "\n",
      "MCMC elapsed time: 4.023671627044678\n",
      "Processing t25a_asoi6...\n",
      "\n",
      "Training using MCMC\n",
      "\n"
     ]
    },
    {
     "data": {
      "application/vnd.jupyter.widget-view+json": {
       "model_id": "ebfb2ef427354d01933b22f65b01e095",
       "version_major": 2,
       "version_minor": 0
      },
      "text/plain": [
       "  0%|          | 0/60000 [00:00<?, ?it/s]"
      ]
     },
     "metadata": {},
     "output_type": "display_data"
    },
    {
     "data": {
      "application/vnd.jupyter.widget-view+json": {
       "model_id": "3849088f56f94308a57180c3601e88ec",
       "version_major": 2,
       "version_minor": 0
      },
      "text/plain": [
       "  0%|          | 0/60000 [00:00<?, ?it/s]"
      ]
     },
     "metadata": {},
     "output_type": "display_data"
    },
    {
     "data": {
      "application/vnd.jupyter.widget-view+json": {
       "model_id": "fb8bfdf9b81e4e68895d048dbac9e1f0",
       "version_major": 2,
       "version_minor": 0
      },
      "text/plain": [
       "  0%|          | 0/60000 [00:00<?, ?it/s]"
      ]
     },
     "metadata": {},
     "output_type": "display_data"
    },
    {
     "data": {
      "application/vnd.jupyter.widget-view+json": {
       "model_id": "0daffb32e9db4a21b9b249d0d87783ce",
       "version_major": 2,
       "version_minor": 0
      },
      "text/plain": [
       "  0%|          | 0/60000 [00:00<?, ?it/s]"
      ]
     },
     "metadata": {},
     "output_type": "display_data"
    },
    {
     "name": "stdout",
     "output_type": "stream",
     "text": [
      "\n",
      "MCMC elapsed time: 4.357334852218628\n",
      "Processing elp1_rectas...\n",
      "\n",
      "Training using MCMC\n",
      "\n"
     ]
    },
    {
     "data": {
      "application/vnd.jupyter.widget-view+json": {
       "model_id": "138cd84309e342789fc3915785c0bb33",
       "version_major": 2,
       "version_minor": 0
      },
      "text/plain": [
       "  0%|          | 0/60000 [00:00<?, ?it/s]"
      ]
     },
     "metadata": {},
     "output_type": "display_data"
    },
    {
     "data": {
      "application/vnd.jupyter.widget-view+json": {
       "model_id": "9de5146c5532493595f7d7e0505b42a9",
       "version_major": 2,
       "version_minor": 0
      },
      "text/plain": [
       "  0%|          | 0/60000 [00:00<?, ?it/s]"
      ]
     },
     "metadata": {},
     "output_type": "display_data"
    },
    {
     "data": {
      "application/vnd.jupyter.widget-view+json": {
       "model_id": "934cb15a623d419db1939b1140e09662",
       "version_major": 2,
       "version_minor": 0
      },
      "text/plain": [
       "  0%|          | 0/60000 [00:00<?, ?it/s]"
      ]
     },
     "metadata": {},
     "output_type": "display_data"
    },
    {
     "data": {
      "application/vnd.jupyter.widget-view+json": {
       "model_id": "4bf1d33259614b33a713e4f42d604d07",
       "version_major": 2,
       "version_minor": 0
      },
      "text/plain": [
       "  0%|          | 0/60000 [00:00<?, ?it/s]"
      ]
     },
     "metadata": {},
     "output_type": "display_data"
    },
    {
     "name": "stdout",
     "output_type": "stream",
     "text": [
      "\n",
      "MCMC elapsed time: 4.141717195510864\n",
      "Processing elp1_aso...\n",
      "\n",
      "Training using MCMC\n",
      "\n"
     ]
    },
    {
     "data": {
      "application/vnd.jupyter.widget-view+json": {
       "model_id": "598d0c2475894d788b1217beed946226",
       "version_major": 2,
       "version_minor": 0
      },
      "text/plain": [
       "  0%|          | 0/60000 [00:00<?, ?it/s]"
      ]
     },
     "metadata": {},
     "output_type": "display_data"
    },
    {
     "data": {
      "application/vnd.jupyter.widget-view+json": {
       "model_id": "3dcfa6e11cad45999dc64fc7f6b2d101",
       "version_major": 2,
       "version_minor": 0
      },
      "text/plain": [
       "  0%|          | 0/60000 [00:00<?, ?it/s]"
      ]
     },
     "metadata": {},
     "output_type": "display_data"
    },
    {
     "data": {
      "application/vnd.jupyter.widget-view+json": {
       "model_id": "b46669efbb2e4b31bc20573ce3c16530",
       "version_major": 2,
       "version_minor": 0
      },
      "text/plain": [
       "  0%|          | 0/60000 [00:00<?, ?it/s]"
      ]
     },
     "metadata": {},
     "output_type": "display_data"
    },
    {
     "data": {
      "application/vnd.jupyter.widget-view+json": {
       "model_id": "9d3761444b484f3d92a05d974112707c",
       "version_major": 2,
       "version_minor": 0
      },
      "text/plain": [
       "  0%|          | 0/60000 [00:00<?, ?it/s]"
      ]
     },
     "metadata": {},
     "output_type": "display_data"
    },
    {
     "name": "stdout",
     "output_type": "stream",
     "text": [
      "\n",
      "MCMC elapsed time: 4.916598081588745\n",
      "Processing t25a_ris_bran_v2...\n",
      "\n",
      "Training using MCMC\n",
      "\n"
     ]
    },
    {
     "data": {
      "application/vnd.jupyter.widget-view+json": {
       "model_id": "e7a7ef0ae83d43d59cc57461734247ca",
       "version_major": 2,
       "version_minor": 0
      },
      "text/plain": [
       "  0%|          | 0/60000 [00:00<?, ?it/s]"
      ]
     },
     "metadata": {},
     "output_type": "display_data"
    },
    {
     "data": {
      "application/vnd.jupyter.widget-view+json": {
       "model_id": "6891a2d9ac3d4aefbdfc6574796202a4",
       "version_major": 2,
       "version_minor": 0
      },
      "text/plain": [
       "  0%|          | 0/60000 [00:00<?, ?it/s]"
      ]
     },
     "metadata": {},
     "output_type": "display_data"
    },
    {
     "data": {
      "application/vnd.jupyter.widget-view+json": {
       "model_id": "ed6031da91fc4f0e8aca0be17844a773",
       "version_major": 2,
       "version_minor": 0
      },
      "text/plain": [
       "  0%|          | 0/60000 [00:00<?, ?it/s]"
      ]
     },
     "metadata": {},
     "output_type": "display_data"
    },
    {
     "data": {
      "application/vnd.jupyter.widget-view+json": {
       "model_id": "cce51f5fcbfd401093af8b02b2a7a2f4",
       "version_major": 2,
       "version_minor": 0
      },
      "text/plain": [
       "  0%|          | 0/60000 [00:00<?, ?it/s]"
      ]
     },
     "metadata": {},
     "output_type": "display_data"
    },
    {
     "name": "stdout",
     "output_type": "stream",
     "text": [
      "\n",
      "MCMC elapsed time: 6.711102247238159\n",
      "Processing t25a_ris_asoi6_v4...\n",
      "\n",
      "Training using MCMC\n",
      "\n"
     ]
    },
    {
     "data": {
      "application/vnd.jupyter.widget-view+json": {
       "model_id": "b4e51cda953b4ac2bd778a1d0d095cac",
       "version_major": 2,
       "version_minor": 0
      },
      "text/plain": [
       "  0%|          | 0/60000 [00:00<?, ?it/s]"
      ]
     },
     "metadata": {},
     "output_type": "display_data"
    },
    {
     "data": {
      "application/vnd.jupyter.widget-view+json": {
       "model_id": "507bb71b54984ddba03746702aa75f5a",
       "version_major": 2,
       "version_minor": 0
      },
      "text/plain": [
       "  0%|          | 0/60000 [00:00<?, ?it/s]"
      ]
     },
     "metadata": {},
     "output_type": "display_data"
    },
    {
     "data": {
      "application/vnd.jupyter.widget-view+json": {
       "model_id": "1bd86d4054a7475fa79810b195631c44",
       "version_major": 2,
       "version_minor": 0
      },
      "text/plain": [
       "  0%|          | 0/60000 [00:00<?, ?it/s]"
      ]
     },
     "metadata": {},
     "output_type": "display_data"
    },
    {
     "data": {
      "application/vnd.jupyter.widget-view+json": {
       "model_id": "c2e77a6e6759437f860557ae2c2b5885",
       "version_major": 2,
       "version_minor": 0
      },
      "text/plain": [
       "  0%|          | 0/60000 [00:00<?, ?it/s]"
      ]
     },
     "metadata": {},
     "output_type": "display_data"
    },
    {
     "name": "stdout",
     "output_type": "stream",
     "text": [
      "\n",
      "MCMC elapsed time: 3.9641220569610596\n",
      "Processing t25a_ris_asoi7_v2...\n",
      "\n",
      "Training using MCMC\n",
      "\n"
     ]
    },
    {
     "data": {
      "application/vnd.jupyter.widget-view+json": {
       "model_id": "6a66e2688d8f4b1d9011324edd7d9b6c",
       "version_major": 2,
       "version_minor": 0
      },
      "text/plain": [
       "  0%|          | 0/60000 [00:00<?, ?it/s]"
      ]
     },
     "metadata": {},
     "output_type": "display_data"
    },
    {
     "data": {
      "application/vnd.jupyter.widget-view+json": {
       "model_id": "2a7864b67e7b456685df3bbc3029c525",
       "version_major": 2,
       "version_minor": 0
      },
      "text/plain": [
       "  0%|          | 0/60000 [00:00<?, ?it/s]"
      ]
     },
     "metadata": {},
     "output_type": "display_data"
    },
    {
     "data": {
      "application/vnd.jupyter.widget-view+json": {
       "model_id": "ec01c0262cdc40ad922e7477352e0ced",
       "version_major": 2,
       "version_minor": 0
      },
      "text/plain": [
       "  0%|          | 0/60000 [00:00<?, ?it/s]"
      ]
     },
     "metadata": {},
     "output_type": "display_data"
    },
    {
     "data": {
      "application/vnd.jupyter.widget-view+json": {
       "model_id": "c6cefd19eb61470a90bf2c9b4a677a40",
       "version_major": 2,
       "version_minor": 0
      },
      "text/plain": [
       "  0%|          | 0/60000 [00:00<?, ?it/s]"
      ]
     },
     "metadata": {},
     "output_type": "display_data"
    },
    {
     "name": "stdout",
     "output_type": "stream",
     "text": [
      "\n",
      "MCMC elapsed time: 4.08095383644104\n",
      "Processing t25a_bran_asoi6_v2...\n",
      "\n",
      "Training using MCMC\n",
      "\n"
     ]
    },
    {
     "data": {
      "application/vnd.jupyter.widget-view+json": {
       "model_id": "6b14f6804310407c91081246d42b8a49",
       "version_major": 2,
       "version_minor": 0
      },
      "text/plain": [
       "  0%|          | 0/60000 [00:00<?, ?it/s]"
      ]
     },
     "metadata": {},
     "output_type": "display_data"
    },
    {
     "data": {
      "application/vnd.jupyter.widget-view+json": {
       "model_id": "ea723dc80a644daaa30a9b1950f2fd61",
       "version_major": 2,
       "version_minor": 0
      },
      "text/plain": [
       "  0%|          | 0/60000 [00:00<?, ?it/s]"
      ]
     },
     "metadata": {},
     "output_type": "display_data"
    },
    {
     "data": {
      "application/vnd.jupyter.widget-view+json": {
       "model_id": "e2ef6cf9e1ed4c69adbf3cf5a511660b",
       "version_major": 2,
       "version_minor": 0
      },
      "text/plain": [
       "  0%|          | 0/60000 [00:00<?, ?it/s]"
      ]
     },
     "metadata": {},
     "output_type": "display_data"
    },
    {
     "data": {
      "application/vnd.jupyter.widget-view+json": {
       "model_id": "457b10d0a0a64346920f91eb7d30d5c2",
       "version_major": 2,
       "version_minor": 0
      },
      "text/plain": [
       "  0%|          | 0/60000 [00:00<?, ?it/s]"
      ]
     },
     "metadata": {},
     "output_type": "display_data"
    },
    {
     "name": "stdout",
     "output_type": "stream",
     "text": [
      "\n",
      "MCMC elapsed time: 4.02055287361145\n",
      "Processing t25a_bran_asoi7...\n",
      "\n",
      "Training using MCMC\n",
      "\n"
     ]
    },
    {
     "data": {
      "application/vnd.jupyter.widget-view+json": {
       "model_id": "5f18086e945349bfbaac9dcd8a9fd4b9",
       "version_major": 2,
       "version_minor": 0
      },
      "text/plain": [
       "  0%|          | 0/60000 [00:00<?, ?it/s]"
      ]
     },
     "metadata": {},
     "output_type": "display_data"
    },
    {
     "data": {
      "application/vnd.jupyter.widget-view+json": {
       "model_id": "9dcfcfc06c0c477f99de6c35ee8af621",
       "version_major": 2,
       "version_minor": 0
      },
      "text/plain": [
       "  0%|          | 0/60000 [00:00<?, ?it/s]"
      ]
     },
     "metadata": {},
     "output_type": "display_data"
    },
    {
     "data": {
      "application/vnd.jupyter.widget-view+json": {
       "model_id": "065ceae30da0405880ecbe81722a1730",
       "version_major": 2,
       "version_minor": 0
      },
      "text/plain": [
       "  0%|          | 0/60000 [00:00<?, ?it/s]"
      ]
     },
     "metadata": {},
     "output_type": "display_data"
    },
    {
     "data": {
      "application/vnd.jupyter.widget-view+json": {
       "model_id": "d8c1027ea2e2416ea5b983e7c5ecffe5",
       "version_major": 2,
       "version_minor": 0
      },
      "text/plain": [
       "  0%|          | 0/60000 [00:00<?, ?it/s]"
      ]
     },
     "metadata": {},
     "output_type": "display_data"
    },
    {
     "name": "stdout",
     "output_type": "stream",
     "text": [
      "\n",
      "MCMC elapsed time: 4.045360803604126\n",
      "Processing t25a_asoi6_asoi7_v3...\n",
      "\n",
      "Training using MCMC\n",
      "\n"
     ]
    },
    {
     "data": {
      "application/vnd.jupyter.widget-view+json": {
       "model_id": "bee3a139a5f940d39b092c2a7cd40270",
       "version_major": 2,
       "version_minor": 0
      },
      "text/plain": [
       "  0%|          | 0/60000 [00:00<?, ?it/s]"
      ]
     },
     "metadata": {},
     "output_type": "display_data"
    },
    {
     "data": {
      "application/vnd.jupyter.widget-view+json": {
       "model_id": "2dd7399401d7470aba30dd70f51360f4",
       "version_major": 2,
       "version_minor": 0
      },
      "text/plain": [
       "  0%|          | 0/60000 [00:00<?, ?it/s]"
      ]
     },
     "metadata": {},
     "output_type": "display_data"
    },
    {
     "data": {
      "application/vnd.jupyter.widget-view+json": {
       "model_id": "83038c0606e34de3bf3ddb11a623bb20",
       "version_major": 2,
       "version_minor": 0
      },
      "text/plain": [
       "  0%|          | 0/60000 [00:00<?, ?it/s]"
      ]
     },
     "metadata": {},
     "output_type": "display_data"
    },
    {
     "data": {
      "application/vnd.jupyter.widget-view+json": {
       "model_id": "574b34a90c1b4d9ca12dae259739278b",
       "version_major": 2,
       "version_minor": 0
      },
      "text/plain": [
       "  0%|          | 0/60000 [00:00<?, ?it/s]"
      ]
     },
     "metadata": {},
     "output_type": "display_data"
    },
    {
     "name": "stdout",
     "output_type": "stream",
     "text": [
      "\n",
      "MCMC elapsed time: 5.65630578994751\n",
      "Processing elp1_rectas_aso...\n",
      "\n",
      "Training using MCMC\n",
      "\n"
     ]
    },
    {
     "data": {
      "application/vnd.jupyter.widget-view+json": {
       "model_id": "096f0e960e7342e1bdae7c37c54123d9",
       "version_major": 2,
       "version_minor": 0
      },
      "text/plain": [
       "  0%|          | 0/60000 [00:00<?, ?it/s]"
      ]
     },
     "metadata": {},
     "output_type": "display_data"
    },
    {
     "data": {
      "application/vnd.jupyter.widget-view+json": {
       "model_id": "197af414f8444f759a5df1eaf7c1e384",
       "version_major": 2,
       "version_minor": 0
      },
      "text/plain": [
       "  0%|          | 0/60000 [00:00<?, ?it/s]"
      ]
     },
     "metadata": {},
     "output_type": "display_data"
    },
    {
     "data": {
      "application/vnd.jupyter.widget-view+json": {
       "model_id": "c370cbb6759f4aa5a590ef7b88237b21",
       "version_major": 2,
       "version_minor": 0
      },
      "text/plain": [
       "  0%|          | 0/60000 [00:00<?, ?it/s]"
      ]
     },
     "metadata": {},
     "output_type": "display_data"
    },
    {
     "data": {
      "application/vnd.jupyter.widget-view+json": {
       "model_id": "389b2c2332d34287add0f08183191294",
       "version_major": 2,
       "version_minor": 0
      },
      "text/plain": [
       "  0%|          | 0/60000 [00:00<?, ?it/s]"
      ]
     },
     "metadata": {},
     "output_type": "display_data"
    },
    {
     "name": "stdout",
     "output_type": "stream",
     "text": [
      "\n",
      "MCMC elapsed time: 4.149343967437744\n"
     ]
    }
   ],
   "source": [
    "# Get list of all sheet names\n",
    "#sheet_names = load_data()\n",
    "sheet_names = [\n",
    "    't25a_ris_v2',          #5E  \n",
    "    'smn2_pt1_ris',         #5F\n",
    "    'smn2_pt2_ris',         #5G\n",
    "    'smn2_pt3_ris',         #5H\n",
    "    't25a_bran_v5',         #5I\n",
    "    'smn2_pt1_bran',        #5J \n",
    "    'smn2_pt2_bran_v2',     #5K\n",
    "    'smn2_pt3_bran_v2',     #5L\n",
    "    't25a_asoi7_v2',        #6A\n",
    "    't25a_asoi6',           #6B\n",
    "    'elp1_rectas',          #6C\n",
    "    'elp1_aso',             #6D\n",
    "    't25a_ris_bran_v2',     #S13A\n",
    "    't25a_ris_asoi6_v4',    #S13B\n",
    "    't25a_ris_asoi7_v2',    #S13C\n",
    "    't25a_bran_asoi6_v2',   #S13D\n",
    "    't25a_bran_asoi7',      #S13E\n",
    "    't25a_asoi6_asoi7_v3',  #S13F\n",
    "    'elp1_rectas_aso'       #S13G\n",
    "]\n",
    "\n",
    "# Do inference for every sheet name\n",
    "for sheet_name in sheet_names:\n",
    "    print(f'Processing {sheet_name}...')\n",
    "    \n",
    "    # Load data\n",
    "    data_df = load_data(sheet_name)\n",
    "\n",
    "    # Remove NaNs\n",
    "    data_df = data_df.dropna()\n",
    "\n",
    "    print('\\nTraining using MCMC\\n')\n",
    "    start = time.time()\n",
    "    data_dict = {\n",
    "        \"y\": jnp.array(data_df['dCt'].values),\n",
    "        \"x\": jnp.array(data_df['conc'].values)}\n",
    "\n",
    "    kernel = NUTS(model=single_drug_model)\n",
    "    sample_kwargs = dict(\n",
    "        sampler=kernel, \n",
    "        num_warmup=args.num_warmup, \n",
    "        num_samples=args.num_samples, \n",
    "        num_chains=args.num_chains, \n",
    "        chain_method=\"parallel\",\n",
    "    )\n",
    "    mcmc = MCMC(**sample_kwargs)\n",
    "    mcmc.run(rng_key, **data_dict)\n",
    "    print(\"\\nMCMC elapsed time:\", time.time() - start)\n",
    "\n",
    "    #Save posterior samples\n",
    "    mcmc_samples = mcmc.get_samples()\n",
    "    mcmc_file_name = f'../mcmc_samples/mcmc_{sheet_name}.pkl'\n",
    "    with open(mcmc_file_name, 'wb') as f:\n",
    "        pickle.dump(mcmc_samples, f)\n",
    "        \n",
    "    # Use Arviz for summary\n",
    "    numpyro_inference_data = az.from_numpyro(mcmc);\n",
    "    summary_df = az.summary(numpyro_inference_data)\n",
    "\n",
    "    # Plot posterior samples\n",
    "    ppc = Predictive(single_drug_model, mcmc.get_samples())\n",
    "    x_grid = np.logspace(-2,3,100)\n",
    "    ppc_val = ppc(rng_key_predict, x=x_grid)\n",
    "    \n",
    "    model_prediction_dict = {\n",
    "        \"concs\":x_grid,\n",
    "        \"mean\": jnp.mean(ppc_val['yhat'], axis=0),\n",
    "        \"hdpi\": numpyro.diagnostics.hpdi(ppc_val['yhat'], prob=0.95),\n",
    "    }\n",
    "    \n",
    "    fig, ax = plt.subplots(nrows=1, ncols=1, figsize=(4, 4))\n",
    "    ax = plot_regression(model_prediction_dict, data_dict, ax)\n",
    "    ax.legend()\n",
    "    ax.set_xscale('log')\n",
    "    ax.set_xlabel('concentraion')\n",
    "    ax.set_ylabel(r'$\\Delta C_t$')\n",
    "    H_mean = summary_df.loc['H']['mean']\n",
    "    H_lo = summary_df.loc['H']['hdi_3%']\n",
    "    H_hi = summary_df.loc['H']['hdi_97%']\n",
    "    S_mean = summary_df.loc['S']['mean']\n",
    "    ax.set_title(f'{sheet_name}: $H =${H_mean} [{H_lo}, {H_hi}]')\n",
    "    plt.tight_layout()\n",
    "    plt.savefig(f'all_dose_response_curves/{sheet_name}.png')\n",
    "    plt.close()"
   ]
  },
  {
   "cell_type": "code",
   "execution_count": null,
   "id": "f5a943a2",
   "metadata": {},
   "outputs": [],
   "source": []
  }
 ],
 "metadata": {
  "kernelspec": {
   "display_name": "Python 3",
   "language": "python",
   "name": "python3"
  },
  "language_info": {
   "codemirror_mode": {
    "name": "ipython",
    "version": 3
   },
   "file_extension": ".py",
   "mimetype": "text/x-python",
   "name": "python",
   "nbconvert_exporter": "python",
   "pygments_lexer": "ipython3",
   "version": "3.9.15"
  },
  "varInspector": {
   "cols": {
    "lenName": 16,
    "lenType": 16,
    "lenVar": 40
   },
   "kernels_config": {
    "python": {
     "delete_cmd_postfix": "",
     "delete_cmd_prefix": "del ",
     "library": "var_list.py",
     "varRefreshCmd": "print(var_dic_list())"
    },
    "r": {
     "delete_cmd_postfix": ") ",
     "delete_cmd_prefix": "rm(",
     "library": "var_list.r",
     "varRefreshCmd": "cat(var_dic_list()) "
    }
   },
   "types_to_exclude": [
    "module",
    "function",
    "builtin_function_or_method",
    "instance",
    "_Feature"
   ],
   "window_display": false
  }
 },
 "nbformat": 4,
 "nbformat_minor": 5
}
