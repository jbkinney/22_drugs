{
 "cells": [
  {
   "cell_type": "code",
   "execution_count": 1,
   "id": "24a0ac5d-3237-4741-ab80-83de12f9a07e",
   "metadata": {
    "ExecuteTime": {
     "end_time": "2023-09-17T20:42:44.284393Z",
     "start_time": "2023-09-17T20:42:42.899678Z"
    }
   },
   "outputs": [],
   "source": [
    "# Standard imports\n",
    "import pandas as pd\n",
    "import numpy as np\n",
    "import matplotlib\n",
    "import matplotlib.pyplot as plt\n",
    "from dataclasses import dataclass\n",
    "import time\n",
    "import pickle\n",
    "\n",
    "# Import x to one hot encoding\n",
    "import utils \n",
    "\n",
    "# Logomaker\n",
    "import logomaker\n",
    "\n",
    "# jax import\n",
    "import jax.random as random\n",
    "import jax.numpy as jnp\n",
    "from jax.numpy import DeviceArray\n",
    "\n",
    "# numpyro imports\n",
    "import numpyro\n",
    "import numpyro.distributions as dist\n",
    "from numpyro.infer import NUTS, MCMC, HMC, SVI\n",
    "from numpyro.infer import Predictive\n",
    "from numpyro.diagnostics import hpdi\n",
    "\n",
    "# arviz\n",
    "import arviz as az\n",
    "\n",
    "# For visualization. Note that this notebook won't be making figure, so don't need to be picky. \n",
    "#%matplotlib notebook\n",
    "%matplotlib inline"
   ]
  },
  {
   "cell_type": "code",
   "execution_count": 2,
   "id": "a7f40dd5-c72e-455c-a7ab-ed132216ba4f",
   "metadata": {
    "ExecuteTime": {
     "end_time": "2023-09-17T20:42:44.360310Z",
     "start_time": "2023-09-17T20:42:44.286908Z"
    }
   },
   "outputs": [],
   "source": [
    "@dataclass\n",
    "class args:\n",
    "    num_chains = 4\n",
    "    num_samples = 30000\n",
    "    num_warmup = 30000\n",
    "    device = 'cpu'\n",
    "    \n",
    "numpyro.set_platform(args.device)\n",
    "numpyro.set_host_device_count(args.num_chains)\n",
    "\n",
    "# generate random keys for training and predictions\n",
    "rng_key, rng_key_predict = random.split(random.PRNGKey(0))"
   ]
  },
  {
   "cell_type": "code",
   "execution_count": 3,
   "id": "cabde858",
   "metadata": {
    "ExecuteTime": {
     "end_time": "2023-09-17T20:42:44.364036Z",
     "start_time": "2023-09-17T20:42:44.361068Z"
    },
    "code_folding": []
   },
   "outputs": [],
   "source": [
    "def load_data(sheet_name=None):\n",
    "    # Name of excel file\n",
    "    file_name = '../data/qPCR/control_dose_response_curves.xlsx'\n",
    "    \n",
    "    # Return sheet names if none specified\n",
    "    if sheet_name is None:\n",
    "        return pd.ExcelFile(file_name).sheet_names\n",
    "    \n",
    "    # Load data from Excel sheet\n",
    "    data_df = pd.read_excel(file_name,\n",
    "                            sheet_name=sheet_name, header=[0, 1], index_col=[0, 1])\n",
    "    data_df.index.rename(['conc', 'bio_rep'], inplace=True)\n",
    "    data_df.columns.rename(['primers', 'tech_rep'], inplace=True)\n",
    "\n",
    "    # Pivot to make tidy data\n",
    "    tidy_df = data_df.melt(value_name='cycles',\n",
    "                           ignore_index=False).reset_index()\n",
    "    \n",
    "    # For each (conc, bio_rep) compute mean of cycles across tech_rep\n",
    "    df = tidy_df.groupby(['conc','bio_rep','primers']).mean()['cycles'].to_frame().reset_index()\n",
    "    df = df.pivot(index=['conc','bio_rep'],columns='primers', values='cycles')\n",
    "\n",
    "    # Compute dCt values (NOTE: exclusion - inclusion !)\n",
    "    df['dCt'] = df['exclusion'] - df['inclusion']\n",
    "    df = df.reset_index()[['conc','bio_rep','dCt']]\n",
    "    df.columns.name = ''\n",
    "    \n",
    "    return df"
   ]
  },
  {
   "cell_type": "code",
   "execution_count": 4,
   "id": "e8e5bbd0-c8ae-4a1c-a409-368d69881a33",
   "metadata": {
    "ExecuteTime": {
     "end_time": "2023-09-17T20:42:44.367872Z",
     "start_time": "2023-09-17T20:42:44.364933Z"
    },
    "code_folding": []
   },
   "outputs": [],
   "source": [
    "def single_drug_model(x, y=None):\n",
    "\n",
    "    # Context strength\n",
    "    log10_S = numpyro.sample(\"log10_S\", dist.Uniform(low=-3, high=3))\n",
    "    S=numpyro.deterministic('S', 10.0**log10_S)\n",
    "    #S=numpyro.deterministic('S', 0.55)\n",
    "\n",
    "    # Hill coefficient\n",
    "    log2_H = numpyro.sample(\"log2_H\", dist.Uniform(low=-2, high=2))\n",
    "    H=numpyro.deterministic('H', 2.0**log2_H)\n",
    "    #H = numpyro.deterministic('H', 1.13)\n",
    "\n",
    "    # Normalizing concentration\n",
    "    log10_NC = numpyro.sample(\"log10_NC\", dist.Uniform(low=-3, high=3))\n",
    "    NC=numpyro.deterministic('NC',10.0**log10_NC)\n",
    "\n",
    "    # Measurement noise\n",
    "    log10_sigma = numpyro.sample(\"log10_sigma\", dist.Uniform(low=-2, high=2))\n",
    "    sigma = numpyro.deterministic('sigma',10.0**log10_sigma)\n",
    "\n",
    "    # Amplitude\n",
    "    log10_alpha = numpyro.sample(\"log10_alpha\", dist.Uniform(low=0, high=6))\n",
    "    alpha = numpyro.deterministic('alpha',10.0**log10_alpha)\n",
    "    #alpha = numpyro.deterministic('alpha',97.9)\n",
    "    \n",
    "    # R = inclusion / exclusion\n",
    "    R = numpyro.deterministic('R', S*(1 + (x/NC)**H)/(1 + (1/alpha)*(x/NC)**H))\n",
    "    log2_R = numpyro.deterministic('log2_R', jnp.log2(R))\n",
    "    numpyro.sample('yhat', dist.Normal(log2_R, sigma), obs=y)"
   ]
  },
  {
   "cell_type": "code",
   "execution_count": 5,
   "id": "a8132aff",
   "metadata": {
    "ExecuteTime": {
     "end_time": "2023-09-17T20:42:44.371190Z",
     "start_time": "2023-09-17T20:42:44.368527Z"
    },
    "code_folding": []
   },
   "outputs": [],
   "source": [
    "def plot_regression(model_prediction_dict, data_dict, ax):\n",
    "    x = data_dict['x'].ravel()\n",
    "    y = data_dict['y'].ravel()\n",
    "    # Sort values for plotting by x axis\n",
    "    idx = jnp.argsort(x)\n",
    "    x_plot = model_prediction_dict['concs'] #x[idx]\n",
    "    #y_plot = model_prediction_dict['concs'] #y[idx]\n",
    "    mean   = model_prediction_dict['mean'] #y_hat_mean[idx]\n",
    "    hpdi   = model_prediction_dict['hdpi'] #y_hat_hpdi[:, idx]\n",
    "    # Plot\n",
    "    ax.scatter(x, y, label='data', s=20, c='k')\n",
    "    ix = (x==0)\n",
    "    x_left = min(x[~ix])/3\n",
    "    ax.scatter(x_left*np.ones(sum(ix)),\n",
    "               y[ix],\n",
    "               s=20,\n",
    "               marker='<', \n",
    "               c='k')\n",
    "    ax.fill_between(x_plot, hpdi[0,:].ravel(), \n",
    "                    hpdi[1,:].ravel(), alpha=0.3, \n",
    "                    interpolate=True, color='darkorange',\n",
    "                    label=r'$95\\%HDI$')\n",
    "    ax.plot(x_plot, mean, label=r'$\\hat{C_t}$', c='royalblue')\n",
    "\n",
    "    return ax"
   ]
  },
  {
   "cell_type": "code",
   "execution_count": 6,
   "id": "15ad41ee-7d1f-4055-82c6-93c23bcc508a",
   "metadata": {
    "ExecuteTime": {
     "end_time": "2023-09-17T20:43:47.739175Z",
     "start_time": "2023-09-17T20:42:44.371952Z"
    },
    "scrolled": false
   },
   "outputs": [
    {
     "name": "stdout",
     "output_type": "stream",
     "text": [
      "Processing control_elp1_ris...\n",
      "\n",
      "Training using MCMC\n",
      "\n"
     ]
    },
    {
     "data": {
      "application/vnd.jupyter.widget-view+json": {
       "model_id": "f30264659df2400bbdcf9dd123fd6bdd",
       "version_major": 2,
       "version_minor": 0
      },
      "text/plain": [
       "  0%|          | 0/60000 [00:00<?, ?it/s]"
      ]
     },
     "metadata": {},
     "output_type": "display_data"
    },
    {
     "data": {
      "application/vnd.jupyter.widget-view+json": {
       "model_id": "d0bf1f982a6f4070ae91da3a406bf9f1",
       "version_major": 2,
       "version_minor": 0
      },
      "text/plain": [
       "  0%|          | 0/60000 [00:00<?, ?it/s]"
      ]
     },
     "metadata": {},
     "output_type": "display_data"
    },
    {
     "data": {
      "application/vnd.jupyter.widget-view+json": {
       "model_id": "54d1838b4dcf434181233377648cd24b",
       "version_major": 2,
       "version_minor": 0
      },
      "text/plain": [
       "  0%|          | 0/60000 [00:00<?, ?it/s]"
      ]
     },
     "metadata": {},
     "output_type": "display_data"
    },
    {
     "data": {
      "application/vnd.jupyter.widget-view+json": {
       "model_id": "5290ff9608b4475e9c56f712551422d2",
       "version_major": 2,
       "version_minor": 0
      },
      "text/plain": [
       "  0%|          | 0/60000 [00:00<?, ?it/s]"
      ]
     },
     "metadata": {},
     "output_type": "display_data"
    },
    {
     "name": "stdout",
     "output_type": "stream",
     "text": [
      "\n",
      "MCMC elapsed time: 4.894675970077515\n",
      "Processing control_elp1_bran...\n",
      "\n",
      "Training using MCMC\n",
      "\n"
     ]
    },
    {
     "data": {
      "application/vnd.jupyter.widget-view+json": {
       "model_id": "9e5a0fc78db64bb49c51755befdec3c7",
       "version_major": 2,
       "version_minor": 0
      },
      "text/plain": [
       "  0%|          | 0/60000 [00:00<?, ?it/s]"
      ]
     },
     "metadata": {},
     "output_type": "display_data"
    },
    {
     "data": {
      "application/vnd.jupyter.widget-view+json": {
       "model_id": "27ba43a2d9cb42b6a793605288a90f19",
       "version_major": 2,
       "version_minor": 0
      },
      "text/plain": [
       "  0%|          | 0/60000 [00:00<?, ?it/s]"
      ]
     },
     "metadata": {},
     "output_type": "display_data"
    },
    {
     "data": {
      "application/vnd.jupyter.widget-view+json": {
       "model_id": "7f1a935033d446f2b081dc81b6830ff0",
       "version_major": 2,
       "version_minor": 0
      },
      "text/plain": [
       "  0%|          | 0/60000 [00:00<?, ?it/s]"
      ]
     },
     "metadata": {},
     "output_type": "display_data"
    },
    {
     "data": {
      "application/vnd.jupyter.widget-view+json": {
       "model_id": "09d7d283027744ef830df3e20a9ba024",
       "version_major": 2,
       "version_minor": 0
      },
      "text/plain": [
       "  0%|          | 0/60000 [00:00<?, ?it/s]"
      ]
     },
     "metadata": {},
     "output_type": "display_data"
    },
    {
     "name": "stdout",
     "output_type": "stream",
     "text": [
      "\n",
      "MCMC elapsed time: 24.789968013763428\n",
      "Processing control_elp1_asoi6...\n",
      "\n",
      "Training using MCMC\n",
      "\n"
     ]
    },
    {
     "data": {
      "application/vnd.jupyter.widget-view+json": {
       "model_id": "38f636310f184ed5bd1d53d876c90355",
       "version_major": 2,
       "version_minor": 0
      },
      "text/plain": [
       "  0%|          | 0/60000 [00:00<?, ?it/s]"
      ]
     },
     "metadata": {},
     "output_type": "display_data"
    },
    {
     "data": {
      "application/vnd.jupyter.widget-view+json": {
       "model_id": "9674eb5f5093421bbf646500f9bdfad6",
       "version_major": 2,
       "version_minor": 0
      },
      "text/plain": [
       "  0%|          | 0/60000 [00:00<?, ?it/s]"
      ]
     },
     "metadata": {},
     "output_type": "display_data"
    },
    {
     "data": {
      "application/vnd.jupyter.widget-view+json": {
       "model_id": "2990d557250a48c497cbca2dea823d94",
       "version_major": 2,
       "version_minor": 0
      },
      "text/plain": [
       "  0%|          | 0/60000 [00:00<?, ?it/s]"
      ]
     },
     "metadata": {},
     "output_type": "display_data"
    },
    {
     "data": {
      "application/vnd.jupyter.widget-view+json": {
       "model_id": "10c3d3c9cfc94275ad6e4bb8d2d7eb79",
       "version_major": 2,
       "version_minor": 0
      },
      "text/plain": [
       "  0%|          | 0/60000 [00:00<?, ?it/s]"
      ]
     },
     "metadata": {},
     "output_type": "display_data"
    },
    {
     "name": "stdout",
     "output_type": "stream",
     "text": [
      "\n",
      "MCMC elapsed time: 3.463632822036743\n",
      "Processing control_elp1_asoi7...\n",
      "\n",
      "Training using MCMC\n",
      "\n"
     ]
    },
    {
     "data": {
      "application/vnd.jupyter.widget-view+json": {
       "model_id": "9063477712d843b0b3353cc19193f5b5",
       "version_major": 2,
       "version_minor": 0
      },
      "text/plain": [
       "  0%|          | 0/60000 [00:00<?, ?it/s]"
      ]
     },
     "metadata": {},
     "output_type": "display_data"
    },
    {
     "data": {
      "application/vnd.jupyter.widget-view+json": {
       "model_id": "045a2faba05d42e49d5ccd9185f34f24",
       "version_major": 2,
       "version_minor": 0
      },
      "text/plain": [
       "  0%|          | 0/60000 [00:00<?, ?it/s]"
      ]
     },
     "metadata": {},
     "output_type": "display_data"
    },
    {
     "data": {
      "application/vnd.jupyter.widget-view+json": {
       "model_id": "8a17d6f1efc848a9b650337b7b766aeb",
       "version_major": 2,
       "version_minor": 0
      },
      "text/plain": [
       "  0%|          | 0/60000 [00:00<?, ?it/s]"
      ]
     },
     "metadata": {},
     "output_type": "display_data"
    },
    {
     "data": {
      "application/vnd.jupyter.widget-view+json": {
       "model_id": "4537ed90652f423a969a45f7e57e3cbc",
       "version_major": 2,
       "version_minor": 0
      },
      "text/plain": [
       "  0%|          | 0/60000 [00:00<?, ?it/s]"
      ]
     },
     "metadata": {},
     "output_type": "display_data"
    },
    {
     "name": "stdout",
     "output_type": "stream",
     "text": [
      "\n",
      "MCMC elapsed time: 4.017126083374023\n",
      "Processing control_smn2_rectas...\n",
      "\n",
      "Training using MCMC\n",
      "\n"
     ]
    },
    {
     "data": {
      "application/vnd.jupyter.widget-view+json": {
       "model_id": "2b5338efb7bc4d56b51f1a8f34064d76",
       "version_major": 2,
       "version_minor": 0
      },
      "text/plain": [
       "  0%|          | 0/60000 [00:00<?, ?it/s]"
      ]
     },
     "metadata": {},
     "output_type": "display_data"
    },
    {
     "data": {
      "application/vnd.jupyter.widget-view+json": {
       "model_id": "3fdbc57f65fd44e2b2f8d179041081ef",
       "version_major": 2,
       "version_minor": 0
      },
      "text/plain": [
       "  0%|          | 0/60000 [00:00<?, ?it/s]"
      ]
     },
     "metadata": {},
     "output_type": "display_data"
    },
    {
     "data": {
      "application/vnd.jupyter.widget-view+json": {
       "model_id": "63c57b96814c4be799c287bb811b0857",
       "version_major": 2,
       "version_minor": 0
      },
      "text/plain": [
       "  0%|          | 0/60000 [00:00<?, ?it/s]"
      ]
     },
     "metadata": {},
     "output_type": "display_data"
    },
    {
     "data": {
      "application/vnd.jupyter.widget-view+json": {
       "model_id": "53db1845d618423f9a2689c7d9e765e7",
       "version_major": 2,
       "version_minor": 0
      },
      "text/plain": [
       "  0%|          | 0/60000 [00:00<?, ?it/s]"
      ]
     },
     "metadata": {},
     "output_type": "display_data"
    },
    {
     "name": "stdout",
     "output_type": "stream",
     "text": [
      "\n",
      "MCMC elapsed time: 3.7802791595458984\n",
      "Processing control_smn2_asoi20...\n",
      "\n",
      "Training using MCMC\n",
      "\n"
     ]
    },
    {
     "data": {
      "application/vnd.jupyter.widget-view+json": {
       "model_id": "e8726429766a47b49efc5abb996ebfcb",
       "version_major": 2,
       "version_minor": 0
      },
      "text/plain": [
       "  0%|          | 0/60000 [00:00<?, ?it/s]"
      ]
     },
     "metadata": {},
     "output_type": "display_data"
    },
    {
     "data": {
      "application/vnd.jupyter.widget-view+json": {
       "model_id": "0ae506783be14992a63d16ff88f44da0",
       "version_major": 2,
       "version_minor": 0
      },
      "text/plain": [
       "  0%|          | 0/60000 [00:00<?, ?it/s]"
      ]
     },
     "metadata": {},
     "output_type": "display_data"
    },
    {
     "data": {
      "application/vnd.jupyter.widget-view+json": {
       "model_id": "4f44c1be6d8547079945492883eec1f5",
       "version_major": 2,
       "version_minor": 0
      },
      "text/plain": [
       "  0%|          | 0/60000 [00:00<?, ?it/s]"
      ]
     },
     "metadata": {},
     "output_type": "display_data"
    },
    {
     "data": {
      "application/vnd.jupyter.widget-view+json": {
       "model_id": "0e23b91fcb2f42dbbed70422d0d76b22",
       "version_major": 2,
       "version_minor": 0
      },
      "text/plain": [
       "  0%|          | 0/60000 [00:00<?, ?it/s]"
      ]
     },
     "metadata": {},
     "output_type": "display_data"
    },
    {
     "name": "stdout",
     "output_type": "stream",
     "text": [
      "\n",
      "MCMC elapsed time: 3.582056999206543\n"
     ]
    }
   ],
   "source": [
    "# Get list of all sheet names\n",
    "sheet_names = [\n",
    "    'control_elp1_ris',       #S12A\n",
    "    'control_elp1_bran',      #S12B\n",
    "    'control_elp1_asoi6',     #S12C\n",
    "    'control_elp1_asoi7',     #S12D\n",
    "    'control_smn2_rectas',    #S12E\n",
    "    'control_smn2_asoi20'     #S12F\n",
    "]\n",
    "\n",
    "# Do inference for every sheet name\n",
    "for sheet_name in sheet_names:\n",
    "    print(f'Processing {sheet_name}...')\n",
    "    \n",
    "    # Load data\n",
    "    data_df = load_data(sheet_name)\n",
    "\n",
    "    # Remove NaNs\n",
    "    data_df = data_df.dropna()\n",
    "\n",
    "    print('\\nTraining using MCMC\\n')\n",
    "    start = time.time()\n",
    "    data_dict = {\n",
    "        \"y\": jnp.array(data_df['dCt'].values),\n",
    "        \"x\": jnp.array(data_df['conc'].values)}\n",
    "\n",
    "    kernel = NUTS(model=single_drug_model)\n",
    "    sample_kwargs = dict(\n",
    "        sampler=kernel, \n",
    "        num_warmup=args.num_warmup, \n",
    "        num_samples=args.num_samples, \n",
    "        num_chains=args.num_chains, \n",
    "        chain_method=\"parallel\",\n",
    "    )\n",
    "    mcmc = MCMC(**sample_kwargs)\n",
    "    mcmc.run(rng_key, **data_dict)\n",
    "    print(\"\\nMCMC elapsed time:\", time.time() - start)\n",
    "\n",
    "    #Save posterior samples\n",
    "    mcmc_samples = mcmc.get_samples()\n",
    "    mcmc_file_name = f'../mcmc_samples/mcmc_{sheet_name}.pkl'\n",
    "    with open(mcmc_file_name, 'wb') as f:\n",
    "        pickle.dump(mcmc_samples, f)\n",
    "        \n",
    "    # Use Arviz for summary\n",
    "    numpyro_inference_data = az.from_numpyro(mcmc);\n",
    "    summary_df = az.summary(numpyro_inference_data)\n",
    "\n",
    "    # Plot posterior samples\n",
    "    ppc = Predictive(single_drug_model, mcmc.get_samples())\n",
    "    x_grid = np.logspace(-2,3,100)\n",
    "    ppc_val = ppc(rng_key_predict, x=x_grid)\n",
    "    \n",
    "    model_prediction_dict = {\n",
    "        \"concs\":x_grid,\n",
    "        \"mean\": jnp.mean(ppc_val['yhat'], axis=0),\n",
    "        \"hdpi\": numpyro.diagnostics.hpdi(ppc_val['yhat'], prob=0.95),\n",
    "    }\n",
    "    \n",
    "    fig, ax = plt.subplots(nrows=1, ncols=1, figsize=(4, 4))\n",
    "    ax = plot_regression(model_prediction_dict, data_dict, ax)\n",
    "    ax.legend()\n",
    "    ax.set_xscale('log')\n",
    "    ax.set_xlabel('concentraion')\n",
    "    ax.set_ylabel(r'$\\Delta C_t$')\n",
    "    H_mean = summary_df.loc['H']['mean']\n",
    "    H_lo = summary_df.loc['H']['hdi_3%']\n",
    "    H_hi = summary_df.loc['H']['hdi_97%']\n",
    "    S_mean = summary_df.loc['S']['mean']\n",
    "    ax.set_title(f'{sheet_name}: $H =${H_mean} [{H_lo}, {H_hi}]')\n",
    "    plt.tight_layout()\n",
    "    plt.savefig(f'all_dose_response_curves/{sheet_name}.png')\n",
    "    plt.close()"
   ]
  },
  {
   "cell_type": "code",
   "execution_count": null,
   "id": "f5a943a2",
   "metadata": {},
   "outputs": [],
   "source": []
  }
 ],
 "metadata": {
  "kernelspec": {
   "display_name": "Python 3",
   "language": "python",
   "name": "python3"
  },
  "language_info": {
   "codemirror_mode": {
    "name": "ipython",
    "version": 3
   },
   "file_extension": ".py",
   "mimetype": "text/x-python",
   "name": "python",
   "nbconvert_exporter": "python",
   "pygments_lexer": "ipython3",
   "version": "3.9.15"
  },
  "varInspector": {
   "cols": {
    "lenName": 16,
    "lenType": 16,
    "lenVar": 40
   },
   "kernels_config": {
    "python": {
     "delete_cmd_postfix": "",
     "delete_cmd_prefix": "del ",
     "library": "var_list.py",
     "varRefreshCmd": "print(var_dic_list())"
    },
    "r": {
     "delete_cmd_postfix": ") ",
     "delete_cmd_prefix": "rm(",
     "library": "var_list.r",
     "varRefreshCmd": "cat(var_dic_list()) "
    }
   },
   "types_to_exclude": [
    "module",
    "function",
    "builtin_function_or_method",
    "instance",
    "_Feature"
   ],
   "window_display": false
  }
 },
 "nbformat": 4,
 "nbformat_minor": 5
}
