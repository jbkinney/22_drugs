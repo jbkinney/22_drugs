{
 "cells": [
  {
   "cell_type": "markdown",
   "id": "77df6906",
   "metadata": {},
   "source": [
    "### Infer motif models for fig 3"
   ]
  },
  {
   "cell_type": "code",
   "execution_count": 1,
   "id": "cc563772",
   "metadata": {
    "ExecuteTime": {
     "end_time": "2023-09-17T20:28:53.008504Z",
     "start_time": "2023-09-17T20:28:51.761533Z"
    }
   },
   "outputs": [],
   "source": [
    "## Import necessary stuff. \n",
    "\n",
    "# Standard imports\n",
    "import pandas as pd\n",
    "import numpy as np\n",
    "import matplotlib\n",
    "import matplotlib.pyplot as plt\n",
    "from dataclasses import dataclass\n",
    "import time\n",
    "import pickle\n",
    "\n",
    "# Import x to one hot encoding\n",
    "import utils \n",
    "\n",
    "# Logomaker\n",
    "import logomaker\n",
    "\n",
    "# jax import\n",
    "import jax.random as random\n",
    "import jax.numpy as jnp\n",
    "from jax.numpy import DeviceArray\n",
    "\n",
    "# numpyro imports\n",
    "import numpyro\n",
    "import numpyro.distributions as dist\n",
    "from numpyro.infer import NUTS, MCMC, HMC, SVI\n",
    "from numpyro.infer import Predictive\n",
    "from numpyro.diagnostics import hpdi\n",
    "\n",
    "# arviz\n",
    "#import arviz as az\n",
    "\n",
    "# For visualization. Note that this notebook won't be making figure, so don't need to be picky. \n",
    "%matplotlib inline"
   ]
  },
  {
   "cell_type": "code",
   "execution_count": 2,
   "id": "e2f077f4",
   "metadata": {
    "ExecuteTime": {
     "end_time": "2023-09-17T20:28:53.040169Z",
     "start_time": "2023-09-17T20:28:53.011052Z"
    }
   },
   "outputs": [],
   "source": [
    "# Define type of model\n",
    "# NOTE: IF YOU WANT TO RE-RUN, NEED TO RUNS SCRIPT FOR BOTH VALUES OF model_type\n",
    "#model_type = 'A' # Two-branaplam-mode model\n",
    "model_type = 'C' # One-branaplam-mode model\n",
    "\n",
    "# Define inference parameters\n",
    "@dataclass\n",
    "class args:\n",
    "    num_chains = 4\n",
    "    num_samples = 500 \n",
    "    num_warmup = 500 \n",
    "    device = 'cpu'\n",
    "    progress_bar = True\n",
    "    target_accept_prob = 0.8\n",
    "numpyro.set_platform(args.device)\n",
    "numpyro.set_host_device_count(args.num_chains)"
   ]
  },
  {
   "cell_type": "code",
   "execution_count": 3,
   "id": "bbf31cef",
   "metadata": {
    "ExecuteTime": {
     "end_time": "2023-09-17T20:28:53.071322Z",
     "start_time": "2023-09-17T20:28:53.057361Z"
    }
   },
   "outputs": [],
   "source": [
    "# Set known motifs\n",
    "wt_motif   = 'AGGA/GUAAGU'\n",
    "cons_motif = 'NCAG/GUAAGU'\n",
    "null_motif = 'NCAG/GGAAGA'"
   ]
  },
  {
   "cell_type": "code",
   "execution_count": 4,
   "id": "d28a04fd",
   "metadata": {
    "ExecuteTime": {
     "end_time": "2023-09-17T20:28:53.114334Z",
     "start_time": "2023-09-17T20:28:53.075173Z"
    }
   },
   "outputs": [
    {
     "name": "stdout",
     "output_type": "stream",
     "text": [
      "Num wildtype seqs: 1 \n",
      "Num cons seqs: 4 \n",
      "Num null seqs: 4 \n",
      "Total length of the MPSA dataset is : 285\n"
     ]
    },
    {
     "name": "stderr",
     "output_type": "stream",
     "text": [
      "/Users/jkinney/miniforge3_arm64/lib/python3.9/site-packages/pandas/core/arraylike.py:364: RuntimeWarning: divide by zero encountered in log\n",
      "  result = getattr(ufunc, method)(*inputs, **kwargs)\n"
     ]
    },
    {
     "data": {
      "text/html": [
       "<div>\n",
       "<style scoped>\n",
       "    .dataframe tbody tr th:only-of-type {\n",
       "        vertical-align: middle;\n",
       "    }\n",
       "\n",
       "    .dataframe tbody tr th {\n",
       "        vertical-align: top;\n",
       "    }\n",
       "\n",
       "    .dataframe thead th {\n",
       "        text-align: right;\n",
       "    }\n",
       "</style>\n",
       "<table border=\"1\" class=\"dataframe\">\n",
       "  <thead>\n",
       "    <tr style=\"text-align: right;\">\n",
       "      <th></th>\n",
       "      <th>ss</th>\n",
       "      <th>log_psi_dmso</th>\n",
       "      <th>log_psi_risdiplam</th>\n",
       "      <th>log_psi_branaplam</th>\n",
       "    </tr>\n",
       "  </thead>\n",
       "  <tbody>\n",
       "    <tr>\n",
       "      <th>0</th>\n",
       "      <td>AAAA/GUAAGU</td>\n",
       "      <td>4.551940</td>\n",
       "      <td>4.317081</td>\n",
       "      <td>4.402211</td>\n",
       "    </tr>\n",
       "    <tr>\n",
       "      <th>1</th>\n",
       "      <td>AACA/GUAAGU</td>\n",
       "      <td>4.457342</td>\n",
       "      <td>4.277329</td>\n",
       "      <td>4.502020</td>\n",
       "    </tr>\n",
       "    <tr>\n",
       "      <th>2</th>\n",
       "      <td>AAGA/GUAAAU</td>\n",
       "      <td>-2.122804</td>\n",
       "      <td>-inf</td>\n",
       "      <td>-0.956345</td>\n",
       "    </tr>\n",
       "    <tr>\n",
       "      <th>3</th>\n",
       "      <td>AAGA/GUAACU</td>\n",
       "      <td>-1.567094</td>\n",
       "      <td>-inf</td>\n",
       "      <td>-1.563349</td>\n",
       "    </tr>\n",
       "    <tr>\n",
       "      <th>4</th>\n",
       "      <td>AAGA/GUAAGA</td>\n",
       "      <td>-0.701020</td>\n",
       "      <td>3.159262</td>\n",
       "      <td>4.343661</td>\n",
       "    </tr>\n",
       "  </tbody>\n",
       "</table>\n",
       "</div>"
      ],
      "text/plain": [
       "            ss  log_psi_dmso  log_psi_risdiplam  log_psi_branaplam\n",
       "0  AAAA/GUAAGU      4.551940           4.317081           4.402211\n",
       "1  AACA/GUAAGU      4.457342           4.277329           4.502020\n",
       "2  AAGA/GUAAAU     -2.122804               -inf          -0.956345\n",
       "3  AAGA/GUAACU     -1.567094               -inf          -1.563349\n",
       "4  AAGA/GUAAGA     -0.701020           3.159262           4.343661"
      ]
     },
     "execution_count": 4,
     "metadata": {},
     "output_type": "execute_result"
    }
   ],
   "source": [
    "# Load MPSA data for SMN2\n",
    "\n",
    "# Set file names\n",
    "filenames = ['psi_smn2_dmso.csv',\n",
    "             'psi_smn2_rg.csv',\n",
    "             'psi_smn2_nvs.csv']\n",
    "filenames = ['../data/mpsa/'+f for f in filenames]\n",
    "\n",
    "# Load SMN2 data\n",
    "for i, filename in enumerate(filenames):\n",
    "    col = filename.split('/')[-1].split('.')[0][4:]\n",
    "    tmp_df = pd.read_csv(filename, sep=',')\n",
    "\n",
    "    # Rename splice sites\n",
    "    tmp_df['ss'] = [s.replace('T','U') for s in tmp_df['ss']]\n",
    "    tmp_df['ss'] = [s[:4]+'/'+s[4:] for s in tmp_df['ss']]\n",
    "    tmp_df = tmp_df.set_index('ss')\n",
    "\n",
    "    # Normalize each replicate by the median PSI of the 4 consensus sequences\n",
    "    cons_ix = utils.motif_to_ix(cons_motif, tmp_df.index)\n",
    "    cons_psi = tmp_df[cons_ix].median(axis=0)\n",
    "    tmp_df.loc[:,:] = 100*tmp_df.values/cons_psi.values\n",
    "    \n",
    "    # Take median PSIs across columns\n",
    "    if i==0:\n",
    "        smn2_df = pd.DataFrame(index=tmp_df.index)\n",
    "    smn2_df[col] = tmp_df.median(axis=1)\n",
    "        \n",
    "# Normalize AGAIN by median PSI\n",
    "cons_ix = utils.motif_to_ix(cons_motif, smn2_df.index)\n",
    "cons_psi = smn2_df[cons_ix].median(axis=0)\n",
    "smn2_df.loc[:,:] = 100*smn2_df.values/cons_psi.values\n",
    "\n",
    "# Verify that median PSI of consensus sequences is 100.0\n",
    "cons_ix = utils.motif_to_ix(cons_motif, smn2_df.index)\n",
    "assert(np.all(smn2_df[cons_ix].median(axis=0) == 100))\n",
    "\n",
    "# Set sequences\n",
    "seqs = smn2_df.index.values\n",
    "\n",
    "# Set known motif indices and view quantities\n",
    "wt_ix = utils.motif_to_ix(wt_motif, seqs)\n",
    "cons_ix     = utils.motif_to_ix(cons_motif, seqs) \n",
    "null_ix     = utils.motif_to_ix(null_motif, seqs)\n",
    "\n",
    "print(f'Num wildtype seqs: {sum(wt_ix)} ')\n",
    "print(f'Num cons seqs: {sum(cons_ix)} ')\n",
    "print(f'Num null seqs: {sum(null_ix)} ')\n",
    "\n",
    "smn2_df.reset_index(inplace=True)\n",
    "smn2_df.rename(columns = {'ss':'ss', 'smn2_dmso':'log_psi_dmso',\n",
    "                          'smn2_rg': 'log_psi_risdiplam',\n",
    "                          'smn2_nvs': 'log_psi_branaplam'},\n",
    "              inplace=True)\n",
    "\n",
    "# Filter sequences which has 10% Psi values of the median (background noise)\n",
    "smn2_df['log_psi_dmso'] = np.log(smn2_df['log_psi_dmso'])\n",
    "smn2_df['log_psi_risdiplam'] = np.log(smn2_df['log_psi_risdiplam'])\n",
    "smn2_df['log_psi_branaplam'] = np.log(smn2_df['log_psi_branaplam'])\n",
    "\n",
    "# Preview df\n",
    "print(f'Total length of the MPSA dataset is : {len(smn2_df)}')\n",
    "smn2_df.head()"
   ]
  },
  {
   "cell_type": "code",
   "execution_count": 5,
   "id": "0f59e523",
   "metadata": {
    "ExecuteTime": {
     "end_time": "2023-09-17T20:28:53.150317Z",
     "start_time": "2023-09-17T20:28:53.116716Z"
    }
   },
   "outputs": [
    {
     "name": "stdout",
     "output_type": "stream",
     "text": [
      "Total length of the RNA-seq dataset is : 2545\n"
     ]
    },
    {
     "data": {
      "text/html": [
       "<div>\n",
       "<style scoped>\n",
       "    .dataframe tbody tr th:only-of-type {\n",
       "        vertical-align: middle;\n",
       "    }\n",
       "\n",
       "    .dataframe tbody tr th {\n",
       "        vertical-align: top;\n",
       "    }\n",
       "\n",
       "    .dataframe thead th {\n",
       "        text-align: right;\n",
       "    }\n",
       "</style>\n",
       "<table border=\"1\" class=\"dataframe\">\n",
       "  <thead>\n",
       "    <tr style=\"text-align: right;\">\n",
       "      <th></th>\n",
       "      <th>ss</th>\n",
       "      <th>log_E_risdiplam</th>\n",
       "      <th>dlog_E_risdiplam</th>\n",
       "      <th>log_E_branaplam</th>\n",
       "      <th>dlog_E_branaplam</th>\n",
       "    </tr>\n",
       "  </thead>\n",
       "  <tbody>\n",
       "    <tr>\n",
       "      <th>0</th>\n",
       "      <td>AAAA/GUAAAA</td>\n",
       "      <td>0.508591</td>\n",
       "      <td>0.362189</td>\n",
       "      <td>1.437003</td>\n",
       "      <td>0.349206</td>\n",
       "    </tr>\n",
       "    <tr>\n",
       "      <th>1</th>\n",
       "      <td>AAAA/GUAAAG</td>\n",
       "      <td>0.725740</td>\n",
       "      <td>0.422907</td>\n",
       "      <td>0.215219</td>\n",
       "      <td>0.393041</td>\n",
       "    </tr>\n",
       "    <tr>\n",
       "      <th>2</th>\n",
       "      <td>AAAA/GUAAAU</td>\n",
       "      <td>0.121753</td>\n",
       "      <td>0.221160</td>\n",
       "      <td>0.795931</td>\n",
       "      <td>0.216936</td>\n",
       "    </tr>\n",
       "    <tr>\n",
       "      <th>3</th>\n",
       "      <td>AAAA/GUAACA</td>\n",
       "      <td>0.252730</td>\n",
       "      <td>0.753580</td>\n",
       "      <td>0.495291</td>\n",
       "      <td>0.704470</td>\n",
       "    </tr>\n",
       "    <tr>\n",
       "      <th>4</th>\n",
       "      <td>AAAA/GUAACU</td>\n",
       "      <td>-0.020570</td>\n",
       "      <td>0.284461</td>\n",
       "      <td>0.436673</td>\n",
       "      <td>0.278890</td>\n",
       "    </tr>\n",
       "    <tr>\n",
       "      <th>...</th>\n",
       "      <td>...</td>\n",
       "      <td>...</td>\n",
       "      <td>...</td>\n",
       "      <td>...</td>\n",
       "      <td>...</td>\n",
       "    </tr>\n",
       "    <tr>\n",
       "      <th>2540</th>\n",
       "      <td>UUUU/GUAAGA</td>\n",
       "      <td>0.032179</td>\n",
       "      <td>0.216037</td>\n",
       "      <td>-0.123883</td>\n",
       "      <td>0.213015</td>\n",
       "    </tr>\n",
       "    <tr>\n",
       "      <th>2541</th>\n",
       "      <td>UUUU/GUAAGC</td>\n",
       "      <td>0.161061</td>\n",
       "      <td>0.412960</td>\n",
       "      <td>0.369071</td>\n",
       "      <td>0.423659</td>\n",
       "    </tr>\n",
       "    <tr>\n",
       "      <th>2542</th>\n",
       "      <td>UUUU/GUAAGU</td>\n",
       "      <td>-0.180271</td>\n",
       "      <td>0.134436</td>\n",
       "      <td>-0.062364</td>\n",
       "      <td>0.137287</td>\n",
       "    </tr>\n",
       "    <tr>\n",
       "      <th>2543</th>\n",
       "      <td>UUUU/GUAUGU</td>\n",
       "      <td>-0.214805</td>\n",
       "      <td>0.144297</td>\n",
       "      <td>0.166181</td>\n",
       "      <td>0.139997</td>\n",
       "    </tr>\n",
       "    <tr>\n",
       "      <th>2544</th>\n",
       "      <td>UUUU/GUGAGU</td>\n",
       "      <td>-0.315121</td>\n",
       "      <td>0.323751</td>\n",
       "      <td>0.464213</td>\n",
       "      <td>0.312239</td>\n",
       "    </tr>\n",
       "  </tbody>\n",
       "</table>\n",
       "<p>2545 rows × 5 columns</p>\n",
       "</div>"
      ],
      "text/plain": [
       "               ss  log_E_risdiplam  dlog_E_risdiplam  log_E_branaplam  \\\n",
       "0     AAAA/GUAAAA         0.508591          0.362189         1.437003   \n",
       "1     AAAA/GUAAAG         0.725740          0.422907         0.215219   \n",
       "2     AAAA/GUAAAU         0.121753          0.221160         0.795931   \n",
       "3     AAAA/GUAACA         0.252730          0.753580         0.495291   \n",
       "4     AAAA/GUAACU        -0.020570          0.284461         0.436673   \n",
       "...           ...              ...               ...              ...   \n",
       "2540  UUUU/GUAAGA         0.032179          0.216037        -0.123883   \n",
       "2541  UUUU/GUAAGC         0.161061          0.412960         0.369071   \n",
       "2542  UUUU/GUAAGU        -0.180271          0.134436        -0.062364   \n",
       "2543  UUUU/GUAUGU        -0.214805          0.144297         0.166181   \n",
       "2544  UUUU/GUGAGU        -0.315121          0.323751         0.464213   \n",
       "\n",
       "      dlog_E_branaplam  \n",
       "0             0.349206  \n",
       "1             0.393041  \n",
       "2             0.216936  \n",
       "3             0.704470  \n",
       "4             0.278890  \n",
       "...                ...  \n",
       "2540          0.213015  \n",
       "2541          0.423659  \n",
       "2542          0.137287  \n",
       "2543          0.139997  \n",
       "2544          0.312239  \n",
       "\n",
       "[2545 rows x 5 columns]"
      ]
     },
     "execution_count": 5,
     "metadata": {},
     "output_type": "execute_result"
    }
   ],
   "source": [
    "# Load RNA-seq data\n",
    "\n",
    "# Read Risdiplam RNA-seq data and add GU\n",
    "risdiplam_rnaseq = pd.read_csv('../data/rna-seq/risdiplam_rnaseq.csv')\n",
    "risdiplam_rnaseq.rename(columns={'x': 'ss', 'y': 'log_E_risdiplam', 'dy':'dlog_E_risdiplam'}, inplace=True)\n",
    "\n",
    "# Read Branaplam RNA-seq data and add GU\n",
    "branaplam_rnaseq = pd.read_csv('../data/rna-seq/branaplam_rnaseq.csv')\n",
    "branaplam_rnaseq.rename(columns={'x': 'ss', 'y': 'log_E_branaplam', 'dy':'dlog_E_branaplam'}, inplace=True)\n",
    "\n",
    "# Merge RNAseq data for both drugs\n",
    "rnaseq_df = risdiplam_rnaseq.merge(branaplam_rnaseq, on='ss', how='inner')\n",
    "rnaseq_df['ss'] = rnaseq_df['ss'].str.replace('T', 'U')\n",
    "rnaseq_df['ss'] = rnaseq_df['ss'].str[:4]+'/GU'+rnaseq_df['ss'].str[4:]\n",
    "\n",
    "# Preview dataframe\n",
    "print(f'Total length of the RNA-seq dataset is : {len(rnaseq_df)}')\n",
    "rnaseq_df"
   ]
  },
  {
   "cell_type": "code",
   "execution_count": 6,
   "id": "b12da3a1",
   "metadata": {
    "ExecuteTime": {
     "end_time": "2023-09-17T20:28:53.180756Z",
     "start_time": "2023-09-17T20:28:53.153824Z"
    }
   },
   "outputs": [
    {
     "name": "stdout",
     "output_type": "stream",
     "text": [
      "use_for_mpsa_fit: 99 total measurements\n",
      "use_for_rnaseq_fit: 2,545 total measurements\n",
      "Total length of the measurement dataset is : 2,728\n",
      "measurement_df saved to: measurement_df.csv\n"
     ]
    },
    {
     "data": {
      "text/html": [
       "<div>\n",
       "<style scoped>\n",
       "    .dataframe tbody tr th:only-of-type {\n",
       "        vertical-align: middle;\n",
       "    }\n",
       "\n",
       "    .dataframe tbody tr th {\n",
       "        vertical-align: top;\n",
       "    }\n",
       "\n",
       "    .dataframe thead th {\n",
       "        text-align: right;\n",
       "    }\n",
       "</style>\n",
       "<table border=\"1\" class=\"dataframe\">\n",
       "  <thead>\n",
       "    <tr style=\"text-align: right;\">\n",
       "      <th></th>\n",
       "      <th>ss</th>\n",
       "      <th>log_E_risdiplam</th>\n",
       "      <th>dlog_E_risdiplam</th>\n",
       "      <th>log_E_branaplam</th>\n",
       "      <th>dlog_E_branaplam</th>\n",
       "      <th>log_psi_dmso</th>\n",
       "      <th>log_psi_risdiplam</th>\n",
       "      <th>log_psi_branaplam</th>\n",
       "      <th>use_for_mpsa_fit</th>\n",
       "      <th>use_for_rnaseq_fit</th>\n",
       "    </tr>\n",
       "  </thead>\n",
       "  <tbody>\n",
       "    <tr>\n",
       "      <th>0</th>\n",
       "      <td>AAAA/GUAAAA</td>\n",
       "      <td>0.508591</td>\n",
       "      <td>0.362189</td>\n",
       "      <td>1.437003</td>\n",
       "      <td>0.349206</td>\n",
       "      <td>NaN</td>\n",
       "      <td>NaN</td>\n",
       "      <td>NaN</td>\n",
       "      <td>False</td>\n",
       "      <td>True</td>\n",
       "    </tr>\n",
       "    <tr>\n",
       "      <th>1</th>\n",
       "      <td>AAAA/GUAAAG</td>\n",
       "      <td>0.725740</td>\n",
       "      <td>0.422907</td>\n",
       "      <td>0.215219</td>\n",
       "      <td>0.393041</td>\n",
       "      <td>NaN</td>\n",
       "      <td>NaN</td>\n",
       "      <td>NaN</td>\n",
       "      <td>False</td>\n",
       "      <td>True</td>\n",
       "    </tr>\n",
       "    <tr>\n",
       "      <th>2</th>\n",
       "      <td>AAAA/GUAAAU</td>\n",
       "      <td>0.121753</td>\n",
       "      <td>0.221160</td>\n",
       "      <td>0.795931</td>\n",
       "      <td>0.216936</td>\n",
       "      <td>NaN</td>\n",
       "      <td>NaN</td>\n",
       "      <td>NaN</td>\n",
       "      <td>False</td>\n",
       "      <td>True</td>\n",
       "    </tr>\n",
       "    <tr>\n",
       "      <th>3</th>\n",
       "      <td>AAAA/GUAACA</td>\n",
       "      <td>0.252730</td>\n",
       "      <td>0.753580</td>\n",
       "      <td>0.495291</td>\n",
       "      <td>0.704470</td>\n",
       "      <td>NaN</td>\n",
       "      <td>NaN</td>\n",
       "      <td>NaN</td>\n",
       "      <td>False</td>\n",
       "      <td>True</td>\n",
       "    </tr>\n",
       "    <tr>\n",
       "      <th>4</th>\n",
       "      <td>AAAA/GUAACU</td>\n",
       "      <td>-0.020570</td>\n",
       "      <td>0.284461</td>\n",
       "      <td>0.436673</td>\n",
       "      <td>0.278890</td>\n",
       "      <td>NaN</td>\n",
       "      <td>NaN</td>\n",
       "      <td>NaN</td>\n",
       "      <td>False</td>\n",
       "      <td>True</td>\n",
       "    </tr>\n",
       "  </tbody>\n",
       "</table>\n",
       "</div>"
      ],
      "text/plain": [
       "            ss  log_E_risdiplam  dlog_E_risdiplam  log_E_branaplam  \\\n",
       "0  AAAA/GUAAAA         0.508591          0.362189         1.437003   \n",
       "1  AAAA/GUAAAG         0.725740          0.422907         0.215219   \n",
       "2  AAAA/GUAAAU         0.121753          0.221160         0.795931   \n",
       "3  AAAA/GUAACA         0.252730          0.753580         0.495291   \n",
       "4  AAAA/GUAACU        -0.020570          0.284461         0.436673   \n",
       "\n",
       "   dlog_E_branaplam  log_psi_dmso  log_psi_risdiplam  log_psi_branaplam  \\\n",
       "0          0.349206           NaN                NaN                NaN   \n",
       "1          0.393041           NaN                NaN                NaN   \n",
       "2          0.216936           NaN                NaN                NaN   \n",
       "3          0.704470           NaN                NaN                NaN   \n",
       "4          0.278890           NaN                NaN                NaN   \n",
       "\n",
       "   use_for_mpsa_fit  use_for_rnaseq_fit  \n",
       "0             False                True  \n",
       "1             False                True  \n",
       "2             False                True  \n",
       "3             False                True  \n",
       "4             False                True  "
      ]
     },
     "execution_count": 6,
     "metadata": {},
     "output_type": "execute_result"
    }
   ],
   "source": [
    "# Merge rnaseq and mpsa datasets\n",
    "measurement_df = rnaseq_df.merge(smn2_df, how='outer', on='ss')\n",
    "measurement_df.reset_index(inplace=True, drop=True)\n",
    "\n",
    "# Mark which rows to use in different inference tasks\n",
    "null_ix = utils.motif_to_ix(null_motif, measurement_df['ss'])\n",
    "dmso_mpsa_bg = measurement_df['log_psi_dmso'][null_ix].median()\n",
    "ris_mpsa_bg = measurement_df['log_psi_risdiplam'][null_ix].median()\n",
    "bran_mpsa_bg = measurement_df['log_psi_branaplam'][null_ix].median()\n",
    "\n",
    "# Mark which rows should be used for which inference tasks\n",
    "shift = np.exp(0.1)\n",
    "\n",
    "# Set flags for which data to use in each inference task.\n",
    "measurement_df['use_for_mpsa_fit'] = (measurement_df['log_psi_dmso'] >= dmso_mpsa_bg+shift) &\\\n",
    "                                         (measurement_df['log_psi_risdiplam'] >= ris_mpsa_bg+shift) &\\\n",
    "                                          (measurement_df['log_psi_branaplam'] >= bran_mpsa_bg+shift) \n",
    "measurement_df['use_for_rnaseq_fit'] = measurement_df['log_E_risdiplam'].notna() &\\\n",
    "                                       measurement_df['log_E_branaplam'].notna()\n",
    "\n",
    "# Print numer of measurements to use for each inference\n",
    "for col in ['use_for_mpsa_fit', 'use_for_rnaseq_fit']:\n",
    "    print(f'{col}: {measurement_df[col].sum():,} total measurements')\n",
    "\n",
    "# Preview dataframe\n",
    "print(f'Total length of the measurement dataset is : {len(measurement_df):,}')\n",
    "\n",
    "# Save measurement_df\n",
    "file_name = 'measurement_df.csv'\n",
    "measurement_df.to_csv(file_name)\n",
    "print(f'measurement_df saved to: {file_name}')\n",
    "measurement_df.head()"
   ]
  },
  {
   "cell_type": "code",
   "execution_count": 7,
   "id": "a98c4595",
   "metadata": {
    "ExecuteTime": {
     "end_time": "2023-09-17T20:28:53.186204Z",
     "start_time": "2023-09-17T20:28:53.182247Z"
    },
    "code_folding": [
     0
    ]
   },
   "outputs": [],
   "source": [
    "# Defines model using mask instead of indexing. Is much slower though. Don't use. \n",
    "\n",
    "# # Compute one-hot encoding of cropped sequences (i.e. without central '/GU')\n",
    "# cropped_seqs = measurement_df['ss'].str[:4]+measurement_df['ss'].str[7:]\n",
    "# ss_ohe = jnp.array(utils.x_to_ohe(cropped_seqs, alphabet_name='rna', ravel_seqs=False))\n",
    "\n",
    "# # Define the model\n",
    "# def model(model_type: str,\n",
    "#           ss_ohe: DeviceArray = None,\n",
    "#           measurement_df: pd.DataFrame = None) -> DeviceArray:\n",
    "\n",
    "#     ## GP map parameters for both drugs risdiplam and hyper motif\n",
    "#     theta_scale = 5\n",
    "#     L=8\n",
    "#     C=4\n",
    "#     theta_0_hyp = numpyro.sample('theta_0_hyp', \n",
    "#                                  dist.Normal(loc=0, scale=theta_scale))\n",
    "#     theta_lc_hyp = numpyro.sample('theta_lc_hyp', \n",
    "#                                   dist.Normal(loc=jnp.zeros((L,C)), scale=theta_scale))\n",
    "#     theta_0_ris  = numpyro.sample('theta_0_ris', \n",
    "#                                   dist.Normal(loc=0, scale=theta_scale))\n",
    "#     theta_lc_ris = numpyro.sample('theta_lc_ris', \n",
    "#                                   dist.Normal(loc=jnp.zeros((L,C)), scale=theta_scale))\n",
    "\n",
    "#     # Get number of sequences\n",
    "#     N = len(ss_ohe)\n",
    "\n",
    "#     # Context strength\n",
    "#     logS = numpyro.sample('logS', \n",
    "#                           dist.Normal(loc=jnp.zeros((N,)), \n",
    "#                           scale=theta_scale))\n",
    "#     S = numpyro.deterministic('S', \n",
    "#                               jnp.exp(logS))\n",
    "\n",
    "#     # phi values for ris and hyp motifs\n",
    "#     phi_ris = numpyro.deterministic(\n",
    "#                 'phi_ris', \n",
    "#                 theta_0_ris + jnp.einsum('nlc,lc->n', ss_ohe, theta_lc_ris))\n",
    "#     phi_hyp = numpyro.deterministic(\n",
    "#                 'phi_hyp', \n",
    "#                 theta_0_hyp + jnp.einsum('nlc,lc->n', ss_ohe, theta_lc_hyp))\n",
    "\n",
    "#     # Risdiplam effect\n",
    "#     E_ris = numpyro.deterministic('E_ris', 1+jnp.exp(phi_ris))\n",
    "\n",
    "#     # Branaplam effect (depends on model)\n",
    "#     if model_type=='A':\n",
    "#         E_bra = numpyro.deterministic('E_bra', 1 + jnp.exp(phi_hyp) + jnp.exp(phi_ris))\n",
    "#     elif model_type=='B':\n",
    "#         E_bra = numpyro.deterministic('E_bra', 1 + jnp.exp(phi_hyp + phi_ris))\n",
    "#     elif model_type=='C':\n",
    "#         E_bra = numpyro.deterministic('E_bra', 1 + jnp.exp(phi_hyp))\n",
    "        \n",
    "#     # Drug strength: psi_drug = 100R/(R+1)+B\n",
    "#     R_ris = numpyro.deterministic('R_ris', S*E_ris)        \n",
    "#     R_bra = numpyro.deterministic('R_bra', S*E_bra)\n",
    "    \n",
    "#     # Background noise for MPSA dataset\n",
    "#     B_ris = numpyro.sample('B_ris', dist.Exponential(1))\n",
    "#     B_bra = numpyro.sample('B_bra', dist.Exponential(1))\n",
    "#     B_dmso = numpyro.sample('B_dmso', dist.Exponential(1))\n",
    "\n",
    "#     # Log PSI for DMSO, risdiplam, and branaplam \n",
    "#     log_psi_dmso = numpyro.deterministic('log_psi_dmso', jnp.log(100*S/(1+S) + B_dmso))\n",
    "#     log_psi_ris  = numpyro.deterministic('log_psi_ris', jnp.log(100*(R_ris)/(1+R_ris) + B_ris))\n",
    "#     log_psi_bra  = numpyro.deterministic('log_psi_bra', jnp.log(100*(R_bra)/(1+R_bra) + B_bra))\n",
    "    \n",
    "#     # Log E for risdiplam and branaplam\n",
    "#     log_E_ris = numpyro.deterministic('log_E_ris', jnp.log(E_ris))\n",
    "#     log_E_bra = numpyro.deterministic('log_E_bra', jnp.log(E_bra))\n",
    "    \n",
    "#     # Noise magnitude for MPSA meausurements of log PSI\n",
    "#     sigma_mpsa_dmso = numpyro.sample('sigma_mpsa_dmso', dist.Exponential(1))\n",
    "#     sigma_mpsa_ris = numpyro.sample('sigma_mpsa_ris', dist.Exponential(1))\n",
    "#     sigma_mpsa_bra = numpyro.sample('sigma_mpsa_bra', dist.Exponential(1))\n",
    "    \n",
    "#     # Noise magnitude for RNA-seq measuremetns of log E\n",
    "#     sigma_rnaseq_ris = numpyro.sample('sigma_rnaseq_ris', dist.Exponential(1))\n",
    "#     sigma_rnaseq_bra = numpyro.sample('sigma_rnaseq_bra', dist.Exponential(1))        \n",
    "   \n",
    "#     with numpyro.plate('data', size=N):\n",
    "        \n",
    "#         # Define masks\n",
    "#         mask_mpsa = jnp.array(measurement_df['use_for_mpsa_fit'].values)\n",
    "#         mask_rnaseq = jnp.array(measurement_df['use_for_rnaseq_fit'].values)\n",
    "\n",
    "#         # Get MPSA observations of log PSI\n",
    "#         obs_mpsa_dmso = jnp.array(measurement_df['log_psi_dmso'].values)\n",
    "#         obs_mpsa_ris = jnp.array(measurement_df['log_psi_risdiplam'].values)\n",
    "#         obs_mpsa_bra = jnp.array(measurement_df['log_psi_branaplam'].values)\n",
    "\n",
    "#         # Get RNA-seq observations of log E\n",
    "#         obs_rnaseq_ris = jnp.array(measurement_df['log_E_risdiplam'].values)\n",
    "#         obs_rnaseq_bra = jnp.array(measurement_df['log_E_branaplam'].values)\n",
    "        \n",
    "#          # Match MPSA observations with predictions\n",
    "#         numpyro.sample('yhat_mpsa_dmso',\n",
    "#                        dist.Normal(loc=log_psi_dmso, scale=sigma_mpsa_dmso), \n",
    "#                        obs=obs_mpsa_dmso,\n",
    "#                        obs_mask=mask_mpsa)\n",
    "#         numpyro.sample('yhat_mpsa_ris', \n",
    "#                        dist.Normal(loc=log_psi_ris, scale=sigma_mpsa_ris), \n",
    "#                        obs=obs_mpsa_ris,\n",
    "#                        obs_mask=mask_mpsa)\n",
    "#         numpyro.sample('yhat_mpsa_bra', \n",
    "#                        dist.Normal(loc=log_psi_bra, scale=sigma_mpsa_bra), \n",
    "#                        obs=obs_mpsa_bra,\n",
    "#                        obs_mask=mask_mpsa)\n",
    "\n",
    "#         # Match RNA-seq observations with predictions\n",
    "#         numpyro.sample('yhat_rnaseq_ris', \n",
    "#                        dist.Normal(loc=log_E_ris, scale=sigma_rnaseq_ris), \n",
    "#                        obs=obs_rnaseq_ris,\n",
    "#                        obs_mask=mask_rnaseq)  \n",
    "#         numpyro.sample('yhat_rnaseq_bra', \n",
    "#                        dist.Normal(loc=log_E_bra, scale=sigma_rnaseq_bra), \n",
    "#                        obs=obs_rnaseq_bra,\n",
    "#                        obs_mask=mask_rnaseq)"
   ]
  },
  {
   "cell_type": "code",
   "execution_count": 8,
   "id": "854382f2",
   "metadata": {
    "ExecuteTime": {
     "end_time": "2023-09-17T20:28:53.198775Z",
     "start_time": "2023-09-17T20:28:53.187191Z"
    }
   },
   "outputs": [],
   "source": [
    "# Compute one-hot encoding of cropped sequences (i.e. without central '/GU')\n",
    "cropped_seqs = measurement_df['ss'].str[:4]+measurement_df['ss'].str[7:]\n",
    "ss_ohe = jnp.array(utils.x_to_ohe(cropped_seqs, alphabet_name='rna', ravel_seqs=False))\n",
    "\n",
    "# Define the model\n",
    "def model(model_type: str,\n",
    "          ss_ohe: DeviceArray = None,\n",
    "          measurement_df: pd.DataFrame = None) -> DeviceArray:\n",
    "\n",
    "    ## GP map parameters for both drugs risdiplam and hyper motif\n",
    "    theta_lc_scale = 5\n",
    "    theta_0_scale = 5\n",
    "    S_scale = 5\n",
    "    L=8\n",
    "    C=4\n",
    "    theta_0_hyp = numpyro.sample('theta_0_hyp', \n",
    "                                 dist.Normal(loc=0, scale=theta_0_scale))\n",
    "    theta_lc_hyp = numpyro.sample('theta_lc_hyp', \n",
    "                                  dist.Normal(loc=jnp.zeros((L,C)), scale=theta_lc_scale))\n",
    "    theta_0_ris  = numpyro.sample('theta_0_ris', \n",
    "                                  dist.Normal(loc=0, scale=theta_0_scale))\n",
    "    theta_lc_ris = numpyro.sample('theta_lc_ris', \n",
    "                                  dist.Normal(loc=jnp.zeros((L,C)), scale=theta_lc_scale))\n",
    "    \n",
    "    # Get number of sequences\n",
    "    N = len(ss_ohe)\n",
    "\n",
    "    # Context strength\n",
    "    logS = numpyro.sample('logS', \n",
    "                          dist.Normal(loc=jnp.zeros((N,)), \n",
    "                          scale=S_scale))\n",
    "    S = numpyro.deterministic('S', \n",
    "                              jnp.exp(logS))\n",
    "\n",
    "    # phi values for ris and hyp motifs\n",
    "    phi_ris = numpyro.deterministic(\n",
    "                'phi_ris', \n",
    "                theta_0_ris + jnp.einsum('nlc,lc->n', ss_ohe, theta_lc_ris))\n",
    "    phi_hyp = numpyro.deterministic(\n",
    "                'phi_hyp', \n",
    "                theta_0_hyp + jnp.einsum('nlc,lc->n', ss_ohe, theta_lc_hyp))\n",
    "    \n",
    "    # Chemical potential difference\n",
    "    delta_mu = np.log(10.0/7.1) # RNA-seq at 10x concentration, MPSA at 7.1x concentration\n",
    "\n",
    "    # Risdiplam effect\n",
    "    E_ris = numpyro.deterministic('E_ris', 1+jnp.exp(phi_ris+delta_mu)) \n",
    "    E_ris_mpsa = numpyro.deterministic('E_ris_mpsa', 1 + jnp.exp(phi_ris))\n",
    "\n",
    "    # Branaplam effect (depends on model)\n",
    "    if model_type=='A':\n",
    "        E_bra = numpyro.deterministic('E_bra', 1 + jnp.exp(phi_hyp+delta_mu) + jnp.exp(phi_ris+delta_mu))\n",
    "        E_bra_mpsa = numpyro.deterministic('E_bra_mpsa', 1 + jnp.exp(phi_hyp) + jnp.exp(phi_ris))\n",
    "    elif model_type=='C':\n",
    "        E_bra = numpyro.deterministic('E_bra', 1 + jnp.exp(phi_hyp+delta_mu))\n",
    "        E_bra_mpsa = numpyro.deterministic('E_bra_mpsa', 1 + jnp.exp(phi_hyp))\n",
    "        \n",
    "    # Drug strength for MPSA dataset\n",
    "    R_ris = numpyro.deterministic('R_ris', S*E_ris_mpsa)        \n",
    "    R_bra = numpyro.deterministic('R_bra', S*E_bra_mpsa)\n",
    "    \n",
    "    # Background noise for MPSA dataset\n",
    "    B_ris = numpyro.sample('B_ris', dist.Exponential(1))\n",
    "    B_bra = numpyro.sample('B_bra', dist.Exponential(1))\n",
    "    B_dmso = numpyro.sample('B_dmso', dist.Exponential(1))\n",
    "\n",
    "    # Log PSI for DMSO, risdiplam, and branaplam  for MPSA dataset\n",
    "    log_psi_dmso = numpyro.deterministic('log_psi_dmso', jnp.log(100*S/(1+S) + B_dmso))\n",
    "    log_psi_ris  = numpyro.deterministic('log_psi_ris', jnp.log(100*(R_ris)/(1+R_ris) + B_ris))\n",
    "    log_psi_bra  = numpyro.deterministic('log_psi_bra', jnp.log(100*(R_bra)/(1+R_bra) + B_bra))\n",
    "    \n",
    "    # Log E for risdiplam and branaplam\n",
    "    log_E_ris = numpyro.deterministic('log_E_ris', jnp.log(E_ris))\n",
    "    log_E_bra = numpyro.deterministic('log_E_bra', jnp.log(E_bra))\n",
    "    \n",
    "    # Noise magnitude for MPSA meausurements of log PSI\n",
    "    sigma_mpsa_dmso = numpyro.sample('sigma_mpsa_dmso', dist.Exponential(1))\n",
    "    sigma_mpsa_ris = numpyro.sample('sigma_mpsa_ris', dist.Exponential(1))\n",
    "    sigma_mpsa_bra = numpyro.sample('sigma_mpsa_bra', dist.Exponential(1))\n",
    "    \n",
    "    # Noise magnitude for RNA-seq measuremetns of log E\n",
    "    sigma_rnaseq_ris = numpyro.sample('sigma_rnaseq_ris', dist.Exponential(1))\n",
    "    sigma_rnaseq_bra = numpyro.sample('sigma_rnaseq_bra', dist.Exponential(1))        \n",
    "        \n",
    "    # Get indices to use for MPSA analysis\n",
    "    mpsa_ix = measurement_df['use_for_mpsa_fit'].values\n",
    "    mpsa_ixx = measurement_df[mpsa_ix].index.values\n",
    "\n",
    "    # Get indices for RNA-seq analysis\n",
    "    rnaseq_ix = measurement_df['use_for_rnaseq_fit'].values\n",
    "    rnaseq_ixx = measurement_df[rnaseq_ix].index.values\n",
    "\n",
    "    # Subset log PSI values for which we have observations\n",
    "    log_psi_dmso_use = log_psi_dmso[mpsa_ixx]\n",
    "    log_psi_ris_use = log_psi_ris[mpsa_ixx]\n",
    "    log_psi_bra_use = log_psi_bra[mpsa_ixx]\n",
    "\n",
    "    # Subset log E values for which we have observations\n",
    "    log_E_ris_use = log_E_ris[rnaseq_ixx]\n",
    "    log_E_bra_use = log_E_bra[rnaseq_ixx]\n",
    "\n",
    "    # Get MPSA observations of log PSI\n",
    "    obs_mpsa_dmso = jnp.array(measurement_df['log_psi_dmso'][mpsa_ix].values)\n",
    "    obs_mpsa_ris = jnp.array(measurement_df['log_psi_risdiplam'][mpsa_ix].values)\n",
    "    obs_mpsa_bra = jnp.array(measurement_df['log_psi_branaplam'][mpsa_ix].values)\n",
    "\n",
    "    # Get RNA-seq observations of log E\n",
    "    obs_rnaseq_ris = jnp.array(measurement_df['log_E_risdiplam'][rnaseq_ix].values)\n",
    "    obs_rnaseq_bra = jnp.array(measurement_df['log_E_branaplam'][rnaseq_ix].values)\n",
    "\n",
    "    # Match MPSA observations with predictions\n",
    "    numpyro.sample('yhat_mpsa_dmso',\n",
    "                   dist.Normal(loc=log_psi_dmso_use, scale=sigma_mpsa_dmso), \n",
    "                   obs=obs_mpsa_dmso)\n",
    "    numpyro.sample('yhat_mpsa_ris', \n",
    "                   dist.Normal(loc=log_psi_ris_use, scale=sigma_mpsa_ris), \n",
    "                   obs=obs_mpsa_ris)\n",
    "    numpyro.sample('yhat_mpsa_bra', \n",
    "                   dist.Normal(loc=log_psi_bra_use, scale=sigma_mpsa_bra), \n",
    "                   obs=obs_mpsa_bra)\n",
    "\n",
    "    # Match RNA-seq observations with predictions\n",
    "    numpyro.sample('yhat_rnaseq_ris', \n",
    "                   dist.Normal(loc=log_E_ris_use, scale=sigma_rnaseq_ris), \n",
    "                   obs=obs_rnaseq_ris)  \n",
    "    numpyro.sample('yhat_rnaseq_bra', \n",
    "                   dist.Normal(loc=log_E_bra_use, scale=sigma_rnaseq_bra), \n",
    "                   obs=obs_rnaseq_bra)"
   ]
  },
  {
   "cell_type": "code",
   "execution_count": 9,
   "id": "fd1e6d1d",
   "metadata": {
    "ExecuteTime": {
     "end_time": "2023-09-17T20:28:53.203171Z",
     "start_time": "2023-09-17T20:28:53.201199Z"
    }
   },
   "outputs": [
    {
     "name": "stdout",
     "output_type": "stream",
     "text": [
      "delta_mu = 0.342 kT = 0.211 kcal/mol\n"
     ]
    }
   ],
   "source": [
    "conv_factor = 1/1.62\n",
    "delta_mu = np.log(10.0/7.1)\n",
    "\n",
    "print(f'delta_mu = {delta_mu:.3f} kT = {delta_mu*conv_factor:.3f} kcal/mol')"
   ]
  },
  {
   "cell_type": "code",
   "execution_count": 10,
   "id": "c8f37764",
   "metadata": {
    "ExecuteTime": {
     "end_time": "2023-09-17T20:30:20.201917Z",
     "start_time": "2023-09-17T20:28:53.204182Z"
    }
   },
   "outputs": [
    {
     "name": "stdout",
     "output_type": "stream",
     "text": [
      "Training model using MCMC...\n",
      "\n"
     ]
    },
    {
     "data": {
      "application/vnd.jupyter.widget-view+json": {
       "model_id": "3f23e24d6d784f5fa0ac0c90cd895433",
       "version_major": 2,
       "version_minor": 0
      },
      "text/plain": [
       "  0%|          | 0/1000 [00:00<?, ?it/s]"
      ]
     },
     "metadata": {},
     "output_type": "display_data"
    },
    {
     "data": {
      "application/vnd.jupyter.widget-view+json": {
       "model_id": "43f241c87f5f422d8256cc6ec4f6341d",
       "version_major": 2,
       "version_minor": 0
      },
      "text/plain": [
       "  0%|          | 0/1000 [00:00<?, ?it/s]"
      ]
     },
     "metadata": {},
     "output_type": "display_data"
    },
    {
     "data": {
      "application/vnd.jupyter.widget-view+json": {
       "model_id": "a131d97f592a4bd1a113c5c0cdadbfde",
       "version_major": 2,
       "version_minor": 0
      },
      "text/plain": [
       "  0%|          | 0/1000 [00:00<?, ?it/s]"
      ]
     },
     "metadata": {},
     "output_type": "display_data"
    },
    {
     "data": {
      "application/vnd.jupyter.widget-view+json": {
       "model_id": "21d809a2a83d40e4b7229f925ea2ed6b",
       "version_major": 2,
       "version_minor": 0
      },
      "text/plain": [
       "  0%|          | 0/1000 [00:00<?, ?it/s]"
      ]
     },
     "metadata": {},
     "output_type": "display_data"
    },
    {
     "name": "stdout",
     "output_type": "stream",
     "text": [
      "Done!\n",
      "MCMC elapsed time: 86.9951548576355\n"
     ]
    }
   ],
   "source": [
    "# User feedback\n",
    "print(f'Training model using MCMC...\\n')\n",
    "start = time.time()\n",
    "\n",
    "# Define kernel\n",
    "kernel = NUTS(model, \n",
    "              target_accept_prob=args.target_accept_prob)\n",
    "\n",
    "# Setup MCMC object; model() is contained in kernel\n",
    "mcmc = MCMC(kernel,\n",
    "            num_warmup=args.num_warmup,\n",
    "            num_samples=args.num_samples,\n",
    "            num_chains=args.num_chains,\n",
    "            progress_bar=args.progress_bar)\n",
    "\n",
    "# Set random keys\n",
    "rng_key, rng_key_predict = random.split(random.PRNGKey(0))\n",
    "\n",
    "# Run MCMC. \n",
    "mcmc.run(rng_key, # random key\n",
    "         measurement_df = measurement_df,\n",
    "         model_type = model_type,\n",
    "         ss_ohe = ss_ohe) \n",
    "mcmc_samples = mcmc.get_samples()\n",
    "\n",
    "# Tell user how long it took\n",
    "print(\"Done!\\nMCMC elapsed time:\", time.time() - start)"
   ]
  },
  {
   "cell_type": "code",
   "execution_count": 11,
   "id": "1c56771b",
   "metadata": {
    "ExecuteTime": {
     "end_time": "2023-09-17T20:30:20.537513Z",
     "start_time": "2023-09-17T20:30:20.202884Z"
    }
   },
   "outputs": [
    {
     "data": {
      "text/plain": [
       "dict_keys(['B_bra', 'B_dmso', 'B_ris', 'E_bra', 'E_bra_mpsa', 'E_ris', 'E_ris_mpsa', 'R_bra', 'R_ris', 'S', 'logS', 'log_E_bra', 'log_E_ris', 'log_psi_bra', 'log_psi_dmso', 'log_psi_ris', 'phi_hyp', 'phi_ris', 'sigma_mpsa_bra', 'sigma_mpsa_dmso', 'sigma_mpsa_ris', 'sigma_rnaseq_bra', 'sigma_rnaseq_ris', 'theta_0_hyp', 'theta_0_ris', 'theta_lc_hyp', 'theta_lc_ris'])"
      ]
     },
     "execution_count": 11,
     "metadata": {},
     "output_type": "execute_result"
    }
   ],
   "source": [
    "#Save posterior samples\n",
    "file_name = f'../mcmc_samples/joint_model_{model_type}_v2.pkl'\n",
    "with open(file_name, 'wb') as f:\n",
    "    pickle.dump(mcmc_samples, f)\n",
    "    \n",
    "# Check that loading works\n",
    "with open(file_name, 'rb') as f:\n",
    "    loaded_mcmc_samples = pickle.load(f)\n",
    "    \n",
    "loaded_mcmc_samples.keys()"
   ]
  },
  {
   "cell_type": "code",
   "execution_count": 12,
   "id": "1b734b13",
   "metadata": {
    "ExecuteTime": {
     "end_time": "2023-09-17T20:30:21.127611Z",
     "start_time": "2023-09-17T20:30:20.538648Z"
    }
   },
   "outputs": [
    {
     "data": {
      "image/png": "[encoded data removed]",
      "text/plain": [
       "<Figure size 600x300 with 2 Axes>"
      ]
     },
     "metadata": {},
     "output_type": "display_data"
    }
   ],
   "source": [
    "# To convert samples to logos\n",
    "def samples_to_logo_df(theta_lc_samples):\n",
    "    theta_lc_mean = np.array(theta_lc_samples.mean(axis=0))\n",
    "    logo_df =  pd.DataFrame(theta_lc_mean, columns=['A', 'C', 'G', 'U'])\n",
    "    zeros_df = pd.DataFrame(np.zeros([2,4]), columns=['A', 'C', 'G', 'U'])\n",
    "    logo_df = pd.concat([logo_df.iloc[:4,:], zeros_df, logo_df.iloc[4:]], axis=0).reset_index(drop=True)\n",
    "    logo_df.index = range(-4,6)    \n",
    "    return logo_df\n",
    "\n",
    "# Define plotting function\n",
    "def plot_logo(theta_lc_mean_df, ax, drug_name):\n",
    "    logo = logomaker.Logo(theta_lc_mean_df, ax=ax, center_values=True, show_spines=False)\n",
    "    logo.highlight_position_range(pmin=0, pmax=1, color='w', zorder=1)\n",
    "    ylim = ax.get_ylim()\n",
    "    logomaker.Glyph(ax=ax, p=0, c='G', color='k', floor=ylim[0], ceiling=ylim[1])\n",
    "    logomaker.Glyph(ax=ax, p=1, c='U', color='k', floor=ylim[0], ceiling=ylim[1])\n",
    "    ax.set_title(f'{drug_name}');\n",
    "    ax.set_xticks(theta_lc_mean_df.index)\n",
    "    x_ticks_labels = ['-4', '-3', '-2', '-1', '+1', '+2', '+3', '+4', '+5', '+6']\n",
    "    ax.set_xticklabels(x_ticks_labels)\n",
    "    ax.set_ylim(ylim)\n",
    "    plt.tight_layout()\n",
    "\n",
    "# Plot logos\n",
    "fig, axs = plt.subplots(2,1, figsize=(6, 3))\n",
    "\n",
    "# Risdiplam logo\n",
    "theta_lc_ris_df = samples_to_logo_df(mcmc_samples['theta_lc_ris'])\n",
    "plot_logo(theta_lc_ris_df, axs[0], 'ris motif')\n",
    "\n",
    "# Hyper logo\n",
    "theta_lc_hyp_df = samples_to_logo_df(mcmc_samples['theta_lc_hyp'])\n",
    "plot_logo(theta_lc_hyp_df, axs[1], 'hyp motif')"
   ]
  },
  {
   "cell_type": "code",
   "execution_count": 13,
   "id": "091eb8bc",
   "metadata": {
    "ExecuteTime": {
     "end_time": "2023-09-17T20:30:21.382252Z",
     "start_time": "2023-09-17T20:30:21.128500Z"
    },
    "code_folding": []
   },
   "outputs": [
    {
     "data": {
      "image/png": "[encoded data removed]",
      "text/plain": [
       "<Figure size 800x800 with 2 Axes>"
      ]
     },
     "metadata": {},
     "output_type": "display_data"
    }
   ],
   "source": [
    "# Plot matrix values and uncertainties\n",
    "poss = ['-4', '-3', '-2', '-1', '+3', '+4', '+5', '+6']\n",
    "bases = list('ACGU')\n",
    "\n",
    "fig, axs = plt.subplots(1,2,figsize=[8,8])\n",
    "for ax, theta_lc_name in zip(axs, ['theta_lc_ris', 'theta_lc_hyp']):\n",
    "    \n",
    "    # Get theta_lc samples and fix gauge\n",
    "    theta_lc_samples = np.array(mcmc_samples[theta_lc_name])\n",
    "    theta_lc_samples = theta_lc_samples - theta_lc_samples.mean(axis=2)[:,:,np.newaxis]\n",
    "\n",
    "    theta_lc_mean = theta_lc_samples.mean(axis=0)\n",
    "    theta_lc_hpdi = hpdi(theta_lc_samples, prob=.9, axis=0)\n",
    "    \n",
    "    # Fuck, have to gauge fix mcmc_samples first\n",
    "    \n",
    "    yticks = []\n",
    "    yticklabels = []\n",
    "    for i, pos in enumerate(poss):\n",
    "        for j, base in enumerate(bases):\n",
    "            y = 4*i + j\n",
    "            x = theta_lc_mean[i,j]\n",
    "            x_lo = theta_lc_hpdi[0,i,j]\n",
    "            x_hi = theta_lc_hpdi[1,i,j]\n",
    "            ax.plot(x,y,'ok')\n",
    "            ax.plot([x_lo, x_hi],[y, y],'-k')\n",
    "            yticks.append(y)\n",
    "            yticklabels.append(f'{pos}{base}')\n",
    "            \n",
    "    # Style plot\n",
    "    ax.axvline(0,linestyle=':')\n",
    "    ax.set(yticks=yticks,\n",
    "           yticklabels=yticklabels,\n",
    "           xlabel=theta_lc_name)"
   ]
  },
  {
   "cell_type": "code",
   "execution_count": 14,
   "id": "7b491809",
   "metadata": {
    "ExecuteTime": {
     "end_time": "2023-09-17T20:30:21.610386Z",
     "start_time": "2023-09-17T20:30:21.383146Z"
    }
   },
   "outputs": [
    {
     "data": {
      "image/png": "[encoded data removed]",
      "text/plain": [
       "<Figure size 800x400 with 2 Axes>"
      ]
     },
     "metadata": {},
     "output_type": "display_data"
    }
   ],
   "source": [
    "# Plot E_ris and E_bran measured vs. predicted\n",
    "ix = measurement_df['use_for_rnaseq_fit']\n",
    "\n",
    "log_E_ris_model = np.log(np.array(mcmc_samples['E_ris'].mean(axis=0)))[ix]\n",
    "log_E_ris_data = measurement_df['log_E_risdiplam'].values[ix]\n",
    "\n",
    "log_E_bra_model = np.log(np.array(mcmc_samples['E_bra'].mean(axis=0)))[ix]\n",
    "log_E_bra_data = measurement_df['log_E_branaplam'].values[ix]\n",
    "\n",
    "def my_rsq(x_values, y_values):\n",
    "    correlation_matrix = np.corrcoef(x_values, y_values)\n",
    "    correlation_xy = correlation_matrix[0,1]\n",
    "    r_squared = correlation_xy**2\n",
    "    return r_squared\n",
    "\n",
    "def plot(ax, x, y, xlabel, ylabel):\n",
    "    ax.scatter(x,y)\n",
    "    xlim=[0,7]\n",
    "    ax.plot(xlim, xlim, '--k')\n",
    "    ax.set(xlabel=xlabel,\n",
    "           ylabel=ylabel,\n",
    "           title=f'$R^2$: {my_rsq(x,y):.3f}',\n",
    "           xlim=xlim)\n",
    "\n",
    "fig, axs = plt.subplots(1,2,figsize=[8,4])\n",
    "    \n",
    "plot(ax = axs[0],\n",
    "     x=log_E_ris_model,\n",
    "     y=log_E_ris_data,\n",
    "     xlabel='model log_E_ris',\n",
    "     ylabel='rnaseq log_E_ris')\n",
    "    \n",
    "plot(ax = axs[1],\n",
    "     x=log_E_bra_model,\n",
    "     y=log_E_bra_data,\n",
    "     xlabel='model log_E_bra',\n",
    "     ylabel='rnaseq log_E_bra')\n",
    "\n",
    "fig.tight_layout()"
   ]
  },
  {
   "cell_type": "code",
   "execution_count": 15,
   "id": "153302cd",
   "metadata": {
    "ExecuteTime": {
     "end_time": "2023-09-17T20:30:21.797170Z",
     "start_time": "2023-09-17T20:30:21.611209Z"
    }
   },
   "outputs": [
    {
     "data": {
      "image/png": "[encoded data removed]",
      "text/plain": [
       "<Figure size 900x300 with 3 Axes>"
      ]
     },
     "metadata": {},
     "output_type": "display_data"
    }
   ],
   "source": [
    "# Plot log_psi (measured vs. predicted) for dmso, risdiplam, branaplam\n",
    "\n",
    "ix = measurement_df['use_for_mpsa_fit']\n",
    "\n",
    "log_psi_dmso_model = np.array(mcmc_samples['log_psi_dmso'].mean(axis=0))[ix]\n",
    "log_psi_dmso_data = measurement_df['log_psi_dmso'].values[ix]\n",
    "\n",
    "log_psi_ris_model = np.array(mcmc_samples['log_psi_ris'].mean(axis=0))[ix]\n",
    "log_psi_ris_data = measurement_df['log_psi_risdiplam'].values[ix]\n",
    "\n",
    "log_psi_bra_model = np.array(mcmc_samples['log_psi_bra'].mean(axis=0))[ix]\n",
    "log_psi_bra_data = measurement_df['log_psi_branaplam'].values[ix]\n",
    "\n",
    "def plot(ax, x, y, xlabel, ylabel):\n",
    "    ax.scatter(x,y)\n",
    "    xlim=[0,5]\n",
    "    ax.plot(xlim, xlim, '--k')\n",
    "    ax.set(xlabel=xlabel,\n",
    "           ylabel=ylabel,\n",
    "           title=f'$R^2$: {my_rsq(x,y):.3f}',\n",
    "           xlim=xlim)\n",
    "\n",
    "fig, axs = plt.subplots(1,3,figsize=[9,3])\n",
    "\n",
    "plot(ax = axs[0],\n",
    "     x=log_psi_dmso_model,\n",
    "     y=log_psi_dmso_data,\n",
    "     xlabel='model log_psi_dmso',\n",
    "     ylabel='mpsa log_psi_dmso')\n",
    "\n",
    "plot(ax = axs[1],\n",
    "     x=log_psi_ris_model,\n",
    "     y=log_psi_ris_data,\n",
    "     xlabel='model log_psi_ris',\n",
    "     ylabel='mpsa log_psi_ris')\n",
    "\n",
    "plot(ax = axs[2],\n",
    "     x=log_psi_bra_model,\n",
    "     y=log_psi_bra_data,\n",
    "     xlabel='model log_psi_bra',\n",
    "     ylabel='mpsa log_psi_bra')\n",
    "\n",
    "fig.tight_layout()\n"
   ]
  },
  {
   "cell_type": "code",
   "execution_count": null,
   "id": "4b08718a",
   "metadata": {},
   "outputs": [],
   "source": []
  }
 ],
 "metadata": {
  "kernelspec": {
   "display_name": "Python 3",
   "language": "python",
   "name": "python3"
  },
  "language_info": {
   "codemirror_mode": {
    "name": "ipython",
    "version": 3
   },
   "file_extension": ".py",
   "mimetype": "text/x-python",
   "name": "python",
   "nbconvert_exporter": "python",
   "pygments_lexer": "ipython3",
   "version": "3.9.15"
  },
  "varInspector": {
   "cols": {
    "lenName": 16,
    "lenType": 16,
    "lenVar": 40
   },
   "kernels_config": {
    "python": {
     "delete_cmd_postfix": "",
     "delete_cmd_prefix": "del ",
     "library": "var_list.py",
     "varRefreshCmd": "print(var_dic_list())"
    },
    "r": {
     "delete_cmd_postfix": ") ",
     "delete_cmd_prefix": "rm(",
     "library": "var_list.r",
     "varRefreshCmd": "cat(var_dic_list()) "
    }
   },
   "types_to_exclude": [
    "module",
    "function",
    "builtin_function_or_method",
    "instance",
    "_Feature"
   ],
   "window_display": false
  }
 },
 "nbformat": 4,
 "nbformat_minor": 5
}
