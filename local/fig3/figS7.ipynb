{
 "cells": [
  {
   "cell_type": "markdown",
   "id": "77df6906",
   "metadata": {},
   "source": [
    "# Fig 3: Plot model likelihood"
   ]
  },
  {
   "cell_type": "code",
   "execution_count": 1,
   "id": "cc563772",
   "metadata": {
    "ExecuteTime": {
     "end_time": "2023-06-22T12:49:41.732220Z",
     "start_time": "2023-06-22T12:49:39.925284Z"
    }
   },
   "outputs": [
    {
     "name": "stderr",
     "output_type": "stream",
     "text": [
      "/var/folders/20/m6rbxnjn0zq40r2bn1x6f5x80000gn/T/ipykernel_11539/726463476.py:21: DeprecationWarning: jax.numpy.DeviceArray is deprecated. Use jax.Array.\n",
      "  from jax.numpy import DeviceArray\n"
     ]
    }
   ],
   "source": [
    "## Import necessary stuff. \n",
    "\n",
    "# Standard imports\n",
    "import pandas as pd\n",
    "import numpy as np\n",
    "import matplotlib\n",
    "import matplotlib.pyplot as plt\n",
    "from dataclasses import dataclass\n",
    "import time\n",
    "import pickle\n",
    "\n",
    "# Import x to one hot encoding\n",
    "import utils \n",
    "\n",
    "# Logomaker\n",
    "import logomaker\n",
    "\n",
    "# jax import\n",
    "import jax.random as random\n",
    "import jax.numpy as jnp\n",
    "from jax.numpy import DeviceArray\n",
    "\n",
    "# numpyro imports\n",
    "import numpyro\n",
    "import numpyro.distributions as dist\n",
    "from numpyro.infer import NUTS, MCMC, HMC, SVI\n",
    "from numpyro.infer import Predictive\n",
    "from numpyro.diagnostics import hpdi"
   ]
  },
  {
   "cell_type": "code",
   "execution_count": 2,
   "id": "4c2d2a77",
   "metadata": {
    "ExecuteTime": {
     "end_time": "2023-06-22T12:49:41.734883Z",
     "start_time": "2023-06-22T12:49:41.733136Z"
    }
   },
   "outputs": [],
   "source": [
    " plt.style.use('../fig.style')"
   ]
  },
  {
   "cell_type": "code",
   "execution_count": 3,
   "id": "e2f077f4",
   "metadata": {
    "ExecuteTime": {
     "end_time": "2023-06-22T12:49:41.738105Z",
     "start_time": "2023-06-22T12:49:41.736157Z"
    }
   },
   "outputs": [],
   "source": [
    "# Define inference parameters\n",
    "@dataclass\n",
    "class args:\n",
    "    num_chains = 4\n",
    "    num_samples = 500 \n",
    "    num_warmup = 500 \n",
    "    device = 'cpu'\n",
    "    progress_bar = True\n",
    "    target_accept_prob = 0.8\n",
    "numpyro.set_platform(args.device)\n",
    "numpyro.set_host_device_count(args.num_chains)"
   ]
  },
  {
   "cell_type": "code",
   "execution_count": 4,
   "id": "2d591cb4",
   "metadata": {
    "ExecuteTime": {
     "end_time": "2023-06-22T12:49:41.744280Z",
     "start_time": "2023-06-22T12:49:41.738924Z"
    }
   },
   "outputs": [],
   "source": [
    "# Load combined MPSA and RNA-seq measurements\n",
    "measurement_df = pd.read_csv('measurement_df.csv')"
   ]
  },
  {
   "cell_type": "code",
   "execution_count": 5,
   "id": "854382f2",
   "metadata": {
    "ExecuteTime": {
     "end_time": "2023-06-22T12:49:41.759427Z",
     "start_time": "2023-06-22T12:49:41.745239Z"
    },
    "code_folding": [
     0
    ]
   },
   "outputs": [],
   "source": [
    "# Compute one-hot encoding of cropped sequences (i.e. without central '/GU')\n",
    "cropped_seqs = measurement_df['ss'].str[:4]+measurement_df['ss'].str[7:]\n",
    "ss_ohe = jnp.array(utils.x_to_ohe(cropped_seqs, alphabet_name='rna', ravel_seqs=False))\n",
    "\n",
    "# Define the model\n",
    "def model(model_type: str,\n",
    "          ss_ohe: DeviceArray = None,\n",
    "          measurement_df: pd.DataFrame = None) -> DeviceArray:\n",
    "\n",
    "    ## GP map parameters for both drugs risdiplam and hyper motif\n",
    "    theta_lc_scale = 5\n",
    "    theta_0_scale = 5\n",
    "    S_scale = 5\n",
    "    L=8\n",
    "    C=4\n",
    "    theta_0_hyp = numpyro.sample('theta_0_hyp', \n",
    "                                 dist.Normal(loc=0, scale=theta_0_scale))\n",
    "    theta_lc_hyp = numpyro.sample('theta_lc_hyp', \n",
    "                                  dist.Normal(loc=jnp.zeros((L,C)), scale=theta_lc_scale))\n",
    "    theta_0_ris  = numpyro.sample('theta_0_ris', \n",
    "                                  dist.Normal(loc=0, scale=theta_0_scale))\n",
    "    theta_lc_ris = numpyro.sample('theta_lc_ris', \n",
    "                                  dist.Normal(loc=jnp.zeros((L,C)), scale=theta_lc_scale))\n",
    "\n",
    "    # Hill coefficients\n",
    "    H_ris = 1.0 #numpyro.sample('H_ris', dist.Exponential(rate=1))\n",
    "    H_bra = 1.0 #numpyro.sample('H_bra', dist.Exponential(rate=1))\n",
    "    \n",
    "    # Get number of sequences\n",
    "    N = len(ss_ohe)\n",
    "\n",
    "    # Context strength\n",
    "    logS = numpyro.sample('logS', \n",
    "                          dist.Normal(loc=jnp.zeros((N,)), \n",
    "                          scale=S_scale))\n",
    "    S = numpyro.deterministic('S', \n",
    "                              jnp.exp(logS))\n",
    "\n",
    "    # phi values for ris and hyp motifs\n",
    "    phi_ris = numpyro.deterministic(\n",
    "                'phi_ris', \n",
    "                theta_0_ris + jnp.einsum('nlc,lc->n', ss_ohe, theta_lc_ris))\n",
    "    phi_hyp = numpyro.deterministic(\n",
    "                'phi_hyp', \n",
    "                theta_0_hyp + jnp.einsum('nlc,lc->n', ss_ohe, theta_lc_hyp))\n",
    "\n",
    "    # Risdiplam effect\n",
    "    E_ris = numpyro.deterministic('E_ris', 1+jnp.exp(phi_ris))\n",
    "    E_ris_mpsa = numpyro.deterministic('E_ris_mpsa', 1 + jnp.exp(H_ris*phi_ris))\n",
    "\n",
    "    # Branaplam effect (depends on model)\n",
    "    if model_type=='A':\n",
    "        E_bra = numpyro.deterministic('E_bra', 1 + jnp.exp(phi_hyp) + jnp.exp(phi_ris))\n",
    "        E_bra_mpsa = numpyro.deterministic('E_bra_mpsa', 1 + jnp.exp(H_bra*phi_hyp) + jnp.exp(H_bra*phi_ris))\n",
    "    elif model_type=='B':\n",
    "        E_bra = numpyro.deterministic('E_bra', 1 + jnp.exp(phi_hyp + phi_ris))\n",
    "        E_bra_mpsa = numpyro.deterministic('E_bra_mpsa', 1 + jnp.exp(H_bra*(phi_hyp + phi_ris)))\n",
    "    elif model_type=='C':\n",
    "        E_bra = numpyro.deterministic('E_bra', 1 + jnp.exp(phi_hyp))\n",
    "        E_bra_mpsa = numpyro.deterministic('E_bra_mpsa', 1 + jnp.exp(H_bra*phi_hyp))\n",
    "        \n",
    "    # Drug strength for MPSA dataset\n",
    "    R_ris = numpyro.deterministic('R_ris', S*E_ris_mpsa)        \n",
    "    R_bra = numpyro.deterministic('R_bra', S*E_bra_mpsa)\n",
    "    \n",
    "    # Background noise for MPSA dataset\n",
    "    B_ris = numpyro.sample('B_ris', dist.Exponential(1))\n",
    "    B_bra = numpyro.sample('B_bra', dist.Exponential(1))\n",
    "    B_dmso = numpyro.sample('B_dmso', dist.Exponential(1))\n",
    "\n",
    "    # Log PSI for DMSO, risdiplam, and branaplam  for MPSA dataset\n",
    "    log_psi_dmso = numpyro.deterministic('log_psi_dmso', jnp.log(100*S/(1+S) + B_dmso))\n",
    "    log_psi_ris  = numpyro.deterministic('log_psi_ris', jnp.log(100*(R_ris)/(1+R_ris) + B_ris))\n",
    "    log_psi_bra  = numpyro.deterministic('log_psi_bra', jnp.log(100*(R_bra)/(1+R_bra) + B_bra))\n",
    "    \n",
    "    # Log E for risdiplam and branaplam\n",
    "    log_E_ris = numpyro.deterministic('log_E_ris', jnp.log(E_ris))\n",
    "    log_E_bra = numpyro.deterministic('log_E_bra', jnp.log(E_bra))\n",
    "    \n",
    "    # Noise magnitude for MPSA meausurements of log PSI\n",
    "    sigma_mpsa_dmso = numpyro.sample('sigma_mpsa_dmso', dist.Exponential(1))\n",
    "    sigma_mpsa_ris = numpyro.sample('sigma_mpsa_ris', dist.Exponential(1))\n",
    "    sigma_mpsa_bra = numpyro.sample('sigma_mpsa_bra', dist.Exponential(1))\n",
    "    \n",
    "    # Noise magnitude for RNA-seq measuremetns of log E\n",
    "    sigma_rnaseq_ris = numpyro.sample('sigma_rnaseq_ris', dist.Exponential(1))\n",
    "    sigma_rnaseq_bra = numpyro.sample('sigma_rnaseq_bra', dist.Exponential(1))        \n",
    "        \n",
    "    # Get indices to use for MPSA analysis\n",
    "    mpsa_ix = measurement_df['use_for_mpsa_fit'].values\n",
    "    mpsa_ixx = measurement_df[mpsa_ix].index.values\n",
    "\n",
    "    # Get indices for RNA-seq analysis\n",
    "    rnaseq_ix = measurement_df['use_for_rnaseq_fit'].values\n",
    "    rnaseq_ixx = measurement_df[rnaseq_ix].index.values\n",
    "\n",
    "    # Subset log PSI values for which we have observations\n",
    "    log_psi_dmso_use = log_psi_dmso[mpsa_ixx]\n",
    "    log_psi_ris_use = log_psi_ris[mpsa_ixx]\n",
    "    log_psi_bra_use = log_psi_bra[mpsa_ixx]\n",
    "\n",
    "    # Subset log E values for which we have observations\n",
    "    log_E_ris_use = log_E_ris[rnaseq_ixx]\n",
    "    log_E_bra_use = log_E_bra[rnaseq_ixx]\n",
    "\n",
    "    # Get MPSA observations of log PSI\n",
    "    obs_mpsa_dmso = jnp.array(measurement_df['log_psi_dmso'][mpsa_ix].values)\n",
    "    obs_mpsa_ris = jnp.array(measurement_df['log_psi_risdiplam'][mpsa_ix].values)\n",
    "    obs_mpsa_bra = jnp.array(measurement_df['log_psi_branaplam'][mpsa_ix].values)\n",
    "\n",
    "    # Get RNA-seq observations of log E\n",
    "    obs_rnaseq_ris = jnp.array(measurement_df['log_E_risdiplam'][rnaseq_ix].values)\n",
    "    obs_rnaseq_bra = jnp.array(measurement_df['log_E_branaplam'][rnaseq_ix].values)\n",
    "\n",
    "    # Match MPSA observations with predictions\n",
    "    numpyro.sample('yhat_mpsa_dmso',\n",
    "                   dist.Normal(loc=log_psi_dmso_use, scale=sigma_mpsa_dmso), \n",
    "                   obs=obs_mpsa_dmso)\n",
    "    numpyro.sample('yhat_mpsa_ris', \n",
    "                   dist.Normal(loc=log_psi_ris_use, scale=sigma_mpsa_ris), \n",
    "                   obs=obs_mpsa_ris)\n",
    "    numpyro.sample('yhat_mpsa_bra', \n",
    "                   dist.Normal(loc=log_psi_bra_use, scale=sigma_mpsa_bra), \n",
    "                   obs=obs_mpsa_bra)\n",
    "\n",
    "    # Match RNA-seq observations with predictions\n",
    "    numpyro.sample('yhat_rnaseq_ris', \n",
    "                   dist.Normal(loc=log_E_ris_use, scale=sigma_rnaseq_ris), \n",
    "                   obs=obs_rnaseq_ris)  \n",
    "    numpyro.sample('yhat_rnaseq_bra', \n",
    "                   dist.Normal(loc=log_E_bra_use, scale=sigma_rnaseq_bra), \n",
    "                   obs=obs_rnaseq_bra)"
   ]
  },
  {
   "cell_type": "code",
   "execution_count": 6,
   "id": "fd7e29f7",
   "metadata": {
    "ExecuteTime": {
     "end_time": "2023-06-22T12:49:41.823924Z",
     "start_time": "2023-06-22T12:49:41.760255Z"
    },
    "scrolled": true
   },
   "outputs": [],
   "source": [
    "from jax import random, vmap\n",
    "from numpyro import handlers\n",
    "import suftware as sw\n",
    "\n",
    "# For some reason, sns.kdeplot() isn't working; use SUFTware\n",
    "def deftplot(values, ax, **kwargs):\n",
    "    values = np.array(values)\n",
    "    dist = sw.DensityEstimator(values)\n",
    "    x = dist.bin_edges\n",
    "    y = dist.evaluate(x)\n",
    "    ax.fill_between(x,y,alpha=.5, **kwargs)\n",
    "\n",
    "def ll_helper(rng_key, params, model, obs, *args, **kwargs):\n",
    "    model = handlers.substitute(handlers.seed(model, rng_key), params)\n",
    "    model_trace = handlers.trace(model).get_trace( *args, **kwargs)\n",
    "    obs_node = model_trace[obs]\n",
    "    return obs_node['fn'].log_prob(obs_node['value'])\n",
    "\n",
    "def get_model_ll(model_type):\n",
    "    \n",
    "    # Load model\n",
    "    file_name = f'joint_model_{model_type}_v2.pkl'\n",
    "    with open(file_name, 'rb') as f:\n",
    "        params = pickle.load(f)\n",
    "    \n",
    "    # Get random key\n",
    "    rng_key = random.PRNGKey(2)\n",
    "    \n",
    "    kwargs = dict(measurement_df = measurement_df,\n",
    "                  model_type = model_type,\n",
    "                  ss_ohe = ss_ohe)\n",
    "    \n",
    "    obs_list =['yhat_mpsa_dmso', 'yhat_mpsa_ris', 'yhat_mpsa_bra', 'yhat_rnaseq_ris', 'yhat_rnaseq_bra']\n",
    "    n = list(params.values())[0].shape[0]\n",
    "    log_obs = 0\n",
    "    ll_df = pd.DataFrame()\n",
    "    ll_dict = {}\n",
    "    for obs in obs_list:\n",
    "        log_lk_fn = vmap(lambda rng_key, params: ll_helper(rng_key, params, model, obs, **kwargs))\n",
    "        log_lk_vals = log_lk_fn(random.split(rng_key, n), params)\n",
    "        ll_df[obs] = np.array(jnp.sum(log_lk_vals,axis=1))\n",
    "    ll_df['total'] = ll_df.sum(axis=1)\n",
    "    return ll_df"
   ]
  },
  {
   "cell_type": "code",
   "execution_count": null,
   "id": "b076231f",
   "metadata": {
    "ExecuteTime": {
     "start_time": "2023-06-22T12:49:39.906Z"
    }
   },
   "outputs": [
    {
     "name": "stdout",
     "output_type": "stream",
     "text": [
      "ll_ratio: 117.4 [64.4, 172.5]\n",
      "ll_ratio: -7.9 [-21.2, 7.1]\n",
      "ll_ratio: 109.6 [92.3, 129.4]\n",
      "ll_ratio: -1.8 [-51.4, 47.9]\n",
      "ll_ratio: -0.9 [-10.5, 8.4]\n",
      "ll_ratio: 17.7 [5.6, 31.1]\n"
     ]
    }
   ],
   "source": [
    "fig, axs = plt.subplots(2,3, figsize=[6.5,5])\n",
    "\n",
    "model_types = list('CA')\n",
    "lls_dict = {model_type:get_model_ll(model_type) for model_type in model_types}\n",
    "label_dict = {'A':'two conf',\n",
    "              'C':'one conf'}\n",
    "\n",
    "def plot_density(ax, obs, title, legend=False):\n",
    "\n",
    "    # Get log likelihoods\n",
    "    llA = lls_dict['A'][obs].values\n",
    "    llC = lls_dict['C'][obs].values\n",
    "\n",
    "    # Randomize arrays and compute ratios\n",
    "    np.random.seed(0)\n",
    "    np.random.shuffle(llA)\n",
    "    np.random.shuffle(llC)\n",
    "    ll_ratios = llA-llC\n",
    "\n",
    "    # Center all log likelihoods; this is fine\n",
    "    ll0 = .5*np.mean(llA) + .5*np.mean(llC)\n",
    "    llA = llA-ll0\n",
    "    llC = llC-ll0\n",
    "\n",
    "    # Compute median and 95% CI\n",
    "    ll_ratios = llA-llC\n",
    "    ll_ratio_med = np.median(ll_ratios)\n",
    "    ll_ratio_lo, ll_ratio_hi = np.quantile(a=ll_ratios, q=(.025, .975))\n",
    "    print(f'll_ratio: {ll_ratio_med:.1f} [{ll_ratio_lo:.1f}, {ll_ratio_hi:.1f}]')\n",
    "    \n",
    "    deftplot(llA, label='two-interaction-mode model', ax = ax)\n",
    "    deftplot(llC, label='one-interaction-mode model', ax = ax)\n",
    "        \n",
    "    # Style axes\n",
    "    ax.set_yticks([])\n",
    "    ax.set_ylabel('density', fontsize=7, labelpad=2)\n",
    "    ax.set_xlabel('log likelihood', fontsize=7)\n",
    "    ax.set_xlim([-100, 100])\n",
    "    ylim = list(ax.get_ylim())\n",
    "    ylim[0] = 0\n",
    "    ylim[1] = 1.25*ylim[1]\n",
    "    ax.set_ylim(ylim)\n",
    "    if legend:\n",
    "        ax.legend(loc='upper center', bbox_to_anchor=(0.5, 1.0), frameon=False)\n",
    "        #ax.legend(loc='upper left')\n",
    "    #ax.set_title(f'{title}\\nlog evidence ratio: {d_log_evidence:.1f}')\n",
    "    ax.set_title(f'{title}\\nlog likelihood ratio: {ll_ratio_med:.1f} [{ll_ratio_lo:.1f}, {ll_ratio_hi:.1f}]')\n",
    "\n",
    "    \n",
    "plot_density(ax=axs[0,0], \n",
    "             obs='total', \n",
    "             title='all data (MPSA and RNA-seq)',\n",
    "             legend=True)\n",
    "    \n",
    "plot_density(ax=axs[0,1], \n",
    "             obs='yhat_rnaseq_ris', \n",
    "             title='risdiplam $E$ values (RNA-seq)')\n",
    "\n",
    "plot_density(ax=axs[0,2], \n",
    "             obs='yhat_rnaseq_bra', \n",
    "             title='branaplam $E$ values (RNA-seq)')\n",
    "    \n",
    "plot_density(ax=axs[1,0], \n",
    "             obs='yhat_mpsa_dmso', \n",
    "             title='DMSO PSI values (MPSA)')\n",
    "\n",
    "plot_density(ax=axs[1,1], \n",
    "             obs='yhat_mpsa_ris', \n",
    "             title='risdiplam PSI values (MPSA)')\n",
    "\n",
    "plot_density(ax=axs[1,2], \n",
    "             obs='yhat_mpsa_bra', \n",
    "             title='branaplam PSI values (MPSA)')\n",
    "\n",
    "fig.tight_layout()\n",
    "fig.savefig('figS7.pdf')"
   ]
  },
  {
   "cell_type": "code",
   "execution_count": null,
   "id": "e690323c",
   "metadata": {},
   "outputs": [],
   "source": []
  }
 ],
 "metadata": {
  "kernelspec": {
   "display_name": "Python 3 (ipykernel)",
   "language": "python",
   "name": "python3"
  },
  "language_info": {
   "codemirror_mode": {
    "name": "ipython",
    "version": 3
   },
   "file_extension": ".py",
   "mimetype": "text/x-python",
   "name": "python",
   "nbconvert_exporter": "python",
   "pygments_lexer": "ipython3",
   "version": "3.10.11"
  },
  "varInspector": {
   "cols": {
    "lenName": 16,
    "lenType": 16,
    "lenVar": 40
   },
   "kernels_config": {
    "python": {
     "delete_cmd_postfix": "",
     "delete_cmd_prefix": "del ",
     "library": "var_list.py",
     "varRefreshCmd": "print(var_dic_list())"
    },
    "r": {
     "delete_cmd_postfix": ") ",
     "delete_cmd_prefix": "rm(",
     "library": "var_list.r",
     "varRefreshCmd": "cat(var_dic_list()) "
    }
   },
   "types_to_exclude": [
    "module",
    "function",
    "builtin_function_or_method",
    "instance",
    "_Feature"
   ],
   "window_display": false
  }
 },
 "nbformat": 4,
 "nbformat_minor": 5
}
