{
 "cells": [
  {
   "cell_type": "code",
   "execution_count": 1,
   "id": "cc563772",
   "metadata": {
    "ExecuteTime": {
     "end_time": "2023-06-22T12:47:15.685603Z",
     "start_time": "2023-06-22T12:47:14.259944Z"
    }
   },
   "outputs": [],
   "source": [
    "## Import necessary stuff. \n",
    "\n",
    "# Standard imports\n",
    "import pandas as pd\n",
    "import numpy as np\n",
    "import matplotlib.pyplot as plt\n",
    "import pickle\n",
    "\n",
    "# Special imports\n",
    "import utils\n",
    "import logomaker\n",
    "from numpyro.diagnostics import hpdi\n",
    "\n",
    "#%matplotlib inline\n",
    "\n",
    "#model_type = 'A'    # For Fig. 3C-H\n",
    "model_type = 'C'    # For Fig. 3S3"
   ]
  },
  {
   "cell_type": "code",
   "execution_count": 2,
   "id": "67231f93",
   "metadata": {
    "ExecuteTime": {
     "end_time": "2023-06-22T12:47:15.688964Z",
     "start_time": "2023-06-22T12:47:15.686419Z"
    }
   },
   "outputs": [],
   "source": [
    "# Set figure style\n",
    "style_file_name = f'fig.style'\n",
    "s = \"\"\"\n",
    "axes.linewidth:     1.0  # width of spines \n",
    "font.size:          7.0  # default font size\n",
    "axes.labelsize:     7.0  # fontsize of the x any y labels\n",
    "axes.titlesize:     7.0  # fontsize of title\n",
    "xtick.labelsize:    7.0  # fontsize of the tick labels\n",
    "ytick.labelsize:    7.0  # fontsize of the tick labels\n",
    "legend.fontsize:      7.0\n",
    "legend.borderpad:     0.2  # border whitespace\n",
    "legend.labelspacing:  0.2  # the vertical space between the legend entries\n",
    "legend.borderaxespad: 0.2  # the border between the axes and legend edge\n",
    "axes.labelpad:      1.0     # space between label and axis\n",
    "\"\"\"\n",
    "with open(style_file_name, 'w') as f:\n",
    "    f.write(s)\n",
    "    \n",
    "plt.style.use(style_file_name)"
   ]
  },
  {
   "cell_type": "code",
   "execution_count": 3,
   "id": "77dc2e6f",
   "metadata": {
    "ExecuteTime": {
     "end_time": "2023-06-22T12:47:15.703903Z",
     "start_time": "2023-06-22T12:47:15.691549Z"
    }
   },
   "outputs": [
    {
     "data": {
      "text/html": [
       "<div>\n",
       "<style scoped>\n",
       "    .dataframe tbody tr th:only-of-type {\n",
       "        vertical-align: middle;\n",
       "    }\n",
       "\n",
       "    .dataframe tbody tr th {\n",
       "        vertical-align: top;\n",
       "    }\n",
       "\n",
       "    .dataframe thead th {\n",
       "        text-align: right;\n",
       "    }\n",
       "</style>\n",
       "<table border=\"1\" class=\"dataframe\">\n",
       "  <thead>\n",
       "    <tr style=\"text-align: right;\">\n",
       "      <th></th>\n",
       "      <th>ss</th>\n",
       "      <th>log_E_risdiplam</th>\n",
       "      <th>dlog_E_risdiplam</th>\n",
       "      <th>log_E_branaplam</th>\n",
       "      <th>dlog_E_branaplam</th>\n",
       "      <th>log_psi_dmso</th>\n",
       "      <th>log_psi_risdiplam</th>\n",
       "      <th>log_psi_branaplam</th>\n",
       "      <th>use_for_mpsa_fit</th>\n",
       "      <th>use_for_rnaseq_fit</th>\n",
       "    </tr>\n",
       "  </thead>\n",
       "  <tbody>\n",
       "    <tr>\n",
       "      <th>0</th>\n",
       "      <td>AAAA/GUAAAA</td>\n",
       "      <td>0.508591</td>\n",
       "      <td>0.362189</td>\n",
       "      <td>1.437003</td>\n",
       "      <td>0.349206</td>\n",
       "      <td>NaN</td>\n",
       "      <td>NaN</td>\n",
       "      <td>NaN</td>\n",
       "      <td>False</td>\n",
       "      <td>True</td>\n",
       "    </tr>\n",
       "    <tr>\n",
       "      <th>1</th>\n",
       "      <td>AAAA/GUAAAG</td>\n",
       "      <td>0.725740</td>\n",
       "      <td>0.422907</td>\n",
       "      <td>0.215219</td>\n",
       "      <td>0.393041</td>\n",
       "      <td>NaN</td>\n",
       "      <td>NaN</td>\n",
       "      <td>NaN</td>\n",
       "      <td>False</td>\n",
       "      <td>True</td>\n",
       "    </tr>\n",
       "    <tr>\n",
       "      <th>2</th>\n",
       "      <td>AAAA/GUAAAU</td>\n",
       "      <td>0.121753</td>\n",
       "      <td>0.221160</td>\n",
       "      <td>0.795931</td>\n",
       "      <td>0.216936</td>\n",
       "      <td>NaN</td>\n",
       "      <td>NaN</td>\n",
       "      <td>NaN</td>\n",
       "      <td>False</td>\n",
       "      <td>True</td>\n",
       "    </tr>\n",
       "    <tr>\n",
       "      <th>3</th>\n",
       "      <td>AAAA/GUAACA</td>\n",
       "      <td>0.252730</td>\n",
       "      <td>0.753580</td>\n",
       "      <td>0.495291</td>\n",
       "      <td>0.704470</td>\n",
       "      <td>NaN</td>\n",
       "      <td>NaN</td>\n",
       "      <td>NaN</td>\n",
       "      <td>False</td>\n",
       "      <td>True</td>\n",
       "    </tr>\n",
       "    <tr>\n",
       "      <th>4</th>\n",
       "      <td>AAAA/GUAACU</td>\n",
       "      <td>-0.020570</td>\n",
       "      <td>0.284461</td>\n",
       "      <td>0.436673</td>\n",
       "      <td>0.278890</td>\n",
       "      <td>NaN</td>\n",
       "      <td>NaN</td>\n",
       "      <td>NaN</td>\n",
       "      <td>False</td>\n",
       "      <td>True</td>\n",
       "    </tr>\n",
       "  </tbody>\n",
       "</table>\n",
       "</div>"
      ],
      "text/plain": [
       "            ss  log_E_risdiplam  dlog_E_risdiplam  log_E_branaplam   \n",
       "0  AAAA/GUAAAA         0.508591          0.362189         1.437003  \\\n",
       "1  AAAA/GUAAAG         0.725740          0.422907         0.215219   \n",
       "2  AAAA/GUAAAU         0.121753          0.221160         0.795931   \n",
       "3  AAAA/GUAACA         0.252730          0.753580         0.495291   \n",
       "4  AAAA/GUAACU        -0.020570          0.284461         0.436673   \n",
       "\n",
       "   dlog_E_branaplam  log_psi_dmso  log_psi_risdiplam  log_psi_branaplam   \n",
       "0          0.349206           NaN                NaN                NaN  \\\n",
       "1          0.393041           NaN                NaN                NaN   \n",
       "2          0.216936           NaN                NaN                NaN   \n",
       "3          0.704470           NaN                NaN                NaN   \n",
       "4          0.278890           NaN                NaN                NaN   \n",
       "\n",
       "   use_for_mpsa_fit  use_for_rnaseq_fit  \n",
       "0             False                True  \n",
       "1             False                True  \n",
       "2             False                True  \n",
       "3             False                True  \n",
       "4             False                True  "
      ]
     },
     "execution_count": 3,
     "metadata": {},
     "output_type": "execute_result"
    }
   ],
   "source": [
    "# Load measurements\n",
    "measurement_df = pd.read_csv('measurement_df.csv', index_col=0)\n",
    "measurement_df.head()"
   ]
  },
  {
   "cell_type": "code",
   "execution_count": 4,
   "id": "1c56771b",
   "metadata": {
    "ExecuteTime": {
     "end_time": "2023-06-22T12:47:15.854127Z",
     "start_time": "2023-06-22T12:47:15.704822Z"
    }
   },
   "outputs": [
    {
     "name": "stdout",
     "output_type": "stream",
     "text": [
      "Loaded mcmc samples from: joint_model_C_v2.pkl\n"
     ]
    }
   ],
   "source": [
    "# Load posterior samples\n",
    "file_name = f'joint_model_{model_type}_v2.pkl'\n",
    "with open(file_name, 'rb') as f:\n",
    "    mcmc_samples = pickle.load(f)\n",
    "print(f'Loaded mcmc samples from: {file_name}')\n",
    "#mcmc_samples.keys()"
   ]
  },
  {
   "cell_type": "code",
   "execution_count": 5,
   "id": "1b734b13",
   "metadata": {
    "ExecuteTime": {
     "end_time": "2023-06-22T12:47:15.859948Z",
     "start_time": "2023-06-22T12:47:15.855205Z"
    },
    "code_folding": []
   },
   "outputs": [],
   "source": [
    "# To convert samples to logos\n",
    "def samples_to_logo_df(theta_lc_samples):\n",
    "    theta_lc_mean = np.array(theta_lc_samples.mean(axis=0))\n",
    "    logo_df =  pd.DataFrame(theta_lc_mean, columns=['A', 'C', 'G', 'U'])\n",
    "    zeros_df = pd.DataFrame(np.zeros([2,4]), columns=['A', 'C', 'G', 'U'])\n",
    "    logo_df = pd.concat([logo_df.iloc[:4,:], zeros_df, logo_df.iloc[4:]], axis=0).reset_index(drop=True)\n",
    "    logo_df.index = range(-4,6)    \n",
    "    return logo_df\n",
    "\n",
    "# Define plotting function\n",
    "def plot_theta_logo(theta_lc_samples, ax, title, subscript):\n",
    "    theta_lc_mean_df=samples_to_logo_df(theta_lc_samples)\n",
    "    logo = logomaker.Logo(theta_lc_mean_df, ax=ax, center_values=True, show_spines=True, \n",
    "                          font_name='Arial Rounded MT Bold')\n",
    "    logo.highlight_position_range(pmin=0, pmax=1, color='w', zorder=1)\n",
    "    #ylim = [-10,10]\n",
    "    ylim = [-6, 6]\n",
    "    xlim = [-4.6, 5.6]\n",
    "    #ylim = ax.get_ylim()\n",
    "    logomaker.Glyph(ax=ax, p=0, c='G', color='k', floor=ylim[0]+.5, ceiling=ylim[1]-.5,\n",
    "                    font_name='Arial Rounded MT Bold')\n",
    "    logomaker.Glyph(ax=ax, p=1, c='U', color='k', floor=ylim[0]+.5, ceiling=ylim[1]-.5,\n",
    "                    font_name='Arial Rounded MT Bold')\n",
    "    ax.set_title(title);\n",
    "    ax.set_xticks(theta_lc_mean_df.index)\n",
    "    x_ticks_labels = ['−4', '−3', '−2', '−1', '+1', '+2', '+3', '+4', '+5', '+6']\n",
    "    ax.set_xticklabels(x_ticks_labels, fontweight='bold')\n",
    "    #ax.set_xticks([])\n",
    "    ax.tick_params('x', length=0)\n",
    "    ax.set_ylim(ylim)\n",
    "    ax.set_xlim(xlim)\n",
    "    ax.set_ylabel(fr'- $\\Delta \\Delta G_\\mathrm{{{subscript}}}$' + '\\n(kcal/mol)', labelpad=0, va='bottom')\n",
    "#     for axis in ['top','bottom','left','right']:\n",
    "#         ax.spines[axis].set_linewidth(0.5)\n",
    "    ax.axvline(-.5, linestyle='--', color='k', linewidth=1)"
   ]
  },
  {
   "cell_type": "code",
   "execution_count": 6,
   "id": "00a52e79",
   "metadata": {
    "ExecuteTime": {
     "end_time": "2023-06-22T12:47:15.862729Z",
     "start_time": "2023-06-22T12:47:15.860810Z"
    }
   },
   "outputs": [
    {
     "data": {
      "text/plain": [
       "3.0864197530864197"
      ]
     },
     "execution_count": 6,
     "metadata": {},
     "output_type": "execute_result"
    }
   ],
   "source": [
    "5/1.62"
   ]
  },
  {
   "cell_type": "code",
   "execution_count": 7,
   "id": "f58b4408",
   "metadata": {
    "ExecuteTime": {
     "end_time": "2023-06-22T12:47:15.869457Z",
     "start_time": "2023-06-22T12:47:15.863430Z"
    },
    "code_folding": []
   },
   "outputs": [],
   "source": [
    "def plot_theta_intervals_horizontal(ax, theta_lc_samples, subscript):\n",
    "\n",
    "    # From logomaker\n",
    "    # See logomaker.src.colors.COLOR_SCHEME_DICT\n",
    "    char_to_color_dict = {'G': [1, 0.65, 0],\n",
    "                          'U': [1, 0, 0],\n",
    "                          'C': [0, 0, 1],\n",
    "                          'A': [0, 0.5, 0]}\n",
    "    \n",
    "    theta_lc_mean = theta_lc_samples.mean(axis=0)\n",
    "    theta_lc_hpdi = hpdi(theta_lc_samples, prob=.8, axis=0)\n",
    "    \n",
    "    xlim = [-4.6, 5.6]\n",
    "    #ylim = [-5, 5]\n",
    "    ylim = [-3, 3]\n",
    "    #yticks = [-5, 0, 5]\n",
    "    yticks = [-3, 0, 3]\n",
    "    \n",
    "    xticks = np.arange(-4,6)\n",
    "    xticklabels = []\n",
    "    bases = list('ACGU')\n",
    "    i=0\n",
    "    for xtick in xticks:\n",
    "        if xtick not in [0, 1]:\n",
    "            for j, base in enumerate(bases):\n",
    "                x = xtick + 0.25*(j-1.5)\n",
    "                y = theta_lc_mean[i,j]\n",
    "                y_clipped = np.clip(y, ylim[0]+.3, ylim[1]-.3)\n",
    "                if y!=y_clipped:\n",
    "                    marker_kwargs = dict(marker='s', markersize=4.5)\n",
    "                else:\n",
    "                    marker_kwargs = dict(marker='o', markersize=3)\n",
    "                y_lo = theta_lc_hpdi[0,i,j]\n",
    "                y_hi = theta_lc_hpdi[1,i,j]\n",
    "\n",
    "                color=char_to_color_dict[base]\n",
    "                ax.plot(x, y_clipped, color=color, **marker_kwargs)\n",
    "                ax.plot([x, x], [y_lo, y_hi], '-', linewidth=1, color=color)\n",
    "            \n",
    "                if i==0:\n",
    "                    ax.text(x=x-.05, y=ylim[1]-.3, s=base, ha='center', va='top', \n",
    "                            fontsize=6, color=color, fontweight='bold')\n",
    "            \n",
    "            i += 1\n",
    "            \n",
    "        if xtick==0:\n",
    "            ax.axvline(xtick-.5,linestyle='--', linewidth=1, color='k', zorder=-100)\n",
    "        elif xtick > -4:\n",
    "            ax.axvline(xtick-.5,linestyle=':', linewidth=.5, color='k', zorder=-100)\n",
    "        xticklabels.append(f'{xtick+(xtick>=0):+d}')\n",
    "    \n",
    "    ax.set(xticks=xticks, yticks=yticks)\n",
    "    ax.tick_params('x', length=0)\n",
    "    #ax.set_xticklabels(xticklabels)\n",
    "    ax.set_xticks([])\n",
    "    ax.set_xlim(xlim)\n",
    "    ax.set_ylim(ylim)\n",
    "    ax.set_ylabel(fr'- $\\Delta \\Delta G_\\mathrm{{{subscript}}}$' + '\\n(kcal/mol)', labelpad=0, va='bottom')\n",
    "    ax.axhline(0,linestyle=':', linewidth=.5, color='k', zorder=-100)"
   ]
  },
  {
   "cell_type": "code",
   "execution_count": 8,
   "id": "932d9556",
   "metadata": {
    "ExecuteTime": {
     "end_time": "2023-06-22T12:47:15.873783Z",
     "start_time": "2023-06-22T12:47:15.870461Z"
    }
   },
   "outputs": [],
   "source": [
    "def my_rsq(x_values, y_values):\n",
    "    correlation_matrix = np.corrcoef(x_values, y_values)\n",
    "    correlation_xy = correlation_matrix[0,1]\n",
    "    r_squared = correlation_xy**2\n",
    "    return r_squared\n",
    "\n",
    "def plot_scatter(ax, log_x, log_y, xlim, ylim, title='', **kwargs):\n",
    "    \n",
    "    rsq = my_rsq(log_x, log_y)\n",
    "    x = np.exp(np.array(log_x))\n",
    "    y = np.exp(np.array(log_y))\n",
    "    ax.scatter(x,y, alpha=.5, linewidth=0, s=10)\n",
    "    dy = ylim[1]/ylim[0]\n",
    "    dx = xlim[1]/xlim[0]\n",
    "    ax.plot(xlim, xlim, '--k', linewidth=.5)\n",
    "    ax.set(xlim=xlim,\n",
    "           ylim=ylim,\n",
    "           **kwargs)\n",
    "    ax.set_title(title)\n",
    "    ax.set_xscale('log')\n",
    "    ax.set_yscale('log')\n",
    "    ax.text(s=f'$R^2$: {rsq:.3f}',\n",
    "           x=xlim[0]*(dx**.02), y=ylim[1]/(dy**.02), ha='left', va='top', fontsize=7)\n",
    "     "
   ]
  },
  {
   "cell_type": "code",
   "execution_count": 9,
   "id": "153302cd",
   "metadata": {
    "ExecuteTime": {
     "end_time": "2023-06-22T12:47:15.914224Z",
     "start_time": "2023-06-22T12:47:15.876378Z"
    }
   },
   "outputs": [],
   "source": [
    "# Process stored info\n",
    "\n",
    "# conversion facto\n",
    "conv_factor = 1/1.62 # put into units of kcal/mol\n",
    "\n",
    "# Get theta_lc samples and fix gauge\n",
    "theta_lc_samples_ris = np.array(mcmc_samples['theta_lc_ris'])\n",
    "theta_lc_samples_ris = theta_lc_samples_ris - theta_lc_samples_ris.mean(axis=2)[:,:,np.newaxis]\n",
    "theta_lc_samples_ris *= conv_factor\n",
    "\n",
    "theta_lc_samples_hyp = np.array(mcmc_samples['theta_lc_hyp'])\n",
    "theta_lc_samples_hyp = theta_lc_samples_hyp - theta_lc_samples_hyp.mean(axis=2)[:,:,np.newaxis]\n",
    "theta_lc_samples_hyp *= conv_factor\n",
    "\n",
    "# log_E (measured vs. predicted) for risdiplam, branaplam\n",
    "ix = measurement_df['use_for_rnaseq_fit']\n",
    "\n",
    "log_E_ris_model = np.log(np.array(mcmc_samples['E_ris'].mean(axis=0)))[ix]\n",
    "log_E_ris_data = measurement_df['log_E_risdiplam'].values[ix]\n",
    "\n",
    "log_E_bra_model = np.log(np.array(mcmc_samples['E_bra'].mean(axis=0)))[ix]\n",
    "log_E_bra_data = measurement_df['log_E_branaplam'].values[ix]\n",
    "\n",
    "# log_psi (measured vs. predicted) for risdiplam, branaplam\n",
    "ix = measurement_df['use_for_mpsa_fit']\n",
    "\n",
    "log_psi_ris_model = np.array(mcmc_samples['log_psi_ris'].mean(axis=0))[ix]\n",
    "log_psi_ris_data = measurement_df['log_psi_risdiplam'].values[ix]\n",
    "\n",
    "log_psi_bra_model = np.array(mcmc_samples['log_psi_bra'].mean(axis=0))[ix]\n",
    "log_psi_bra_data = measurement_df['log_psi_branaplam'].values[ix]"
   ]
  },
  {
   "cell_type": "code",
   "execution_count": 10,
   "id": "a2cb0e0f",
   "metadata": {
    "ExecuteTime": {
     "end_time": "2023-06-22T12:47:18.153429Z",
     "start_time": "2023-06-22T12:47:15.915052Z"
    }
   },
   "outputs": [
    {
     "name": "stdout",
     "output_type": "stream",
     "text": [
      "Figure saved to figS6.pdf\n"
     ]
    },
    {
     "data": {
      "image/png": "[encoded data removed]",
      "text/plain": [
       "<Figure size 650x375 with 8 Axes>"
      ]
     },
     "metadata": {},
     "output_type": "display_data"
    }
   ],
   "source": [
    "# Plot logos together with theta intervals\n",
    "from matplotlib.gridspec import GridSpec\n",
    "\n",
    "fig = plt.figure(figsize=[6.5,3.75])\n",
    "\n",
    "#gs1 = GridSpec(2, 2, top=.94, bottom=0.50, left=.07, right=.98, wspace=0.2, hspace=.25)\n",
    "gs1 = GridSpec(2, 2, top=.48, bottom=0.05, left=.08, right=.98, wspace=0.3, hspace=.25)\n",
    "\n",
    "plot_theta_logo(theta_lc_samples=theta_lc_samples_ris, \n",
    "                ax=fig.add_subplot(gs1[0,0]), \n",
    "                title='risdiplam energy motif',\n",
    "                subscript='ris')\n",
    "plot_theta_intervals_horizontal(\n",
    "                ax=fig.add_subplot(gs1[1,0]), \n",
    "                theta_lc_samples=theta_lc_samples_ris,\n",
    "                subscript='ris')\n",
    "\n",
    "if model_type == 'A':\n",
    "    title = 'hyper-activation energy motif'\n",
    "    subscript='hyp'\n",
    "# elif model_type == 'B':\n",
    "#     title = 'bra motif − ris motif'\n",
    "elif model_type == 'C':\n",
    "    title = 'branaplam energy motif'\n",
    "    subscript='bran'\n",
    "\n",
    "plot_theta_logo(theta_lc_samples=theta_lc_samples_hyp, \n",
    "                ax=fig.add_subplot(gs1[0,1]), \n",
    "                title=title,\n",
    "                subscript=subscript)\n",
    "plot_theta_intervals_horizontal(\n",
    "                ax=fig.add_subplot(gs1[1,1]), \n",
    "                theta_lc_samples=theta_lc_samples_hyp,\n",
    "                subscript=subscript)\n",
    "\n",
    "rnaseq_kwargs = dict(xlim=[.3,1000],\n",
    "                     ylim=[.3,3000],\n",
    "                     xticks=[1, 10, 100, 1000],\n",
    "                     yticks=[1, 10, 100, 1000],\n",
    "                     xlabel='predicted $E$',\n",
    "                     ylabel='measured $E$',)\n",
    "\n",
    "mpsa_kwargs = dict(xlim=[.3,300],\n",
    "                   ylim=[.3,300],\n",
    "                   xticks=[1, 10, 100],\n",
    "                   yticks=[1, 10, 100],\n",
    "                   xlabel='predicted PSI',\n",
    "                   ylabel='measured PSI',)\n",
    "\n",
    "#gs2 = GridSpec(1, 4, top=.40, bottom=0.1, left=.07, right=.98, wspace=0.5)\n",
    "gs2 = GridSpec(1, 4, top=.95, bottom=0.68, left=.07, right=.98, wspace=0.6)\n",
    "\n",
    "plot_scatter(ax=fig.add_subplot(gs2[0,0]),\n",
    "             log_x=log_E_ris_model,\n",
    "             log_y=log_E_ris_data,\n",
    "             title='risdiplam, RNA-seq',\n",
    "             **rnaseq_kwargs)\n",
    "    \n",
    "plot_scatter(ax=fig.add_subplot(gs2[0,1]),\n",
    "             log_x=log_psi_ris_model,\n",
    "             log_y=log_psi_ris_data,\n",
    "             title='risdiplam, MPSA',\n",
    "             **mpsa_kwargs)\n",
    "    \n",
    "plot_scatter(ax=fig.add_subplot(gs2[0,2]),\n",
    "             log_x=log_E_bra_model,\n",
    "             log_y=log_E_bra_data,\n",
    "             title='branaplam, RNA-seq',\n",
    "             **rnaseq_kwargs)\n",
    "\n",
    "plot_scatter(ax=fig.add_subplot(gs2[0,3]),\n",
    "             log_x=log_psi_bra_model,\n",
    "             log_y=log_psi_bra_data,\n",
    "             title='branaplam, MPSA',\n",
    "             **mpsa_kwargs)\n",
    "\n",
    "if model_type=='A':\n",
    "    file_name = 'fig3C-H.pdf'\n",
    "elif model_type=='C':\n",
    "    file_name = 'figS6.pdf'\n",
    "print(f'Figure saved to {file_name}')\n",
    "fig.savefig(file_name)"
   ]
  },
  {
   "cell_type": "code",
   "execution_count": null,
   "id": "375f9c77",
   "metadata": {},
   "outputs": [],
   "source": []
  },
  {
   "cell_type": "code",
   "execution_count": null,
   "id": "b7983166",
   "metadata": {},
   "outputs": [],
   "source": []
  }
 ],
 "metadata": {
  "kernelspec": {
   "display_name": "Python 3 (ipykernel)",
   "language": "python",
   "name": "python3"
  },
  "language_info": {
   "codemirror_mode": {
    "name": "ipython",
    "version": 3
   },
   "file_extension": ".py",
   "mimetype": "text/x-python",
   "name": "python",
   "nbconvert_exporter": "python",
   "pygments_lexer": "ipython3",
   "version": "3.10.11"
  },
  "varInspector": {
   "cols": {
    "lenName": 16,
    "lenType": 16,
    "lenVar": 40
   },
   "kernels_config": {
    "python": {
     "delete_cmd_postfix": "",
     "delete_cmd_prefix": "del ",
     "library": "var_list.py",
     "varRefreshCmd": "print(var_dic_list())"
    },
    "r": {
     "delete_cmd_postfix": ") ",
     "delete_cmd_prefix": "rm(",
     "library": "var_list.r",
     "varRefreshCmd": "cat(var_dic_list()) "
    }
   },
   "types_to_exclude": [
    "module",
    "function",
    "builtin_function_or_method",
    "instance",
    "_Feature"
   ],
   "window_display": false
  }
 },
 "nbformat": 4,
 "nbformat_minor": 5
}
